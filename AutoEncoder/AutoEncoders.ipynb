{
  "nbformat": 4,
  "nbformat_minor": 0,
  "metadata": {
    "colab": {
      "name": "AutoEncoders.ipynb",
      "provenance": []
    },
    "kernelspec": {
      "name": "python3",
      "display_name": "Python 3"
    },
    "accelerator": "GPU"
  },
  "cells": [
    {
      "cell_type": "code",
      "metadata": {
        "id": "I0hrZOlzD1UO",
        "colab_type": "code",
        "colab": {
          "base_uri": "https://localhost:8080/",
          "height": 33
        },
        "outputId": "e9313471-126e-4e10-d5e1-3eda878146a6"
      },
      "source": [
        "%tensorflow_version 2.x\n"
      ],
      "execution_count": null,
      "outputs": [
        {
          "output_type": "stream",
          "text": [
            "TensorFlow 2.x selected.\n"
          ],
          "name": "stdout"
        }
      ]
    },
    {
      "cell_type": "code",
      "metadata": {
        "id": "48w5c-x1EEUA",
        "colab_type": "code",
        "colab": {
          "base_uri": "https://localhost:8080/",
          "height": 33
        },
        "outputId": "a74c7546-98ee-4678-8233-a8934b5bde8a"
      },
      "source": [
        "import tensorflow as tf\n",
        "from keras import layers\n",
        "from tensorflow import keras\n",
        "import numpy as np"
      ],
      "execution_count": null,
      "outputs": [
        {
          "output_type": "stream",
          "text": [
            "Using TensorFlow backend.\n"
          ],
          "name": "stderr"
        }
      ]
    },
    {
      "cell_type": "code",
      "metadata": {
        "id": "0P6ohYQnEJlY",
        "colab_type": "code",
        "colab": {}
      },
      "source": [
        "cifar = tf.keras.datasets.cifar10\n",
        "(x_train,y_train),(x_test,y_test) = cifar.load_data()"
      ],
      "execution_count": null,
      "outputs": []
    },
    {
      "cell_type": "code",
      "metadata": {
        "id": "BVOovGrrEhrV",
        "colab_type": "code",
        "colab": {
          "base_uri": "https://localhost:8080/",
          "height": 176
        },
        "outputId": "e35d7f3f-6cde-424d-efde-1da3bf074d3b"
      },
      "source": [
        "import matplotlib.pyplot as plt\n",
        "plt.figure(figsize=(2,2))\n",
        "plt.imshow(x_train[0], cmap=\"Greys_r\")"
      ],
      "execution_count": null,
      "outputs": [
        {
          "output_type": "execute_result",
          "data": {
            "text/plain": [
              "<matplotlib.image.AxesImage at 0x7f3f96b9ca58>"
            ]
          },
          "metadata": {
            "tags": []
          },
          "execution_count": 4
        },
        {
          "output_type": "display_data",
          "data": {
            "image/png": "[encoded data removed]",
            "text/plain": [
              "<Figure size 144x144 with 1 Axes>"
            ]
          },
          "metadata": {
            "tags": []
          }
        }
      ]
    },
    {
      "cell_type": "code",
      "metadata": {
        "id": "GUw7_OTOE86f",
        "colab_type": "code",
        "colab": {}
      },
      "source": [
        "data2 = tf.data.Dataset.from_tensor_slices((tf.reshape(x_train,[-1,32,32,3])/255,y_train))"
      ],
      "execution_count": null,
      "outputs": []
    },
    {
      "cell_type": "code",
      "metadata": {
        "id": "AbKnmWdqF0sp",
        "colab_type": "code",
        "colab": {}
      },
      "source": [
        "data = data2.shuffle(buffer_size=30000).batch(128).repeat(300)\n",
        "test_data = x_test.reshape([-1, 32, 32, 3]).astype(np.float32) / 255\n",
        "test_lbl = y_test.astype(np.int32)"
      ],
      "execution_count": null,
      "outputs": []
    },
    {
      "cell_type": "code",
      "metadata": {
        "id": "U3Gfh91DGL-M",
        "colab_type": "code",
        "colab": {}
      },
      "source": [
        "def model(batch_size):\n",
        "  layers = [keras.layers.Flatten(input_shape=(32,32,3),batch_size=batch_size),\n",
        "            keras.layers.Dense(128,activation=\"relu\"),\n",
        "            keras.layers.Dense(64,activation='relu'),\n",
        "            keras.layers.Dense(3072,activation=\"sigmoid\"),\n",
        "            keras.layers.Flatten()]\n",
        "  return keras.Sequential(layers)"
      ],
      "execution_count": null,
      "outputs": []
    },
    {
      "cell_type": "markdown",
      "metadata": {
        "id": "dDJaE2_woN3T",
        "colab_type": "text"
      },
      "source": [
        "**For Neuralnetwork**"
      ]
    },
    {
      "cell_type": "code",
      "metadata": {
        "id": "cwOtuB1SGBjz",
        "colab_type": "code",
        "colab": {}
      },
      "source": [
        "\n",
        "def training(loss_fn2,train_acc_metric2,model):\n",
        "  training_steps = 1000\n",
        "  opt = tf.optimizers.Adam(learning_rate=.001)\n",
        "  loss_fn = loss_fn2\n",
        "  train_acc_metric = train_acc_metric2\n",
        "  for step,(img_batch,lbl_batch) in enumerate(data):\n",
        "    with tf.GradientTape() as tape:\n",
        "      logits = model(img_batch)\n",
        "      xent = loss_fn(tf.reshape(img_batch,[-1,3072]),logits)\n",
        "    varis = model.trainable_variables\n",
        "    grads = tape.gradient(xent, varis)\n",
        "    opt.apply_gradients(zip(grads, varis))\n",
        "\n",
        "    train_acc_metric(lbl_batch, logits)\n",
        "    if not step % 5:\n",
        "      print(\"Loss: {} Accuracy: {}\".format(xent, train_acc_metric.result()))\n",
        "      train_acc_metric.reset_states()\n",
        "  "
      ],
      "execution_count": null,
      "outputs": []
    },
    {
      "cell_type": "code",
      "metadata": {
        "id": "hBfrV53OYmB9",
        "colab_type": "code",
        "colab": {}
      },
      "source": [
        ""
      ],
      "execution_count": null,
      "outputs": []
    },
    {
      "cell_type": "code",
      "metadata": {
        "id": "3QPEKXFxNfLJ",
        "colab_type": "code",
        "colab": {}
      },
      "source": [
        "# training(loss_fn1,train_acc_metric1,model(128))"
      ],
      "execution_count": null,
      "outputs": []
    },
    {
      "cell_type": "markdown",
      "metadata": {
        "id": "AafQaguJoS1u",
        "colab_type": "text"
      },
      "source": [
        "**AutoEncoder**\n",
        "\n",
        "\n",
        "*   tf.losses.MeanSquaredError()\n",
        "\n",
        "*   tf.keras.metrics.MeanSquaredError()\n",
        "\n"
      ]
    },
    {
      "cell_type": "code",
      "metadata": {
        "id": "m2HwFVS0xp0s",
        "colab_type": "code",
        "colab": {}
      },
      "source": [
        "def model_cnn(batch_size):\n",
        "  layers = [keras.layers.Input(shape=(32,32,3),batch_size=batch_size),\n",
        "            keras.layers.Conv2D(32,3,padding='valid',activation=\"relu\"),\n",
        "            keras.layers.Conv2D(32,3,padding='same',activation=\"relu\"),\n",
        "            keras.layers.MaxPooling2D(),\n",
        "            keras.layers.Conv2D(64,3,activation='relu'),\n",
        "            keras.layers.MaxPooling2D(),\n",
        "            keras.layers.Dropout(.25),\n",
        "            keras.layers.Conv2D(128,3,activation='relu'),\n",
        "            keras.layers.UpSampling2D(),\n",
        "            keras.layers.Conv2D(64,3,padding='same',activation='relu'),\n",
        "            keras.layers.UpSampling2D(),\n",
        "            keras.layers.Dropout(.25),\n",
        "            keras.layers.Conv2D(32,3,padding='same',activation='relu'),\n",
        "            keras.layers.UpSampling2D(),\n",
        "            keras.layers.Conv2D(3,3,padding='same',activation='sigmoid')\n",
        "            ]\n",
        "  return keras.Sequential(layers)\n"
      ],
      "execution_count": null,
      "outputs": []
    },
    {
      "cell_type": "code",
      "metadata": {
        "id": "_ngsa5-loJX8",
        "colab_type": "code",
        "colab": {}
      },
      "source": [
        "loss_fn1 = tf.losses.MeanSquaredError()\n",
        "train_acc_metric1 = tf.keras.metrics.MeanSquaredError()\n",
        "def training_cnn(loss_fn2,train_acc_metric2,model):\n",
        "  training_steps = 1000\n",
        "  opt = tf.optimizers.Adam(learning_rate=.001)\n",
        "  loss_fn = loss_fn2\n",
        "  train_acc_metric = train_acc_metric2\n",
        "  for step,(img_batch,lbl_batch) in enumerate(data):\n",
        "    with tf.GradientTape() as tape:\n",
        "      logits = model(img_batch)\n",
        "      xent = loss_fn(img_batch,logits)\n",
        "    varis = model.trainable_variables\n",
        "    grads = tape.gradient(xent, varis)\n",
        "    opt.apply_gradients(zip(grads, varis))\n",
        "    train_acc_metric(img_batch, logits)\n",
        "    if not step % 100:\n",
        "      print(\"Loss: {} Accuracy: {}\".format(xent, train_acc_metric.result()))\n",
        "      train_acc_metric.reset_states()\n",
        "  "
      ],
      "execution_count": null,
      "outputs": []
    },
    {
      "cell_type": "code",
      "metadata": {
        "id": "ABcZCRVwY1x_",
        "colab_type": "code",
        "colab": {
          "base_uri": "https://localhost:8080/",
          "height": 1000
        },
        "outputId": "933c4c34-35f4-47a1-8219-71d2b911e72e"
      },
      "source": [
        "model = model_cnn(128)\n",
        "training_cnn(loss_fn1,train_acc_metric1,model)"
      ],
      "execution_count": null,
      "outputs": [
        {
          "output_type": "stream",
          "text": [
            "Loss: 0.06489410251379013 Accuracy: 0.06489410251379013\n",
            "Loss: 0.02567388489842415 Accuracy: 0.03688529506325722\n",
            "Loss: 0.02422798052430153 Accuracy: 0.024039294570684433\n",
            "Loss: 0.019758034497499466 Accuracy: 0.020636701956391335\n",
            "WARNING:tensorflow:Model was constructed with shape Tensor(\"input_1:0\", shape=(128, 32, 32, 3), dtype=float32) for input (128, 32, 32, 3), but it was re-called on a Tensor with incompatible shape (80, 32, 32, 3).\n",
            "Loss: 0.017546892166137695 Accuracy: 0.018166447058320045\n",
            "Loss: 0.015378812327980995 Accuracy: 0.01656343974173069\n",
            "Loss: 0.015959810465574265 Accuracy: 0.015332203358411789\n",
            "Loss: 0.01546432077884674 Accuracy: 0.014711813069880009\n",
            "WARNING:tensorflow:Model was constructed with shape Tensor(\"input_1:0\", shape=(128, 32, 32, 3), dtype=float32) for input (128, 32, 32, 3), but it was re-called on a Tensor with incompatible shape (80, 32, 32, 3).\n",
            "Loss: 0.013479698449373245 Accuracy: 0.013892416842281818\n",
            "Loss: 0.013312693685293198 Accuracy: 0.013509321957826614\n",
            "Loss: 0.01319532748311758 Accuracy: 0.013259287923574448\n",
            "Loss: 0.01509890891611576 Accuracy: 0.012731125578284264\n",
            "WARNING:tensorflow:Model was constructed with shape Tensor(\"input_1:0\", shape=(128, 32, 32, 3), dtype=float32) for input (128, 32, 32, 3), but it was re-called on a Tensor with incompatible shape (80, 32, 32, 3).\n",
            "Loss: 0.011633035726845264 Accuracy: 0.012502234429121017\n",
            "Loss: 0.011825261637568474 Accuracy: 0.012195063754916191\n",
            "Loss: 0.011891407892107964 Accuracy: 0.011834281496703625\n",
            "Loss: 0.010639123618602753 Accuracy: 0.011687230318784714\n",
            "WARNING:tensorflow:Model was constructed with shape Tensor(\"input_1:0\", shape=(128, 32, 32, 3), dtype=float32) for input (128, 32, 32, 3), but it was re-called on a Tensor with incompatible shape (80, 32, 32, 3).\n",
            "Loss: 0.011956097558140755 Accuracy: 0.01150878332555294\n",
            "Loss: 0.011647941544651985 Accuracy: 0.011301614344120026\n",
            "Loss: 0.01099425833672285 Accuracy: 0.011112629435956478\n",
            "Loss: 0.01098929438740015 Accuracy: 0.011043574661016464\n",
            "WARNING:tensorflow:Model was constructed with shape Tensor(\"input_1:0\", shape=(128, 32, 32, 3), dtype=float32) for input (128, 32, 32, 3), but it was re-called on a Tensor with incompatible shape (80, 32, 32, 3).\n",
            "Loss: 0.012659888714551926 Accuracy: 0.010983883403241634\n",
            "Loss: 0.009645519778132439 Accuracy: 0.010903622023761272\n",
            "Loss: 0.009624659083783627 Accuracy: 0.0105264438316226\n",
            "Loss: 0.011324042454361916 Accuracy: 0.010466640815138817\n",
            "WARNING:tensorflow:Model was constructed with shape Tensor(\"input_1:0\", shape=(128, 32, 32, 3), dtype=float32) for input (128, 32, 32, 3), but it was re-called on a Tensor with incompatible shape (80, 32, 32, 3).\n",
            "Loss: 0.010646764189004898 Accuracy: 0.010471515357494354\n",
            "Loss: 0.009829525835812092 Accuracy: 0.010322879999876022\n",
            "Loss: 0.010334327816963196 Accuracy: 0.010382217355072498\n",
            "Loss: 0.010684113949537277 Accuracy: 0.010176455602049828\n",
            "WARNING:tensorflow:Model was constructed with shape Tensor(\"input_1:0\", shape=(128, 32, 32, 3), dtype=float32) for input (128, 32, 32, 3), but it was re-called on a Tensor with incompatible shape (80, 32, 32, 3).\n",
            "Loss: 0.009855243377387524 Accuracy: 0.01009111013263464\n",
            "Loss: 0.01020506676286459 Accuracy: 0.010069523006677628\n",
            "Loss: 0.009652407839894295 Accuracy: 0.00996281299740076\n",
            "Loss: 0.009760532528162003 Accuracy: 0.009913093410432339\n",
            "WARNING:tensorflow:Model was constructed with shape Tensor(\"input_1:0\", shape=(128, 32, 32, 3), dtype=float32) for input (128, 32, 32, 3), but it was re-called on a Tensor with incompatible shape (80, 32, 32, 3).\n",
            "Loss: 0.009745428338646889 Accuracy: 0.009787573479115963\n",
            "Loss: 0.00995420292019844 Accuracy: 0.009741876274347305\n",
            "Loss: 0.010114864446222782 Accuracy: 0.009777864441275597\n",
            "Loss: 0.008974281139671803 Accuracy: 0.00959628913551569\n",
            "WARNING:tensorflow:Model was constructed with shape Tensor(\"input_1:0\", shape=(128, 32, 32, 3), dtype=float32) for input (128, 32, 32, 3), but it was re-called on a Tensor with incompatible shape (80, 32, 32, 3).\n",
            "Loss: 0.010196967050433159 Accuracy: 0.009662854485213757\n",
            "Loss: 0.009646961465477943 Accuracy: 0.009439771063625813\n",
            "Loss: 0.01043752022087574 Accuracy: 0.009611494839191437\n",
            "Loss: 0.00920778140425682 Accuracy: 0.009497502818703651\n",
            "WARNING:tensorflow:Model was constructed with shape Tensor(\"input_1:0\", shape=(128, 32, 32, 3), dtype=float32) for input (128, 32, 32, 3), but it was re-called on a Tensor with incompatible shape (80, 32, 32, 3).\n",
            "Loss: 0.009453184902668 Accuracy: 0.009527190588414669\n",
            "Loss: 0.009829575195908546 Accuracy: 0.00941457599401474\n",
            "Loss: 0.00911601074039936 Accuracy: 0.009209081530570984\n",
            "WARNING:tensorflow:Model was constructed with shape Tensor(\"input_1:0\", shape=(128, 32, 32, 3), dtype=float32) for input (128, 32, 32, 3), but it was re-called on a Tensor with incompatible shape (80, 32, 32, 3).\n",
            "Loss: 0.008593373000621796 Accuracy: 0.00933659728616476\n",
            "Loss: 0.00891396775841713 Accuracy: 0.009200911968946457\n",
            "Loss: 0.009616328403353691 Accuracy: 0.009102451615035534\n",
            "Loss: 0.009079953655600548 Accuracy: 0.009223696775734425\n",
            "WARNING:tensorflow:Model was constructed with shape Tensor(\"input_1:0\", shape=(128, 32, 32, 3), dtype=float32) for input (128, 32, 32, 3), but it was re-called on a Tensor with incompatible shape (80, 32, 32, 3).\n",
            "Loss: 0.010343069210648537 Accuracy: 0.009173352271318436\n",
            "Loss: 0.009300858713686466 Accuracy: 0.009033754467964172\n",
            "Loss: 0.00957113690674305 Accuracy: 0.008933358825743198\n",
            "Loss: 0.008840431459248066 Accuracy: 0.008938281796872616\n",
            "WARNING:tensorflow:Model was constructed with shape Tensor(\"input_1:0\", shape=(128, 32, 32, 3), dtype=float32) for input (128, 32, 32, 3), but it was re-called on a Tensor with incompatible shape (80, 32, 32, 3).\n",
            "Loss: 0.008210068568587303 Accuracy: 0.008996844291687012\n",
            "Loss: 0.008660871535539627 Accuracy: 0.00885897595435381\n",
            "Loss: 0.00869818776845932 Accuracy: 0.00883997231721878\n",
            "Loss: 0.00896940566599369 Accuracy: 0.008923384360969067\n",
            "WARNING:tensorflow:Model was constructed with shape Tensor(\"input_1:0\", shape=(128, 32, 32, 3), dtype=float32) for input (128, 32, 32, 3), but it was re-called on a Tensor with incompatible shape (80, 32, 32, 3).\n",
            "Loss: 0.008561843074858189 Accuracy: 0.008854352869093418\n",
            "Loss: 0.0083719901740551 Accuracy: 0.00875965878367424\n",
            "Loss: 0.008840005844831467 Accuracy: 0.008785574696958065\n",
            "Loss: 0.008394487202167511 Accuracy: 0.008710616268217564\n",
            "WARNING:tensorflow:Model was constructed with shape Tensor(\"input_1:0\", shape=(128, 32, 32, 3), dtype=float32) for input (128, 32, 32, 3), but it was re-called on a Tensor with incompatible shape (80, 32, 32, 3).\n",
            "Loss: 0.00846705213189125 Accuracy: 0.00877092219889164\n",
            "Loss: 0.008715623989701271 Accuracy: 0.008752180263400078\n",
            "Loss: 0.009433697909116745 Accuracy: 0.008593430742621422\n",
            "Loss: 0.00825563631951809 Accuracy: 0.008599636144936085\n",
            "WARNING:tensorflow:Model was constructed with shape Tensor(\"input_1:0\", shape=(128, 32, 32, 3), dtype=float32) for input (128, 32, 32, 3), but it was re-called on a Tensor with incompatible shape (80, 32, 32, 3).\n",
            "Loss: 0.008613642305135727 Accuracy: 0.008783048950135708\n",
            "Loss: 0.008013337850570679 Accuracy: 0.008459348231554031\n",
            "Loss: 0.008551307022571564 Accuracy: 0.008538109250366688\n",
            "Loss: 0.0081552155315876 Accuracy: 0.008542434312403202\n",
            "WARNING:tensorflow:Model was constructed with shape Tensor(\"input_1:0\", shape=(128, 32, 32, 3), dtype=float32) for input (128, 32, 32, 3), but it was re-called on a Tensor with incompatible shape (80, 32, 32, 3).\n",
            "Loss: 0.00802422035485506 Accuracy: 0.00860240776091814\n",
            "Loss: 0.008152889087796211 Accuracy: 0.008452502079308033\n",
            "Loss: 0.008579133078455925 Accuracy: 0.008473844267427921\n",
            "Loss: 0.008524890057742596 Accuracy: 0.008303425274789333\n",
            "WARNING:tensorflow:Model was constructed with shape Tensor(\"input_1:0\", shape=(128, 32, 32, 3), dtype=float32) for input (128, 32, 32, 3), but it was re-called on a Tensor with incompatible shape (80, 32, 32, 3).\n",
            "Loss: 0.008132842369377613 Accuracy: 0.008649743162095547\n",
            "Loss: 0.008500989526510239 Accuracy: 0.008394765667617321\n",
            "Loss: 0.007964788004755974 Accuracy: 0.008348542265594006\n",
            "Loss: 0.008040483109652996 Accuracy: 0.008195452392101288\n",
            "WARNING:tensorflow:Model was constructed with shape Tensor(\"input_1:0\", shape=(128, 32, 32, 3), dtype=float32) for input (128, 32, 32, 3), but it was re-called on a Tensor with incompatible shape (80, 32, 32, 3).\n",
            "Loss: 0.008015474304556847 Accuracy: 0.00831625983119011\n",
            "Loss: 0.008027255535125732 Accuracy: 0.008266267366707325\n",
            "Loss: 0.008531447499990463 Accuracy: 0.00834556296467781\n",
            "Loss: 0.008645704947412014 Accuracy: 0.008176052942872047\n",
            "WARNING:tensorflow:Model was constructed with shape Tensor(\"input_1:0\", shape=(128, 32, 32, 3), dtype=float32) for input (128, 32, 32, 3), but it was re-called on a Tensor with incompatible shape (80, 32, 32, 3).\n",
            "Loss: 0.007913758046925068 Accuracy: 0.008266371674835682\n",
            "Loss: 0.007672268431633711 Accuracy: 0.008265906013548374\n",
            "Loss: 0.007672416046261787 Accuracy: 0.008146910928189754\n",
            "Loss: 0.008444501087069511 Accuracy: 0.008171486668288708\n",
            "WARNING:tensorflow:Model was constructed with shape Tensor(\"input_1:0\", shape=(128, 32, 32, 3), dtype=float32) for input (128, 32, 32, 3), but it was re-called on a Tensor with incompatible shape (80, 32, 32, 3).\n",
            "Loss: 0.007999015040695667 Accuracy: 0.008136865682899952\n",
            "Loss: 0.007472168654203415 Accuracy: 0.008139495737850666\n",
            "Loss: 0.008503476157784462 Accuracy: 0.00807990413159132\n",
            "Loss: 0.008051321841776371 Accuracy: 0.008054530248045921\n",
            "WARNING:tensorflow:Model was constructed with shape Tensor(\"input_1:0\", shape=(128, 32, 32, 3), dtype=float32) for input (128, 32, 32, 3), but it was re-called on a Tensor with incompatible shape (80, 32, 32, 3).\n",
            "Loss: 0.00826652254909277 Accuracy: 0.008154413662850857\n",
            "Loss: 0.0077172210440039635 Accuracy: 0.00796295702457428\n",
            "Loss: 0.007830195128917694 Accuracy: 0.008097298443317413\n",
            "WARNING:tensorflow:Model was constructed with shape Tensor(\"input_1:0\", shape=(128, 32, 32, 3), dtype=float32) for input (128, 32, 32, 3), but it was re-called on a Tensor with incompatible shape (80, 32, 32, 3).\n",
            "Loss: 0.008607165887951851 Accuracy: 0.00812107976526022\n",
            "Loss: 0.007599947974085808 Accuracy: 0.007993742823600769\n",
            "Loss: 0.007806336507201195 Accuracy: 0.007974167354404926\n",
            "Loss: 0.007800783030688763 Accuracy: 0.008050062693655491\n",
            "WARNING:tensorflow:Model was constructed with shape Tensor(\"input_1:0\", shape=(128, 32, 32, 3), dtype=float32) for input (128, 32, 32, 3), but it was re-called on a Tensor with incompatible shape (80, 32, 32, 3).\n",
            "Loss: 0.007908967323601246 Accuracy: 0.007951634004712105\n",
            "Loss: 0.008593440055847168 Accuracy: 0.007948456332087517\n",
            "Loss: 0.007383115589618683 Accuracy: 0.007874570786952972\n",
            "Loss: 0.008305087685585022 Accuracy: 0.007840746082365513\n",
            "WARNING:tensorflow:Model was constructed with shape Tensor(\"input_1:0\", shape=(128, 32, 32, 3), dtype=float32) for input (128, 32, 32, 3), but it was re-called on a Tensor with incompatible shape (80, 32, 32, 3).\n",
            "Loss: 0.007517639547586441 Accuracy: 0.007980979979038239\n",
            "Loss: 0.007020206656306982 Accuracy: 0.007887319661676884\n",
            "Loss: 0.007950913161039352 Accuracy: 0.007853864692151546\n",
            "Loss: 0.007407637313008308 Accuracy: 0.0078481025993824\n",
            "WARNING:tensorflow:Model was constructed with shape Tensor(\"input_1:0\", shape=(128, 32, 32, 3), dtype=float32) for input (128, 32, 32, 3), but it was re-called on a Tensor with incompatible shape (80, 32, 32, 3).\n",
            "Loss: 0.007432546466588974 Accuracy: 0.007794880773872137\n",
            "Loss: 0.008291777223348618 Accuracy: 0.00781305506825447\n",
            "Loss: 0.00852426327764988 Accuracy: 0.00784387905150652\n",
            "Loss: 0.0076872981153428555 Accuracy: 0.0077277314849197865\n",
            "WARNING:tensorflow:Model was constructed with shape Tensor(\"input_1:0\", shape=(128, 32, 32, 3), dtype=float32) for input (128, 32, 32, 3), but it was re-called on a Tensor with incompatible shape (80, 32, 32, 3).\n",
            "Loss: 0.008051564916968346 Accuracy: 0.0077998884953558445\n",
            "Loss: 0.007288338616490364 Accuracy: 0.007773241959512234\n",
            "Loss: 0.007970158942043781 Accuracy: 0.007803632412105799\n",
            "Loss: 0.00828557275235653 Accuracy: 0.007701490540057421\n",
            "WARNING:tensorflow:Model was constructed with shape Tensor(\"input_1:0\", shape=(128, 32, 32, 3), dtype=float32) for input (128, 32, 32, 3), but it was re-called on a Tensor with incompatible shape (80, 32, 32, 3).\n",
            "Loss: 0.00795818492770195 Accuracy: 0.007757455110549927\n",
            "Loss: 0.007234546821564436 Accuracy: 0.007704788353294134\n",
            "Loss: 0.008011365309357643 Accuracy: 0.007719030603766441\n",
            "Loss: 0.007362266071140766 Accuracy: 0.0076409452594816685\n",
            "WARNING:tensorflow:Model was constructed with shape Tensor(\"input_1:0\", shape=(128, 32, 32, 3), dtype=float32) for input (128, 32, 32, 3), but it was re-called on a Tensor with incompatible shape (80, 32, 32, 3).\n",
            "Loss: 0.007479184307157993 Accuracy: 0.0076966434717178345\n",
            "Loss: 0.007706349715590477 Accuracy: 0.007725057657808065\n",
            "Loss: 0.007534592412412167 Accuracy: 0.0076187183149158955\n",
            "Loss: 0.007451334968209267 Accuracy: 0.007623600773513317\n",
            "WARNING:tensorflow:Model was constructed with shape Tensor(\"input_1:0\", shape=(128, 32, 32, 3), dtype=float32) for input (128, 32, 32, 3), but it was re-called on a Tensor with incompatible shape (80, 32, 32, 3).\n",
            "Loss: 0.007635417860001326 Accuracy: 0.00758058438077569\n",
            "Loss: 0.007537925615906715 Accuracy: 0.007631395943462849\n",
            "Loss: 0.00723551120609045 Accuracy: 0.007686560973525047\n",
            "Loss: 0.007853477261960506 Accuracy: 0.007579228840768337\n",
            "WARNING:tensorflow:Model was constructed with shape Tensor(\"input_1:0\", shape=(128, 32, 32, 3), dtype=float32) for input (128, 32, 32, 3), but it was re-called on a Tensor with incompatible shape (80, 32, 32, 3).\n",
            "Loss: 0.008046653121709824 Accuracy: 0.007551436312496662\n",
            "Loss: 0.007487315218895674 Accuracy: 0.007603924255818129\n",
            "Loss: 0.006809130311012268 Accuracy: 0.007540231570601463\n",
            "Loss: 0.007156603969633579 Accuracy: 0.007518449332565069\n",
            "WARNING:tensorflow:Model was constructed with shape Tensor(\"input_1:0\", shape=(128, 32, 32, 3), dtype=float32) for input (128, 32, 32, 3), but it was re-called on a Tensor with incompatible shape (80, 32, 32, 3).\n",
            "Loss: 0.00694525521248579 Accuracy: 0.007543028332293034\n",
            "Loss: 0.00736546516418457 Accuracy: 0.007538381963968277\n",
            "Loss: 0.008177908137440681 Accuracy: 0.007494459860026836\n",
            "Loss: 0.006763177923858166 Accuracy: 0.007523688022047281\n",
            "WARNING:tensorflow:Model was constructed with shape Tensor(\"input_1:0\", shape=(128, 32, 32, 3), dtype=float32) for input (128, 32, 32, 3), but it was re-called on a Tensor with incompatible shape (80, 32, 32, 3).\n",
            "Loss: 0.0076196505688130856 Accuracy: 0.007416415959596634\n",
            "Loss: 0.007960787042975426 Accuracy: 0.007483247667551041\n",
            "Loss: 0.008098093792796135 Accuracy: 0.00755061162635684\n",
            "WARNING:tensorflow:Model was constructed with shape Tensor(\"input_1:0\", shape=(128, 32, 32, 3), dtype=float32) for input (128, 32, 32, 3), but it was re-called on a Tensor with incompatible shape (80, 32, 32, 3).\n",
            "Loss: 0.007115503773093224 Accuracy: 0.007461598142981529\n",
            "Loss: 0.007575665600597858 Accuracy: 0.007453812286257744\n",
            "Loss: 0.007648552302271128 Accuracy: 0.007591107860207558\n",
            "Loss: 0.007088922429829836 Accuracy: 0.007398191839456558\n",
            "WARNING:tensorflow:Model was constructed with shape Tensor(\"input_1:0\", shape=(128, 32, 32, 3), dtype=float32) for input (128, 32, 32, 3), but it was re-called on a Tensor with incompatible shape (80, 32, 32, 3).\n",
            "Loss: 0.007418546359986067 Accuracy: 0.007364796008914709\n",
            "Loss: 0.007145822048187256 Accuracy: 0.007391857448965311\n",
            "Loss: 0.007093796972185373 Accuracy: 0.007581496611237526\n",
            "Loss: 0.007252880372107029 Accuracy: 0.00728704035282135\n",
            "WARNING:tensorflow:Model was constructed with shape Tensor(\"input_1:0\", shape=(128, 32, 32, 3), dtype=float32) for input (128, 32, 32, 3), but it was re-called on a Tensor with incompatible shape (80, 32, 32, 3).\n",
            "Loss: 0.006942875683307648 Accuracy: 0.007429249584674835\n",
            "Loss: 0.007230572402477264 Accuracy: 0.007296302821487188\n",
            "Loss: 0.007318856194615364 Accuracy: 0.007398505695164204\n",
            "Loss: 0.007566339801996946 Accuracy: 0.0074004060588777065\n",
            "WARNING:tensorflow:Model was constructed with shape Tensor(\"input_1:0\", shape=(128, 32, 32, 3), dtype=float32) for input (128, 32, 32, 3), but it was re-called on a Tensor with incompatible shape (80, 32, 32, 3).\n",
            "Loss: 0.007292480673640966 Accuracy: 0.007348720449954271\n",
            "Loss: 0.0068178498186171055 Accuracy: 0.0073363264091312885\n",
            "Loss: 0.008078298531472683 Accuracy: 0.007432333193719387\n",
            "Loss: 0.0076408665627241135 Accuracy: 0.007279001642018557\n",
            "WARNING:tensorflow:Model was constructed with shape Tensor(\"input_1:0\", shape=(128, 32, 32, 3), dtype=float32) for input (128, 32, 32, 3), but it was re-called on a Tensor with incompatible shape (80, 32, 32, 3).\n",
            "Loss: 0.007018599659204483 Accuracy: 0.0072446768172085285\n",
            "Loss: 0.006544806063175201 Accuracy: 0.007263304200023413\n",
            "Loss: 0.0075135850347578526 Accuracy: 0.007336811628192663\n",
            "Loss: 0.007168485317379236 Accuracy: 0.00730540044605732\n",
            "WARNING:tensorflow:Model was constructed with shape Tensor(\"input_1:0\", shape=(128, 32, 32, 3), dtype=float32) for input (128, 32, 32, 3), but it was re-called on a Tensor with incompatible shape (80, 32, 32, 3).\n",
            "Loss: 0.0074966237880289555 Accuracy: 0.007290669251233339\n",
            "Loss: 0.007310064509510994 Accuracy: 0.007291498128324747\n",
            "Loss: 0.007073258515447378 Accuracy: 0.007272459100931883\n",
            "Loss: 0.007709162309765816 Accuracy: 0.007261474151164293\n",
            "WARNING:tensorflow:Model was constructed with shape Tensor(\"input_1:0\", shape=(128, 32, 32, 3), dtype=float32) for input (128, 32, 32, 3), but it was re-called on a Tensor with incompatible shape (80, 32, 32, 3).\n",
            "Loss: 0.006831650622189045 Accuracy: 0.007212983909994364\n",
            "Loss: 0.007156196981668472 Accuracy: 0.0072527481243014336\n",
            "Loss: 0.007436600513756275 Accuracy: 0.007246355526149273\n",
            "Loss: 0.007127898745238781 Accuracy: 0.007171564269810915\n",
            "WARNING:tensorflow:Model was constructed with shape Tensor(\"input_1:0\", shape=(128, 32, 32, 3), dtype=float32) for input (128, 32, 32, 3), but it was re-called on a Tensor with incompatible shape (80, 32, 32, 3).\n",
            "Loss: 0.006911931559443474 Accuracy: 0.007194132078438997\n",
            "Loss: 0.0072194356471300125 Accuracy: 0.007326697930693626\n",
            "Loss: 0.0068078842014074326 Accuracy: 0.00720937130972743\n",
            "Loss: 0.007274341769516468 Accuracy: 0.0071847885847091675\n",
            "WARNING:tensorflow:Model was constructed with shape Tensor(\"input_1:0\", shape=(128, 32, 32, 3), dtype=float32) for input (128, 32, 32, 3), but it was re-called on a Tensor with incompatible shape (80, 32, 32, 3).\n",
            "Loss: 0.0073803486302495 Accuracy: 0.007193537894636393\n",
            "Loss: 0.007237098179757595 Accuracy: 0.007261574734002352\n",
            "Loss: 0.007091135252267122 Accuracy: 0.0071084704250097275\n",
            "Loss: 0.006870616227388382 Accuracy: 0.007149619050323963\n",
            "WARNING:tensorflow:Model was constructed with shape Tensor(\"input_1:0\", shape=(128, 32, 32, 3), dtype=float32) for input (128, 32, 32, 3), but it was re-called on a Tensor with incompatible shape (80, 32, 32, 3).\n",
            "Loss: 0.007571128197014332 Accuracy: 0.007155712693929672\n",
            "Loss: 0.006779899820685387 Accuracy: 0.007177269551903009\n",
            "Loss: 0.007464268244802952 Accuracy: 0.0070978617295622826\n",
            "Loss: 0.00742320716381073 Accuracy: 0.007154436782002449\n",
            "WARNING:tensorflow:Model was constructed with shape Tensor(\"input_1:0\", shape=(128, 32, 32, 3), dtype=float32) for input (128, 32, 32, 3), but it was re-called on a Tensor with incompatible shape (80, 32, 32, 3).\n",
            "Loss: 0.007838516496121883 Accuracy: 0.00721079483628273\n",
            "Loss: 0.007077181711792946 Accuracy: 0.007098139729350805\n",
            "Loss: 0.007460695691406727 Accuracy: 0.007080786861479282\n",
            "WARNING:tensorflow:Model was constructed with shape Tensor(\"input_1:0\", shape=(128, 32, 32, 3), dtype=float32) for input (128, 32, 32, 3), but it was re-called on a Tensor with incompatible shape (80, 32, 32, 3).\n",
            "Loss: 0.0069715287536382675 Accuracy: 0.0070881531573832035\n",
            "Loss: 0.007242342457175255 Accuracy: 0.007084518671035767\n",
            "Loss: 0.007131970487535 Accuracy: 0.007081585470587015\n",
            "Loss: 0.007245194632560015 Accuracy: 0.007090508472174406\n",
            "WARNING:tensorflow:Model was constructed with shape Tensor(\"input_1:0\", shape=(128, 32, 32, 3), dtype=float32) for input (128, 32, 32, 3), but it was re-called on a Tensor with incompatible shape (80, 32, 32, 3).\n",
            "Loss: 0.007269640453159809 Accuracy: 0.007057918701320887\n",
            "Loss: 0.006716815289109945 Accuracy: 0.007005569990724325\n",
            "Loss: 0.006855180487036705 Accuracy: 0.007114478386938572\n",
            "Loss: 0.007177579216659069 Accuracy: 0.0071294005028903484\n",
            "WARNING:tensorflow:Model was constructed with shape Tensor(\"input_1:0\", shape=(128, 32, 32, 3), dtype=float32) for input (128, 32, 32, 3), but it was re-called on a Tensor with incompatible shape (80, 32, 32, 3).\n",
            "Loss: 0.007331988774240017 Accuracy: 0.00711791031062603\n",
            "Loss: 0.006448401138186455 Accuracy: 0.007043303456157446\n",
            "Loss: 0.007504707667976618 Accuracy: 0.006951168645173311\n",
            "Loss: 0.006251328159123659 Accuracy: 0.0070266323164105415\n",
            "WARNING:tensorflow:Model was constructed with shape Tensor(\"input_1:0\", shape=(128, 32, 32, 3), dtype=float32) for input (128, 32, 32, 3), but it was re-called on a Tensor with incompatible shape (80, 32, 32, 3).\n",
            "Loss: 0.007176059298217297 Accuracy: 0.00698469253256917\n",
            "Loss: 0.006560982204973698 Accuracy: 0.007018472068011761\n",
            "Loss: 0.0066982451826334 Accuracy: 0.007107451092451811\n",
            "Loss: 0.006871956866234541 Accuracy: 0.007054529618471861\n",
            "WARNING:tensorflow:Model was constructed with shape Tensor(\"input_1:0\", shape=(128, 32, 32, 3), dtype=float32) for input (128, 32, 32, 3), but it was re-called on a Tensor with incompatible shape (80, 32, 32, 3).\n",
            "Loss: 0.006922604516148567 Accuracy: 0.006979974452406168\n",
            "Loss: 0.006616608239710331 Accuracy: 0.006975669413805008\n",
            "Loss: 0.006888898089528084 Accuracy: 0.006924910005182028\n",
            "Loss: 0.007010048255324364 Accuracy: 0.007054205983877182\n",
            "WARNING:tensorflow:Model was constructed with shape Tensor(\"input_1:0\", shape=(128, 32, 32, 3), dtype=float32) for input (128, 32, 32, 3), but it was re-called on a Tensor with incompatible shape (80, 32, 32, 3).\n",
            "Loss: 0.0073721581138670444 Accuracy: 0.006984549108892679\n",
            "Loss: 0.006954272743314505 Accuracy: 0.006966341752558947\n",
            "Loss: 0.00705888494849205 Accuracy: 0.00700128311291337\n",
            "Loss: 0.006154259666800499 Accuracy: 0.006947928573936224\n",
            "WARNING:tensorflow:Model was constructed with shape Tensor(\"input_1:0\", shape=(128, 32, 32, 3), dtype=float32) for input (128, 32, 32, 3), but it was re-called on a Tensor with incompatible shape (80, 32, 32, 3).\n",
            "Loss: 0.006489989347755909 Accuracy: 0.006922406144440174\n",
            "Loss: 0.007068349048495293 Accuracy: 0.00696762278676033\n",
            "Loss: 0.006588064134120941 Accuracy: 0.006969151087105274\n",
            "Loss: 0.006969326641410589 Accuracy: 0.0069753252901136875\n",
            "WARNING:tensorflow:Model was constructed with shape Tensor(\"input_1:0\", shape=(128, 32, 32, 3), dtype=float32) for input (128, 32, 32, 3), but it was re-called on a Tensor with incompatible shape (80, 32, 32, 3).\n",
            "Loss: 0.0064548589289188385 Accuracy: 0.006866551470011473\n",
            "Loss: 0.00703071802854538 Accuracy: 0.006897230166941881\n",
            "Loss: 0.00710553303360939 Accuracy: 0.006890891585499048\n",
            "Loss: 0.007169976830482483 Accuracy: 0.00697755953297019\n",
            "WARNING:tensorflow:Model was constructed with shape Tensor(\"input_1:0\", shape=(128, 32, 32, 3), dtype=float32) for input (128, 32, 32, 3), but it was re-called on a Tensor with incompatible shape (80, 32, 32, 3).\n",
            "Loss: 0.006680721417069435 Accuracy: 0.0069579328410327435\n",
            "Loss: 0.006656467914581299 Accuracy: 0.006866189185529947\n",
            "Loss: 0.00689687579870224 Accuracy: 0.006942305713891983\n",
            "Loss: 0.008032611571252346 Accuracy: 0.00689597288146615\n",
            "WARNING:tensorflow:Model was constructed with shape Tensor(\"input_1:0\", shape=(128, 32, 32, 3), dtype=float32) for input (128, 32, 32, 3), but it was re-called on a Tensor with incompatible shape (80, 32, 32, 3).\n",
            "Loss: 0.006709789391607046 Accuracy: 0.006914392579346895\n",
            "Loss: 0.007123278453946114 Accuracy: 0.0068135387264192104\n",
            "Loss: 0.006604967638850212 Accuracy: 0.006899017840623856\n",
            "Loss: 0.006524667143821716 Accuracy: 0.006894418969750404\n",
            "WARNING:tensorflow:Model was constructed with shape Tensor(\"input_1:0\", shape=(128, 32, 32, 3), dtype=float32) for input (128, 32, 32, 3), but it was re-called on a Tensor with incompatible shape (80, 32, 32, 3).\n",
            "Loss: 0.006762409117072821 Accuracy: 0.006807058118283749\n",
            "Loss: 0.006692920811474323 Accuracy: 0.006923557724803686\n",
            "Loss: 0.006363137625157833 Accuracy: 0.006834969390183687\n",
            "WARNING:tensorflow:Model was constructed with shape Tensor(\"input_1:0\", shape=(128, 32, 32, 3), dtype=float32) for input (128, 32, 32, 3), but it was re-called on a Tensor with incompatible shape (80, 32, 32, 3).\n",
            "Loss: 0.007294635288417339 Accuracy: 0.006860764231532812\n",
            "Loss: 0.0065342821180820465 Accuracy: 0.0068569425493478775\n",
            "Loss: 0.007000811398029327 Accuracy: 0.0068395985290408134\n",
            "Loss: 0.006861346773803234 Accuracy: 0.006805649027228355\n",
            "WARNING:tensorflow:Model was constructed with shape Tensor(\"input_1:0\", shape=(128, 32, 32, 3), dtype=float32) for input (128, 32, 32, 3), but it was re-called on a Tensor with incompatible shape (80, 32, 32, 3).\n",
            "Loss: 0.00687449099496007 Accuracy: 0.006855623796582222\n",
            "Loss: 0.006818211637437344 Accuracy: 0.006892272736877203\n",
            "Loss: 0.006983292754739523 Accuracy: 0.006804473232477903\n",
            "Loss: 0.006687076762318611 Accuracy: 0.006792251020669937\n",
            "WARNING:tensorflow:Model was constructed with shape Tensor(\"input_1:0\", shape=(128, 32, 32, 3), dtype=float32) for input (128, 32, 32, 3), but it was re-called on a Tensor with incompatible shape (80, 32, 32, 3).\n",
            "Loss: 0.00679212249815464 Accuracy: 0.006808600854128599\n",
            "Loss: 0.006285159848630428 Accuracy: 0.006811569910496473\n",
            "Loss: 0.00691364798694849 Accuracy: 0.006797094829380512\n",
            "Loss: 0.00678394827991724 Accuracy: 0.006795164197683334\n",
            "WARNING:tensorflow:Model was constructed with shape Tensor(\"input_1:0\", shape=(128, 32, 32, 3), dtype=float32) for input (128, 32, 32, 3), but it was re-called on a Tensor with incompatible shape (80, 32, 32, 3).\n",
            "Loss: 0.007288524881005287 Accuracy: 0.00683095445856452\n",
            "Loss: 0.006979590281844139 Accuracy: 0.006826478987932205\n",
            "Loss: 0.007198212668299675 Accuracy: 0.006703227758407593\n",
            "Loss: 0.00618476327508688 Accuracy: 0.006726499181240797\n",
            "WARNING:tensorflow:Model was constructed with shape Tensor(\"input_1:0\", shape=(128, 32, 32, 3), dtype=float32) for input (128, 32, 32, 3), but it was re-called on a Tensor with incompatible shape (80, 32, 32, 3).\n",
            "Loss: 0.006993355695158243 Accuracy: 0.006790230516344309\n",
            "Loss: 0.0068074846640229225 Accuracy: 0.00676922919228673\n",
            "Loss: 0.006643000990152359 Accuracy: 0.006806079298257828\n",
            "Loss: 0.007253603078424931 Accuracy: 0.006715335883200169\n",
            "WARNING:tensorflow:Model was constructed with shape Tensor(\"input_1:0\", shape=(128, 32, 32, 3), dtype=float32) for input (128, 32, 32, 3), but it was re-called on a Tensor with incompatible shape (80, 32, 32, 3).\n",
            "Loss: 0.0072381217032670975 Accuracy: 0.006832404527813196\n",
            "Loss: 0.007276715710759163 Accuracy: 0.00673917168751359\n",
            "Loss: 0.006817978341132402 Accuracy: 0.006696549244225025\n",
            "Loss: 0.007008467800915241 Accuracy: 0.006739873439073563\n",
            "WARNING:tensorflow:Model was constructed with shape Tensor(\"input_1:0\", shape=(128, 32, 32, 3), dtype=float32) for input (128, 32, 32, 3), but it was re-called on a Tensor with incompatible shape (80, 32, 32, 3).\n",
            "Loss: 0.006774742156267166 Accuracy: 0.006703299004584551\n",
            "Loss: 0.006874823477119207 Accuracy: 0.006747304927557707\n",
            "Loss: 0.0062022339552640915 Accuracy: 0.006733810994774103\n",
            "Loss: 0.006640815641731024 Accuracy: 0.00672625657171011\n",
            "WARNING:tensorflow:Model was constructed with shape Tensor(\"input_1:0\", shape=(128, 32, 32, 3), dtype=float32) for input (128, 32, 32, 3), but it was re-called on a Tensor with incompatible shape (80, 32, 32, 3).\n",
            "Loss: 0.006722923368215561 Accuracy: 0.006796594709157944\n",
            "Loss: 0.006366593763232231 Accuracy: 0.006685229483991861\n",
            "Loss: 0.006998411845415831 Accuracy: 0.006746767088770866\n",
            "Loss: 0.006349816452711821 Accuracy: 0.006694427225738764\n",
            "WARNING:tensorflow:Model was constructed with shape Tensor(\"input_1:0\", shape=(128, 32, 32, 3), dtype=float32) for input (128, 32, 32, 3), but it was re-called on a Tensor with incompatible shape (80, 32, 32, 3).\n",
            "Loss: 0.006642578169703484 Accuracy: 0.006701811216771603\n",
            "Loss: 0.0065470244735479355 Accuracy: 0.006706989370286465\n",
            "Loss: 0.007153377868235111 Accuracy: 0.00668959179893136\n",
            "Loss: 0.007339151576161385 Accuracy: 0.006690227892249823\n",
            "WARNING:tensorflow:Model was constructed with shape Tensor(\"input_1:0\", shape=(128, 32, 32, 3), dtype=float32) for input (128, 32, 32, 3), but it was re-called on a Tensor with incompatible shape (80, 32, 32, 3).\n",
            "Loss: 0.006832502782344818 Accuracy: 0.006634397432208061\n",
            "Loss: 0.006901226006448269 Accuracy: 0.006699250545352697\n",
            "Loss: 0.006375264376401901 Accuracy: 0.0066132452338933945\n",
            "Loss: 0.006524186581373215 Accuracy: 0.006734475493431091\n",
            "WARNING:tensorflow:Model was constructed with shape Tensor(\"input_1:0\", shape=(128, 32, 32, 3), dtype=float32) for input (128, 32, 32, 3), but it was re-called on a Tensor with incompatible shape (80, 32, 32, 3).\n",
            "Loss: 0.006579992827028036 Accuracy: 0.006744887214154005\n",
            "Loss: 0.006540984380990267 Accuracy: 0.006677716970443726\n",
            "Loss: 0.006263093091547489 Accuracy: 0.006629267707467079\n",
            "WARNING:tensorflow:Model was constructed with shape Tensor(\"input_1:0\", shape=(128, 32, 32, 3), dtype=float32) for input (128, 32, 32, 3), but it was re-called on a Tensor with incompatible shape (80, 32, 32, 3).\n",
            "Loss: 0.006490857806056738 Accuracy: 0.006664330139756203\n",
            "Loss: 0.00667858961969614 Accuracy: 0.006633308716118336\n",
            "Loss: 0.0065117464400827885 Accuracy: 0.006663377862423658\n",
            "Loss: 0.006310688331723213 Accuracy: 0.006590786390006542\n",
            "WARNING:tensorflow:Model was constructed with shape Tensor(\"input_1:0\", shape=(128, 32, 32, 3), dtype=float32) for input (128, 32, 32, 3), but it was re-called on a Tensor with incompatible shape (80, 32, 32, 3).\n",
            "Loss: 0.006474311463534832 Accuracy: 0.006589914206415415\n",
            "Loss: 0.006539021618664265 Accuracy: 0.006623140536248684\n",
            "Loss: 0.007447173353284597 Accuracy: 0.0066853673197329044\n",
            "Loss: 0.0066422405652701855 Accuracy: 0.006666535511612892\n",
            "WARNING:tensorflow:Model was constructed with shape Tensor(\"input_1:0\", shape=(128, 32, 32, 3), dtype=float32) for input (128, 32, 32, 3), but it was re-called on a Tensor with incompatible shape (80, 32, 32, 3).\n",
            "Loss: 0.006851561367511749 Accuracy: 0.00662193913012743\n",
            "Loss: 0.006412171758711338 Accuracy: 0.006663334555923939\n",
            "Loss: 0.006150157190859318 Accuracy: 0.0066018360666930676\n",
            "Loss: 0.006639965809881687 Accuracy: 0.006590560078620911\n",
            "WARNING:tensorflow:Model was constructed with shape Tensor(\"input_1:0\", shape=(128, 32, 32, 3), dtype=float32) for input (128, 32, 32, 3), but it was re-called on a Tensor with incompatible shape (80, 32, 32, 3).\n",
            "Loss: 0.0070370095781981945 Accuracy: 0.006617315579205751\n",
            "Loss: 0.006463353522121906 Accuracy: 0.006631871685385704\n",
            "Loss: 0.006813293322920799 Accuracy: 0.006600445602089167\n",
            "Loss: 0.006503271870315075 Accuracy: 0.006638075225055218\n",
            "WARNING:tensorflow:Model was constructed with shape Tensor(\"input_1:0\", shape=(128, 32, 32, 3), dtype=float32) for input (128, 32, 32, 3), but it was re-called on a Tensor with incompatible shape (80, 32, 32, 3).\n",
            "Loss: 0.006890445481985807 Accuracy: 0.006605735048651695\n",
            "Loss: 0.0068456921726465225 Accuracy: 0.006628744769841433\n",
            "Loss: 0.006632658652961254 Accuracy: 0.006496046669781208\n",
            "Loss: 0.006852394435554743 Accuracy: 0.00659358873963356\n",
            "WARNING:tensorflow:Model was constructed with shape Tensor(\"input_1:0\", shape=(128, 32, 32, 3), dtype=float32) for input (128, 32, 32, 3), but it was re-called on a Tensor with incompatible shape (80, 32, 32, 3).\n",
            "Loss: 0.006440902594476938 Accuracy: 0.0066225240007042885\n",
            "Loss: 0.006640622392296791 Accuracy: 0.006613053847104311\n",
            "Loss: 0.007147373165935278 Accuracy: 0.006547140423208475\n",
            "Loss: 0.006415576674044132 Accuracy: 0.006600446067750454\n",
            "WARNING:tensorflow:Model was constructed with shape Tensor(\"input_1:0\", shape=(128, 32, 32, 3), dtype=float32) for input (128, 32, 32, 3), but it was re-called on a Tensor with incompatible shape (80, 32, 32, 3).\n",
            "Loss: 0.007410460151731968 Accuracy: 0.006563670001924038\n",
            "Loss: 0.007025865372270346 Accuracy: 0.006511760875582695\n",
            "Loss: 0.006230026483535767 Accuracy: 0.006602197885513306\n",
            "Loss: 0.006334679201245308 Accuracy: 0.006488878279924393\n",
            "WARNING:tensorflow:Model was constructed with shape Tensor(\"input_1:0\", shape=(128, 32, 32, 3), dtype=float32) for input (128, 32, 32, 3), but it was re-called on a Tensor with incompatible shape (80, 32, 32, 3).\n",
            "Loss: 0.006975150667130947 Accuracy: 0.006531210616230965\n",
            "Loss: 0.0063045937567949295 Accuracy: 0.006565485615283251\n",
            "Loss: 0.006673240568488836 Accuracy: 0.006590384058654308\n",
            "Loss: 0.006750138010829687 Accuracy: 0.006499390117824078\n",
            "WARNING:tensorflow:Model was constructed with shape Tensor(\"input_1:0\", shape=(128, 32, 32, 3), dtype=float32) for input (128, 32, 32, 3), but it was re-called on a Tensor with incompatible shape (80, 32, 32, 3).\n",
            "Loss: 0.006169434636831284 Accuracy: 0.006529674399644136\n",
            "Loss: 0.006285746581852436 Accuracy: 0.006547268014401197\n",
            "Loss: 0.006914953701198101 Accuracy: 0.006563359871506691\n",
            "Loss: 0.006627499591559172 Accuracy: 0.006514040753245354\n",
            "WARNING:tensorflow:Model was constructed with shape Tensor(\"input_1:0\", shape=(128, 32, 32, 3), dtype=float32) for input (128, 32, 32, 3), but it was re-called on a Tensor with incompatible shape (80, 32, 32, 3).\n",
            "Loss: 0.006472140550613403 Accuracy: 0.006502548698335886\n",
            "Loss: 0.006121738813817501 Accuracy: 0.006494400557130575\n",
            "Loss: 0.006548654288053513 Accuracy: 0.006575263105332851\n",
            "Loss: 0.007070271298289299 Accuracy: 0.006571450736373663\n",
            "WARNING:tensorflow:Model was constructed with shape Tensor(\"input_1:0\", shape=(128, 32, 32, 3), dtype=float32) for input (128, 32, 32, 3), but it was re-called on a Tensor with incompatible shape (80, 32, 32, 3).\n",
            "Loss: 0.006524478085339069 Accuracy: 0.006479864474385977\n",
            "Loss: 0.005963156931102276 Accuracy: 0.006500465329736471\n",
            "Loss: 0.006637421902269125 Accuracy: 0.006504019722342491\n",
            "WARNING:tensorflow:Model was constructed with shape Tensor(\"input_1:0\", shape=(128, 32, 32, 3), dtype=float32) for input (128, 32, 32, 3), but it was re-called on a Tensor with incompatible shape (80, 32, 32, 3).\n",
            "Loss: 0.006416968069970608 Accuracy: 0.0065468065440654755\n",
            "Loss: 0.0070374635979533195 Accuracy: 0.006479654926806688\n",
            "Loss: 0.006091974675655365 Accuracy: 0.006547160912305117\n",
            "Loss: 0.006738175638020039 Accuracy: 0.006499775219708681\n",
            "WARNING:tensorflow:Model was constructed with shape Tensor(\"input_1:0\", shape=(128, 32, 32, 3), dtype=float32) for input (128, 32, 32, 3), but it was re-called on a Tensor with incompatible shape (80, 32, 32, 3).\n",
            "Loss: 0.006855564191937447 Accuracy: 0.006460965611040592\n",
            "Loss: 0.006096606142818928 Accuracy: 0.00650121970102191\n",
            "Loss: 0.006534183863550425 Accuracy: 0.00650472566485405\n",
            "Loss: 0.006429126486182213 Accuracy: 0.006528529338538647\n",
            "WARNING:tensorflow:Model was constructed with shape Tensor(\"input_1:0\", shape=(128, 32, 32, 3), dtype=float32) for input (128, 32, 32, 3), but it was re-called on a Tensor with incompatible shape (80, 32, 32, 3).\n",
            "Loss: 0.006353425793349743 Accuracy: 0.006439433433115482\n",
            "Loss: 0.0063448622822761536 Accuracy: 0.006393075454980135\n",
            "Loss: 0.006479394622147083 Accuracy: 0.006503726355731487\n",
            "Loss: 0.006826661992818117 Accuracy: 0.006458967458456755\n",
            "WARNING:tensorflow:Model was constructed with shape Tensor(\"input_1:0\", shape=(128, 32, 32, 3), dtype=float32) for input (128, 32, 32, 3), but it was re-called on a Tensor with incompatible shape (80, 32, 32, 3).\n",
            "Loss: 0.006611308082938194 Accuracy: 0.006495513021945953\n",
            "Loss: 0.006767206359654665 Accuracy: 0.006568361539393663\n",
            "Loss: 0.006283339112997055 Accuracy: 0.006454642862081528\n",
            "Loss: 0.0059965429827570915 Accuracy: 0.00645309267565608\n",
            "WARNING:tensorflow:Model was constructed with shape Tensor(\"input_1:0\", shape=(128, 32, 32, 3), dtype=float32) for input (128, 32, 32, 3), but it was re-called on a Tensor with incompatible shape (80, 32, 32, 3).\n",
            "Loss: 0.006079968996345997 Accuracy: 0.006431584246456623\n",
            "Loss: 0.006364429835230112 Accuracy: 0.006486599333584309\n",
            "Loss: 0.006248960737138987 Accuracy: 0.006436118856072426\n",
            "Loss: 0.006674341391772032 Accuracy: 0.006441783159971237\n",
            "WARNING:tensorflow:Model was constructed with shape Tensor(\"input_1:0\", shape=(128, 32, 32, 3), dtype=float32) for input (128, 32, 32, 3), but it was re-called on a Tensor with incompatible shape (80, 32, 32, 3).\n",
            "Loss: 0.006727796047925949 Accuracy: 0.0065664672292768955\n",
            "Loss: 0.006186274345964193 Accuracy: 0.006380526814609766\n",
            "Loss: 0.006547622848302126 Accuracy: 0.006460671313107014\n",
            "Loss: 0.006473970599472523 Accuracy: 0.006436884868890047\n",
            "WARNING:tensorflow:Model was constructed with shape Tensor(\"input_1:0\", shape=(128, 32, 32, 3), dtype=float32) for input (128, 32, 32, 3), but it was re-called on a Tensor with incompatible shape (80, 32, 32, 3).\n",
            "Loss: 0.006154274567961693 Accuracy: 0.006407120265066624\n",
            "Loss: 0.006649920716881752 Accuracy: 0.006417697761207819\n",
            "Loss: 0.0067796725779771805 Accuracy: 0.0064291153103113174\n",
            "Loss: 0.006575312465429306 Accuracy: 0.006422645878046751\n",
            "WARNING:tensorflow:Model was constructed with shape Tensor(\"input_1:0\", shape=(128, 32, 32, 3), dtype=float32) for input (128, 32, 32, 3), but it was re-called on a Tensor with incompatible shape (80, 32, 32, 3).\n",
            "Loss: 0.006471159402281046 Accuracy: 0.006474000867456198\n",
            "Loss: 0.006323013920336962 Accuracy: 0.006378904450684786\n",
            "Loss: 0.006005244329571724 Accuracy: 0.006424488965421915\n",
            "Loss: 0.006008761003613472 Accuracy: 0.006441961042582989\n",
            "WARNING:tensorflow:Model was constructed with shape Tensor(\"input_1:0\", shape=(128, 32, 32, 3), dtype=float32) for input (128, 32, 32, 3), but it was re-called on a Tensor with incompatible shape (80, 32, 32, 3).\n",
            "Loss: 0.006576650310307741 Accuracy: 0.006411194801330566\n",
            "Loss: 0.006115525029599667 Accuracy: 0.00643331091850996\n",
            "Loss: 0.005865163169801235 Accuracy: 0.006423132959753275\n",
            "Loss: 0.0066728657111525536 Accuracy: 0.0063621592707931995\n",
            "WARNING:tensorflow:Model was constructed with shape Tensor(\"input_1:0\", shape=(128, 32, 32, 3), dtype=float32) for input (128, 32, 32, 3), but it was re-called on a Tensor with incompatible shape (80, 32, 32, 3).\n",
            "Loss: 0.007060791365802288 Accuracy: 0.006460406351834536\n",
            "Loss: 0.006311929784715176 Accuracy: 0.006394045893102884\n",
            "Loss: 0.005959839094430208 Accuracy: 0.006410686764866114\n",
            "Loss: 0.006642749533057213 Accuracy: 0.006424503400921822\n",
            "WARNING:tensorflow:Model was constructed with shape Tensor(\"input_1:0\", shape=(128, 32, 32, 3), dtype=float32) for input (128, 32, 32, 3), but it was re-called on a Tensor with incompatible shape (80, 32, 32, 3).\n",
            "Loss: 0.0061826566234230995 Accuracy: 0.006349689792841673\n",
            "Loss: 0.006316313520073891 Accuracy: 0.006379304453730583\n",
            "Loss: 0.006297949701547623 Accuracy: 0.006371525581926107\n",
            "WARNING:tensorflow:Model was constructed with shape Tensor(\"input_1:0\", shape=(128, 32, 32, 3), dtype=float32) for input (128, 32, 32, 3), but it was re-called on a Tensor with incompatible shape (80, 32, 32, 3).\n",
            "Loss: 0.006413132417947054 Accuracy: 0.006465807091444731\n",
            "Loss: 0.0066255684942007065 Accuracy: 0.006391423288732767\n",
            "Loss: 0.006681350059807301 Accuracy: 0.006361201871186495\n",
            "Loss: 0.006268233060836792 Accuracy: 0.006369702983647585\n",
            "WARNING:tensorflow:Model was constructed with shape Tensor(\"input_1:0\", shape=(128, 32, 32, 3), dtype=float32) for input (128, 32, 32, 3), but it was re-called on a Tensor with incompatible shape (80, 32, 32, 3).\n",
            "Loss: 0.00600395118817687 Accuracy: 0.006391100585460663\n",
            "Loss: 0.006841845810413361 Accuracy: 0.00638880068436265\n",
            "Loss: 0.005822157487273216 Accuracy: 0.006335048004984856\n",
            "Loss: 0.006758494768291712 Accuracy: 0.006330936681479216\n",
            "WARNING:tensorflow:Model was constructed with shape Tensor(\"input_1:0\", shape=(128, 32, 32, 3), dtype=float32) for input (128, 32, 32, 3), but it was re-called on a Tensor with incompatible shape (80, 32, 32, 3).\n",
            "Loss: 0.006401841528713703 Accuracy: 0.006417532917112112\n",
            "Loss: 0.0064522260800004005 Accuracy: 0.006363538093864918\n",
            "Loss: 0.0061254967004060745 Accuracy: 0.006385405547916889\n",
            "Loss: 0.006446379236876965 Accuracy: 0.006327460519969463\n",
            "WARNING:tensorflow:Model was constructed with shape Tensor(\"input_1:0\", shape=(128, 32, 32, 3), dtype=float32) for input (128, 32, 32, 3), but it was re-called on a Tensor with incompatible shape (80, 32, 32, 3).\n",
            "Loss: 0.006257530301809311 Accuracy: 0.006300439592450857\n",
            "Loss: 0.006264637224376202 Accuracy: 0.006380063481628895\n",
            "Loss: 0.00613605510443449 Accuracy: 0.006368114147335291\n",
            "Loss: 0.006346459966152906 Accuracy: 0.00638079596683383\n",
            "WARNING:tensorflow:Model was constructed with shape Tensor(\"input_1:0\", shape=(128, 32, 32, 3), dtype=float32) for input (128, 32, 32, 3), but it was re-called on a Tensor with incompatible shape (80, 32, 32, 3).\n",
            "Loss: 0.006087000481784344 Accuracy: 0.0063094994984567165\n",
            "Loss: 0.006304874084889889 Accuracy: 0.0063972254283726215\n",
            "Loss: 0.006130903493613005 Accuracy: 0.00633800495415926\n",
            "Loss: 0.006431091111153364 Accuracy: 0.006359497085213661\n",
            "WARNING:tensorflow:Model was constructed with shape Tensor(\"input_1:0\", shape=(128, 32, 32, 3), dtype=float32) for input (128, 32, 32, 3), but it was re-called on a Tensor with incompatible shape (80, 32, 32, 3).\n",
            "Loss: 0.006479540839791298 Accuracy: 0.0063480595126748085\n",
            "Loss: 0.006360552739351988 Accuracy: 0.0063486783765256405\n",
            "Loss: 0.0069860429503023624 Accuracy: 0.0063418056815862656\n",
            "Loss: 0.00567242968827486 Accuracy: 0.006332137156277895\n",
            "WARNING:tensorflow:Model was constructed with shape Tensor(\"input_1:0\", shape=(128, 32, 32, 3), dtype=float32) for input (128, 32, 32, 3), but it was re-called on a Tensor with incompatible shape (80, 32, 32, 3).\n",
            "Loss: 0.005771934054791927 Accuracy: 0.006270136218518019\n",
            "Loss: 0.005740916356444359 Accuracy: 0.006329493131488562\n",
            "Loss: 0.006404382176697254 Accuracy: 0.006320267915725708\n",
            "Loss: 0.0059880223125219345 Accuracy: 0.0063700564205646515\n",
            "WARNING:tensorflow:Model was constructed with shape Tensor(\"input_1:0\", shape=(128, 32, 32, 3), dtype=float32) for input (128, 32, 32, 3), but it was re-called on a Tensor with incompatible shape (80, 32, 32, 3).\n",
            "Loss: 0.00688970135524869 Accuracy: 0.006299260072410107\n",
            "Loss: 0.006472784094512463 Accuracy: 0.006315173581242561\n",
            "Loss: 0.006435726303607225 Accuracy: 0.0063083237037062645\n",
            "Loss: 0.006099386606365442 Accuracy: 0.006263034883886576\n",
            "WARNING:tensorflow:Model was constructed with shape Tensor(\"input_1:0\", shape=(128, 32, 32, 3), dtype=float32) for input (128, 32, 32, 3), but it was re-called on a Tensor with incompatible shape (80, 32, 32, 3).\n",
            "Loss: 0.006303266156464815 Accuracy: 0.006360671482980251\n",
            "Loss: 0.00614418089389801 Accuracy: 0.00632810452952981\n",
            "Loss: 0.0058262646198272705 Accuracy: 0.006297428626567125\n",
            "Loss: 0.005904008634388447 Accuracy: 0.0062857456505298615\n",
            "WARNING:tensorflow:Model was constructed with shape Tensor(\"input_1:0\", shape=(128, 32, 32, 3), dtype=float32) for input (128, 32, 32, 3), but it was re-called on a Tensor with incompatible shape (80, 32, 32, 3).\n",
            "Loss: 0.006099732592701912 Accuracy: 0.006351361982524395\n",
            "Loss: 0.00634977500885725 Accuracy: 0.006313822697848082\n",
            "Loss: 0.006260276306420565 Accuracy: 0.006315852981060743\n",
            "Loss: 0.006157372146844864 Accuracy: 0.00632521091029048\n",
            "WARNING:tensorflow:Model was constructed with shape Tensor(\"input_1:0\", shape=(128, 32, 32, 3), dtype=float32) for input (128, 32, 32, 3), but it was re-called on a Tensor with incompatible shape (80, 32, 32, 3).\n",
            "Loss: 0.0060600279830396175 Accuracy: 0.006300382316112518\n",
            "Loss: 0.005865097977221012 Accuracy: 0.006261071655899286\n",
            "Loss: 0.006236093118786812 Accuracy: 0.006289283744990826\n",
            "WARNING:tensorflow:Model was constructed with shape Tensor(\"input_1:0\", shape=(128, 32, 32, 3), dtype=float32) for input (128, 32, 32, 3), but it was re-called on a Tensor with incompatible shape (80, 32, 32, 3).\n",
            "Loss: 0.006246871314942837 Accuracy: 0.006319065112620592\n",
            "Loss: 0.005992391146719456 Accuracy: 0.0063034240156412125\n",
            "Loss: 0.006043160334229469 Accuracy: 0.006313161458820105\n",
            "Loss: 0.005836719647049904 Accuracy: 0.006208494305610657\n",
            "WARNING:tensorflow:Model was constructed with shape Tensor(\"input_1:0\", shape=(128, 32, 32, 3), dtype=float32) for input (128, 32, 32, 3), but it was re-called on a Tensor with incompatible shape (80, 32, 32, 3).\n",
            "Loss: 0.006243467330932617 Accuracy: 0.006236510816961527\n",
            "Loss: 0.0061696371994912624 Accuracy: 0.0063229636289179325\n",
            "Loss: 0.006506321951746941 Accuracy: 0.00627245893701911\n",
            "Loss: 0.005953803192824125 Accuracy: 0.006267013493925333\n",
            "WARNING:tensorflow:Model was constructed with shape Tensor(\"input_1:0\", shape=(128, 32, 32, 3), dtype=float32) for input (128, 32, 32, 3), but it was re-called on a Tensor with incompatible shape (80, 32, 32, 3).\n",
            "Loss: 0.006661638151854277 Accuracy: 0.0062315077520906925\n",
            "Loss: 0.006245745345950127 Accuracy: 0.0063081770204007626\n",
            "Loss: 0.006203824654221535 Accuracy: 0.006306152790784836\n",
            "Loss: 0.005944546312093735 Accuracy: 0.006263780407607555\n",
            "WARNING:tensorflow:Model was constructed with shape Tensor(\"input_1:0\", shape=(128, 32, 32, 3), dtype=float32) for input (128, 32, 32, 3), but it was re-called on a Tensor with incompatible shape (80, 32, 32, 3).\n",
            "Loss: 0.006741564720869064 Accuracy: 0.006263303570449352\n",
            "Loss: 0.005790966097265482 Accuracy: 0.006237023044377565\n",
            "Loss: 0.006719254422932863 Accuracy: 0.006270876619964838\n",
            "Loss: 0.0060465699061751366 Accuracy: 0.006242093630135059\n",
            "WARNING:tensorflow:Model was constructed with shape Tensor(\"input_1:0\", shape=(128, 32, 32, 3), dtype=float32) for input (128, 32, 32, 3), but it was re-called on a Tensor with incompatible shape (80, 32, 32, 3).\n",
            "Loss: 0.006692458875477314 Accuracy: 0.006240224931389093\n",
            "Loss: 0.006582188419997692 Accuracy: 0.006284811533987522\n",
            "Loss: 0.005798856262117624 Accuracy: 0.006276801694184542\n",
            "Loss: 0.005867497995495796 Accuracy: 0.006199588067829609\n",
            "WARNING:tensorflow:Model was constructed with shape Tensor(\"input_1:0\", shape=(128, 32, 32, 3), dtype=float32) for input (128, 32, 32, 3), but it was re-called on a Tensor with incompatible shape (80, 32, 32, 3).\n",
            "Loss: 0.006107849534600973 Accuracy: 0.006214159075170755\n",
            "Loss: 0.00597887858748436 Accuracy: 0.00622413819655776\n",
            "Loss: 0.006174783688038588 Accuracy: 0.0062849982641637325\n",
            "Loss: 0.005899729207158089 Accuracy: 0.0062919617630541325\n",
            "WARNING:tensorflow:Model was constructed with shape Tensor(\"input_1:0\", shape=(128, 32, 32, 3), dtype=float32) for input (128, 32, 32, 3), but it was re-called on a Tensor with incompatible shape (80, 32, 32, 3).\n",
            "Loss: 0.006358645856380463 Accuracy: 0.006183071527630091\n",
            "Loss: 0.0056825196370482445 Accuracy: 0.0062348986975848675\n",
            "Loss: 0.006294754333794117 Accuracy: 0.006245784927159548\n",
            "Loss: 0.00656465906649828 Accuracy: 0.006239937152713537\n",
            "WARNING:tensorflow:Model was constructed with shape Tensor(\"input_1:0\", shape=(128, 32, 32, 3), dtype=float32) for input (128, 32, 32, 3), but it was re-called on a Tensor with incompatible shape (80, 32, 32, 3).\n",
            "Loss: 0.006245392840355635 Accuracy: 0.006264263764023781\n",
            "Loss: 0.006179270334541798 Accuracy: 0.00626803282648325\n",
            "Loss: 0.005918186157941818 Accuracy: 0.006202219519764185\n",
            "Loss: 0.006815758533775806 Accuracy: 0.00620791083201766\n",
            "WARNING:tensorflow:Model was constructed with shape Tensor(\"input_1:0\", shape=(128, 32, 32, 3), dtype=float32) for input (128, 32, 32, 3), but it was re-called on a Tensor with incompatible shape (80, 32, 32, 3).\n",
            "Loss: 0.005982447415590286 Accuracy: 0.006213305983692408\n",
            "Loss: 0.005783591419458389 Accuracy: 0.006193401291966438\n",
            "Loss: 0.006038493476808071 Accuracy: 0.006213280372321606\n",
            "Loss: 0.006445824168622494 Accuracy: 0.006258949171751738\n",
            "WARNING:tensorflow:Model was constructed with shape Tensor(\"input_1:0\", shape=(128, 32, 32, 3), dtype=float32) for input (128, 32, 32, 3), but it was re-called on a Tensor with incompatible shape (80, 32, 32, 3).\n",
            "Loss: 0.006250913254916668 Accuracy: 0.006210932508111\n",
            "Loss: 0.006035459227859974 Accuracy: 0.006228807382285595\n",
            "Loss: 0.006525122560560703 Accuracy: 0.006171312183141708\n",
            "Loss: 0.006569702178239822 Accuracy: 0.006325752008706331\n",
            "WARNING:tensorflow:Model was constructed with shape Tensor(\"input_1:0\", shape=(128, 32, 32, 3), dtype=float32) for input (128, 32, 32, 3), but it was re-called on a Tensor with incompatible shape (80, 32, 32, 3).\n",
            "Loss: 0.005900505930185318 Accuracy: 0.006164001766592264\n",
            "Loss: 0.006273508071899414 Accuracy: 0.0062087709084153175\n",
            "Loss: 0.0060178013518452644 Accuracy: 0.006191714201122522\n",
            "WARNING:tensorflow:Model was constructed with shape Tensor(\"input_1:0\", shape=(128, 32, 32, 3), dtype=float32) for input (128, 32, 32, 3), but it was re-called on a Tensor with incompatible shape (80, 32, 32, 3).\n",
            "Loss: 0.006434418261051178 Accuracy: 0.006257528439164162\n",
            "Loss: 0.006520742550492287 Accuracy: 0.006214570254087448\n",
            "Loss: 0.006309999153017998 Accuracy: 0.006208306644111872\n",
            "Loss: 0.006138211116194725 Accuracy: 0.0062119620852172375\n",
            "WARNING:tensorflow:Model was constructed with shape Tensor(\"input_1:0\", shape=(128, 32, 32, 3), dtype=float32) for input (128, 32, 32, 3), but it was re-called on a Tensor with incompatible shape (80, 32, 32, 3).\n",
            "Loss: 0.006265660747885704 Accuracy: 0.006152560003101826\n",
            "Loss: 0.006118197925388813 Accuracy: 0.006231028586626053\n",
            "Loss: 0.006435893010348082 Accuracy: 0.006155410781502724\n",
            "Loss: 0.005606786347925663 Accuracy: 0.00621972419321537\n",
            "WARNING:tensorflow:Model was constructed with shape Tensor(\"input_1:0\", shape=(128, 32, 32, 3), dtype=float32) for input (128, 32, 32, 3), but it was re-called on a Tensor with incompatible shape (80, 32, 32, 3).\n",
            "Loss: 0.00584177952259779 Accuracy: 0.006250331178307533\n",
            "Loss: 0.005674537271261215 Accuracy: 0.006201292388141155\n",
            "Loss: 0.0061392951756715775 Accuracy: 0.0061638434417545795\n",
            "Loss: 0.006237261462956667 Accuracy: 0.0061989035457372665\n",
            "WARNING:tensorflow:Model was constructed with shape Tensor(\"input_1:0\", shape=(128, 32, 32, 3), dtype=float32) for input (128, 32, 32, 3), but it was re-called on a Tensor with incompatible shape (80, 32, 32, 3).\n",
            "Loss: 0.006756875663995743 Accuracy: 0.006192113272845745\n",
            "Loss: 0.005684348754584789 Accuracy: 0.0061679561622440815\n",
            "Loss: 0.006187916733324528 Accuracy: 0.006179549265652895\n",
            "Loss: 0.006580105051398277 Accuracy: 0.0061809951439499855\n",
            "WARNING:tensorflow:Model was constructed with shape Tensor(\"input_1:0\", shape=(128, 32, 32, 3), dtype=float32) for input (128, 32, 32, 3), but it was re-called on a Tensor with incompatible shape (80, 32, 32, 3).\n",
            "Loss: 0.006087679881602526 Accuracy: 0.0062134661711752415\n",
            "Loss: 0.005944665055721998 Accuracy: 0.0061718374490737915\n",
            "Loss: 0.00648123724386096 Accuracy: 0.00615491671487689\n",
            "Loss: 0.006222036201506853 Accuracy: 0.006154477130621672\n",
            "WARNING:tensorflow:Model was constructed with shape Tensor(\"input_1:0\", shape=(128, 32, 32, 3), dtype=float32) for input (128, 32, 32, 3), but it was re-called on a Tensor with incompatible shape (80, 32, 32, 3).\n",
            "Loss: 0.005833731032907963 Accuracy: 0.0062730154022574425\n",
            "Loss: 0.005621185526251793 Accuracy: 0.0061731161549687386\n",
            "Loss: 0.006193418055772781 Accuracy: 0.0061479960568249226\n",
            "Loss: 0.006629466079175472 Accuracy: 0.006192425265908241\n",
            "WARNING:tensorflow:Model was constructed with shape Tensor(\"input_1:0\", shape=(128, 32, 32, 3), dtype=float32) for input (128, 32, 32, 3), but it was re-called on a Tensor with incompatible shape (80, 32, 32, 3).\n",
            "Loss: 0.006229006685316563 Accuracy: 0.006161864846944809\n",
            "Loss: 0.006321492604911327 Accuracy: 0.006181228905916214\n",
            "Loss: 0.005780467763543129 Accuracy: 0.006142616271972656\n",
            "Loss: 0.0066092731431126595 Accuracy: 0.0061757927760481834\n",
            "WARNING:tensorflow:Model was constructed with shape Tensor(\"input_1:0\", shape=(128, 32, 32, 3), dtype=float32) for input (128, 32, 32, 3), but it was re-called on a Tensor with incompatible shape (80, 32, 32, 3).\n",
            "Loss: 0.006577531807124615 Accuracy: 0.006158475298434496\n",
            "Loss: 0.006541457027196884 Accuracy: 0.006133067421615124\n",
            "Loss: 0.006276847794651985 Accuracy: 0.006147182080894709\n",
            "Loss: 0.005780784413218498 Accuracy: 0.006237569265067577\n",
            "WARNING:tensorflow:Model was constructed with shape Tensor(\"input_1:0\", shape=(128, 32, 32, 3), dtype=float32) for input (128, 32, 32, 3), but it was re-called on a Tensor with incompatible shape (80, 32, 32, 3).\n",
            "Loss: 0.006287101190537214 Accuracy: 0.006155099719762802\n",
            "Loss: 0.006075841374695301 Accuracy: 0.006133290007710457\n",
            "Loss: 0.005740308202803135 Accuracy: 0.006156078074127436\n",
            "Loss: 0.0061971265822649 Accuracy: 0.006130339112132788\n",
            "WARNING:tensorflow:Model was constructed with shape Tensor(\"input_1:0\", shape=(128, 32, 32, 3), dtype=float32) for input (128, 32, 32, 3), but it was re-called on a Tensor with incompatible shape (80, 32, 32, 3).\n",
            "Loss: 0.006215973291546106 Accuracy: 0.006138694938272238\n",
            "Loss: 0.005813750438392162 Accuracy: 0.006121204700320959\n",
            "Loss: 0.006590309552848339 Accuracy: 0.006147717125713825\n",
            "Loss: 0.005829481407999992 Accuracy: 0.0061721475794911385\n",
            "WARNING:tensorflow:Model was constructed with shape Tensor(\"input_1:0\", shape=(128, 32, 32, 3), dtype=float32) for input (128, 32, 32, 3), but it was re-called on a Tensor with incompatible shape (80, 32, 32, 3).\n",
            "Loss: 0.006562451831996441 Accuracy: 0.006160582881420851\n",
            "Loss: 0.005994332488626242 Accuracy: 0.00609977962449193\n",
            "Loss: 0.0062415264546871185 Accuracy: 0.006168067455291748\n",
            "Loss: 0.006252535153180361 Accuracy: 0.006138464901596308\n",
            "WARNING:tensorflow:Model was constructed with shape Tensor(\"input_1:0\", shape=(128, 32, 32, 3), dtype=float32) for input (128, 32, 32, 3), but it was re-called on a Tensor with incompatible shape (80, 32, 32, 3).\n",
            "Loss: 0.006671960465610027 Accuracy: 0.006143535953015089\n",
            "Loss: 0.006139805540442467 Accuracy: 0.006144864019006491\n",
            "Loss: 0.006621956825256348 Accuracy: 0.006122546270489693\n",
            "WARNING:tensorflow:Model was constructed with shape Tensor(\"input_1:0\", shape=(128, 32, 32, 3), dtype=float32) for input (128, 32, 32, 3), but it was re-called on a Tensor with incompatible shape (80, 32, 32, 3).\n",
            "Loss: 0.005943693686276674 Accuracy: 0.006110410206019878\n",
            "Loss: 0.005953448824584484 Accuracy: 0.0060513983480632305\n",
            "Loss: 0.0058417608961462975 Accuracy: 0.006161062512546778\n",
            "Loss: 0.006085910834372044 Accuracy: 0.006134607829153538\n",
            "WARNING:tensorflow:Model was constructed with shape Tensor(\"input_1:0\", shape=(128, 32, 32, 3), dtype=float32) for input (128, 32, 32, 3), but it was re-called on a Tensor with incompatible shape (80, 32, 32, 3).\n",
            "Loss: 0.0065919747576117516 Accuracy: 0.00615393090993166\n",
            "Loss: 0.006352243945002556 Accuracy: 0.006167796440422535\n",
            "Loss: 0.006140697747468948 Accuracy: 0.006119347643107176\n",
            "Loss: 0.006609826348721981 Accuracy: 0.006129777058959007\n",
            "WARNING:tensorflow:Model was constructed with shape Tensor(\"input_1:0\", shape=(128, 32, 32, 3), dtype=float32) for input (128, 32, 32, 3), but it was re-called on a Tensor with incompatible shape (80, 32, 32, 3).\n",
            "Loss: 0.005743579473346472 Accuracy: 0.006104673258960247\n",
            "Loss: 0.005886028986424208 Accuracy: 0.006158680189400911\n",
            "Loss: 0.0061250245198607445 Accuracy: 0.006076493300497532\n",
            "Loss: 0.005976114887744188 Accuracy: 0.006207597907632589\n",
            "WARNING:tensorflow:Model was constructed with shape Tensor(\"input_1:0\", shape=(128, 32, 32, 3), dtype=float32) for input (128, 32, 32, 3), but it was re-called on a Tensor with incompatible shape (80, 32, 32, 3).\n",
            "Loss: 0.006034132093191147 Accuracy: 0.006109720095992088\n",
            "Loss: 0.006207437254488468 Accuracy: 0.006108646281063557\n",
            "Loss: 0.006078455597162247 Accuracy: 0.006129369139671326\n",
            "Loss: 0.0061041503213346004 Accuracy: 0.006082981359213591\n",
            "WARNING:tensorflow:Model was constructed with shape Tensor(\"input_1:0\", shape=(128, 32, 32, 3), dtype=float32) for input (128, 32, 32, 3), but it was re-called on a Tensor with incompatible shape (80, 32, 32, 3).\n",
            "Loss: 0.005691686645150185 Accuracy: 0.006113964132964611\n",
            "Loss: 0.006463163997977972 Accuracy: 0.006081816740334034\n",
            "Loss: 0.006482252851128578 Accuracy: 0.006092336028814316\n",
            "Loss: 0.006357974372804165 Accuracy: 0.006123388186097145\n",
            "WARNING:tensorflow:Model was constructed with shape Tensor(\"input_1:0\", shape=(128, 32, 32, 3), dtype=float32) for input (128, 32, 32, 3), but it was re-called on a Tensor with incompatible shape (80, 32, 32, 3).\n",
            "Loss: 0.00614960165694356 Accuracy: 0.006111208815127611\n",
            "Loss: 0.006006447598338127 Accuracy: 0.0061449408531188965\n",
            "Loss: 0.006306251510977745 Accuracy: 0.006093491334468126\n",
            "Loss: 0.005984788294881582 Accuracy: 0.0060623628087341785\n",
            "WARNING:tensorflow:Model was constructed with shape Tensor(\"input_1:0\", shape=(128, 32, 32, 3), dtype=float32) for input (128, 32, 32, 3), but it was re-called on a Tensor with incompatible shape (80, 32, 32, 3).\n",
            "Loss: 0.006392996292561293 Accuracy: 0.006116955541074276\n",
            "Loss: 0.006060296203941107 Accuracy: 0.006102427840232849\n",
            "Loss: 0.006737140007317066 Accuracy: 0.00610256427899003\n",
            "Loss: 0.006862569600343704 Accuracy: 0.006062498316168785\n",
            "WARNING:tensorflow:Model was constructed with shape Tensor(\"input_1:0\", shape=(128, 32, 32, 3), dtype=float32) for input (128, 32, 32, 3), but it was re-called on a Tensor with incompatible shape (80, 32, 32, 3).\n",
            "Loss: 0.006197858136147261 Accuracy: 0.0061384523287415504\n",
            "Loss: 0.006548250559717417 Accuracy: 0.006083246320486069\n",
            "Loss: 0.00617636926472187 Accuracy: 0.006087158340960741\n",
            "Loss: 0.006084867287427187 Accuracy: 0.006093135569244623\n",
            "WARNING:tensorflow:Model was constructed with shape Tensor(\"input_1:0\", shape=(128, 32, 32, 3), dtype=float32) for input (128, 32, 32, 3), but it was re-called on a Tensor with incompatible shape (80, 32, 32, 3).\n",
            "Loss: 0.006250186823308468 Accuracy: 0.006079516839236021\n",
            "Loss: 0.006337032653391361 Accuracy: 0.006099711172282696\n",
            "Loss: 0.006866662297397852 Accuracy: 0.006088340189307928\n",
            "Loss: 0.00634521571919322 Accuracy: 0.006059532053768635\n",
            "WARNING:tensorflow:Model was constructed with shape Tensor(\"input_1:0\", shape=(128, 32, 32, 3), dtype=float32) for input (128, 32, 32, 3), but it was re-called on a Tensor with incompatible shape (80, 32, 32, 3).\n",
            "Loss: 0.005777091719210148 Accuracy: 0.006058062892407179\n",
            "Loss: 0.005873478949069977 Accuracy: 0.0061078667640686035\n",
            "Loss: 0.005930986721068621 Accuracy: 0.006080897990614176\n",
            "Loss: 0.006050020456314087 Accuracy: 0.0060716476291418076\n",
            "WARNING:tensorflow:Model was constructed with shape Tensor(\"input_1:0\", shape=(128, 32, 32, 3), dtype=float32) for input (128, 32, 32, 3), but it was re-called on a Tensor with incompatible shape (80, 32, 32, 3).\n",
            "Loss: 0.006381898187100887 Accuracy: 0.006041591987013817\n",
            "Loss: 0.006050001829862595 Accuracy: 0.006111517082899809\n",
            "Loss: 0.005856999661773443 Accuracy: 0.006091313902288675\n",
            "WARNING:tensorflow:Model was constructed with shape Tensor(\"input_1:0\", shape=(128, 32, 32, 3), dtype=float32) for input (128, 32, 32, 3), but it was re-called on a Tensor with incompatible shape (80, 32, 32, 3).\n",
            "Loss: 0.005657137371599674 Accuracy: 0.00610395846888423\n",
            "Loss: 0.006003217305988073 Accuracy: 0.006092444062232971\n",
            "Loss: 0.005806196015328169 Accuracy: 0.006061622407287359\n",
            "Loss: 0.005934762768447399 Accuracy: 0.0060766469687223434\n",
            "WARNING:tensorflow:Model was constructed with shape Tensor(\"input_1:0\", shape=(128, 32, 32, 3), dtype=float32) for input (128, 32, 32, 3), but it was re-called on a Tensor with incompatible shape (80, 32, 32, 3).\n",
            "Loss: 0.00650101900100708 Accuracy: 0.006047773640602827\n",
            "Loss: 0.0060196854174137115 Accuracy: 0.006083352025598288\n",
            "Loss: 0.006123145576566458 Accuracy: 0.006089993752539158\n",
            "Loss: 0.006148253567516804 Accuracy: 0.006054936442524195\n",
            "WARNING:tensorflow:Model was constructed with shape Tensor(\"input_1:0\", shape=(128, 32, 32, 3), dtype=float32) for input (128, 32, 32, 3), but it was re-called on a Tensor with incompatible shape (80, 32, 32, 3).\n",
            "Loss: 0.005963139235973358 Accuracy: 0.006016279570758343\n",
            "Loss: 0.005850180983543396 Accuracy: 0.0060412525199353695\n",
            "Loss: 0.006041334941983223 Accuracy: 0.00603452930226922\n",
            "Loss: 0.006112248636782169 Accuracy: 0.006132496986538172\n",
            "WARNING:tensorflow:Model was constructed with shape Tensor(\"input_1:0\", shape=(128, 32, 32, 3), dtype=float32) for input (128, 32, 32, 3), but it was re-called on a Tensor with incompatible shape (80, 32, 32, 3).\n",
            "Loss: 0.006228524260222912 Accuracy: 0.006041764747351408\n",
            "Loss: 0.005592210218310356 Accuracy: 0.0060683186165988445\n",
            "Loss: 0.005826427601277828 Accuracy: 0.006055653560906649\n",
            "Loss: 0.00552540086209774 Accuracy: 0.006059625651687384\n",
            "WARNING:tensorflow:Model was constructed with shape Tensor(\"input_1:0\", shape=(128, 32, 32, 3), dtype=float32) for input (128, 32, 32, 3), but it was re-called on a Tensor with incompatible shape (80, 32, 32, 3).\n",
            "Loss: 0.006067706737667322 Accuracy: 0.006084631662815809\n",
            "Loss: 0.005674585700035095 Accuracy: 0.006022901739925146\n",
            "Loss: 0.006179691758006811 Accuracy: 0.006063810084015131\n",
            "Loss: 0.0056877583265304565 Accuracy: 0.006007172632962465\n",
            "WARNING:tensorflow:Model was constructed with shape Tensor(\"input_1:0\", shape=(128, 32, 32, 3), dtype=float32) for input (128, 32, 32, 3), but it was re-called on a Tensor with incompatible shape (80, 32, 32, 3).\n",
            "Loss: 0.006576383952051401 Accuracy: 0.006034815683960915\n",
            "Loss: 0.006055319681763649 Accuracy: 0.006067371461540461\n",
            "Loss: 0.005831812042742968 Accuracy: 0.006014813669025898\n",
            "Loss: 0.005748264491558075 Accuracy: 0.006073049735277891\n",
            "WARNING:tensorflow:Model was constructed with shape Tensor(\"input_1:0\", shape=(128, 32, 32, 3), dtype=float32) for input (128, 32, 32, 3), but it was re-called on a Tensor with incompatible shape (80, 32, 32, 3).\n",
            "Loss: 0.005676046013832092 Accuracy: 0.006036191713064909\n",
            "Loss: 0.005758233834058046 Accuracy: 0.0059852804988622665\n",
            "Loss: 0.0060510472394526005 Accuracy: 0.006036877632141113\n",
            "Loss: 0.005845557898283005 Accuracy: 0.006060041021555662\n",
            "WARNING:tensorflow:Model was constructed with shape Tensor(\"input_1:0\", shape=(128, 32, 32, 3), dtype=float32) for input (128, 32, 32, 3), but it was re-called on a Tensor with incompatible shape (80, 32, 32, 3).\n",
            "Loss: 0.0063131945207715034 Accuracy: 0.006084629334509373\n",
            "Loss: 0.006193210370838642 Accuracy: 0.006093116942793131\n",
            "Loss: 0.005393097177147865 Accuracy: 0.005980489309877157\n",
            "Loss: 0.005980954505503178 Accuracy: 0.0060605816543102264\n",
            "WARNING:tensorflow:Model was constructed with shape Tensor(\"input_1:0\", shape=(128, 32, 32, 3), dtype=float32) for input (128, 32, 32, 3), but it was re-called on a Tensor with incompatible shape (80, 32, 32, 3).\n",
            "Loss: 0.005823931191116571 Accuracy: 0.005975090432912111\n",
            "Loss: 0.0060466439463198185 Accuracy: 0.006028585601598024\n",
            "Loss: 0.005818354431539774 Accuracy: 0.006059032864868641\n",
            "Loss: 0.0062605151906609535 Accuracy: 0.006063018459826708\n",
            "WARNING:tensorflow:Model was constructed with shape Tensor(\"input_1:0\", shape=(128, 32, 32, 3), dtype=float32) for input (128, 32, 32, 3), but it was re-called on a Tensor with incompatible shape (80, 32, 32, 3).\n",
            "Loss: 0.005961626768112183 Accuracy: 0.005983126349747181\n",
            "Loss: 0.006108083762228489 Accuracy: 0.0060764579102396965\n",
            "Loss: 0.0061618126928806305 Accuracy: 0.005988269578665495\n",
            "Loss: 0.005981063470244408 Accuracy: 0.006064672023057938\n",
            "WARNING:tensorflow:Model was constructed with shape Tensor(\"input_1:0\", shape=(128, 32, 32, 3), dtype=float32) for input (128, 32, 32, 3), but it was re-called on a Tensor with incompatible shape (80, 32, 32, 3).\n",
            "Loss: 0.005899591371417046 Accuracy: 0.0060224696062505245\n",
            "Loss: 0.0060932813212275505 Accuracy: 0.0059922621585428715\n",
            "Loss: 0.005729549564421177 Accuracy: 0.006069551222026348\n",
            "WARNING:tensorflow:Model was constructed with shape Tensor(\"input_1:0\", shape=(128, 32, 32, 3), dtype=float32) for input (128, 32, 32, 3), but it was re-called on a Tensor with incompatible shape (80, 32, 32, 3).\n",
            "Loss: 0.006003307644277811 Accuracy: 0.006027289666235447\n",
            "Loss: 0.006110337097197771 Accuracy: 0.005999351851642132\n",
            "Loss: 0.0059929536655545235 Accuracy: 0.006013115867972374\n",
            "Loss: 0.005895034875720739 Accuracy: 0.006050189025700092\n",
            "WARNING:tensorflow:Model was constructed with shape Tensor(\"input_1:0\", shape=(128, 32, 32, 3), dtype=float32) for input (128, 32, 32, 3), but it was re-called on a Tensor with incompatible shape (80, 32, 32, 3).\n",
            "Loss: 0.00552020687609911 Accuracy: 0.005996691528707743\n",
            "Loss: 0.006493097636848688 Accuracy: 0.0059616160579025745\n",
            "Loss: 0.0063210055232048035 Accuracy: 0.006060020998120308\n",
            "Loss: 0.0061310408636927605 Accuracy: 0.006041352637112141\n",
            "WARNING:tensorflow:Model was constructed with shape Tensor(\"input_1:0\", shape=(128, 32, 32, 3), dtype=float32) for input (128, 32, 32, 3), but it was re-called on a Tensor with incompatible shape (80, 32, 32, 3).\n",
            "Loss: 0.005529342219233513 Accuracy: 0.005972288083285093\n",
            "Loss: 0.006047507282346487 Accuracy: 0.005973599385470152\n",
            "Loss: 0.005756746046245098 Accuracy: 0.006011643912643194\n",
            "Loss: 0.006546934135258198 Accuracy: 0.006038131192326546\n",
            "WARNING:tensorflow:Model was constructed with shape Tensor(\"input_1:0\", shape=(128, 32, 32, 3), dtype=float32) for input (128, 32, 32, 3), but it was re-called on a Tensor with incompatible shape (80, 32, 32, 3).\n",
            "Loss: 0.0053612664341926575 Accuracy: 0.005957170855253935\n",
            "Loss: 0.006356447469443083 Accuracy: 0.005987134762108326\n",
            "Loss: 0.005538098979741335 Accuracy: 0.006066910456866026\n",
            "Loss: 0.0060805268585681915 Accuracy: 0.006005681119859219\n",
            "WARNING:tensorflow:Model was constructed with shape Tensor(\"input_1:0\", shape=(128, 32, 32, 3), dtype=float32) for input (128, 32, 32, 3), but it was re-called on a Tensor with incompatible shape (80, 32, 32, 3).\n",
            "Loss: 0.005539903417229652 Accuracy: 0.006041694898158312\n",
            "Loss: 0.005677982233464718 Accuracy: 0.005997312255203724\n",
            "Loss: 0.005718103144317865 Accuracy: 0.005979354493319988\n",
            "Loss: 0.006217324174940586 Accuracy: 0.0060219187289476395\n",
            "WARNING:tensorflow:Model was constructed with shape Tensor(\"input_1:0\", shape=(128, 32, 32, 3), dtype=float32) for input (128, 32, 32, 3), but it was re-called on a Tensor with incompatible shape (80, 32, 32, 3).\n",
            "Loss: 0.006287876050919294 Accuracy: 0.006058848928660154\n",
            "Loss: 0.005841743666678667 Accuracy: 0.005970774684101343\n",
            "Loss: 0.006123827770352364 Accuracy: 0.006023694761097431\n",
            "Loss: 0.005873192101716995 Accuracy: 0.005978098604828119\n",
            "WARNING:tensorflow:Model was constructed with shape Tensor(\"input_1:0\", shape=(128, 32, 32, 3), dtype=float32) for input (128, 32, 32, 3), but it was re-called on a Tensor with incompatible shape (80, 32, 32, 3).\n",
            "Loss: 0.00585856381803751 Accuracy: 0.006042501889169216\n",
            "Loss: 0.006041300017386675 Accuracy: 0.0059402380138635635\n",
            "Loss: 0.006355224177241325 Accuracy: 0.006022219080477953\n",
            "Loss: 0.006122551392763853 Accuracy: 0.005953365936875343\n",
            "WARNING:tensorflow:Model was constructed with shape Tensor(\"input_1:0\", shape=(128, 32, 32, 3), dtype=float32) for input (128, 32, 32, 3), but it was re-called on a Tensor with incompatible shape (80, 32, 32, 3).\n",
            "Loss: 0.0057434989139437675 Accuracy: 0.0059531438164412975\n",
            "Loss: 0.005779808387160301 Accuracy: 0.006031529512256384\n",
            "Loss: 0.005991039332002401 Accuracy: 0.006000107154250145\n",
            "Loss: 0.006281712092459202 Accuracy: 0.005985946860164404\n",
            "WARNING:tensorflow:Model was constructed with shape Tensor(\"input_1:0\", shape=(128, 32, 32, 3), dtype=float32) for input (128, 32, 32, 3), but it was re-called on a Tensor with incompatible shape (80, 32, 32, 3).\n",
            "Loss: 0.00597417913377285 Accuracy: 0.005991045385599136\n",
            "Loss: 0.006352973636239767 Accuracy: 0.006009284872561693\n",
            "Loss: 0.005551171954721212 Accuracy: 0.00600158516317606\n",
            "Loss: 0.005779523402452469 Accuracy: 0.006006477866321802\n",
            "WARNING:tensorflow:Model was constructed with shape Tensor(\"input_1:0\", shape=(128, 32, 32, 3), dtype=float32) for input (128, 32, 32, 3), but it was re-called on a Tensor with incompatible shape (80, 32, 32, 3).\n",
            "Loss: 0.005794144235551357 Accuracy: 0.00594739243388176\n",
            "Loss: 0.006142163649201393 Accuracy: 0.005972868297249079\n",
            "Loss: 0.005929202772676945 Accuracy: 0.0059368796646595\n",
            "Loss: 0.006316726095974445 Accuracy: 0.006043035537004471\n",
            "WARNING:tensorflow:Model was constructed with shape Tensor(\"input_1:0\", shape=(128, 32, 32, 3), dtype=float32) for input (128, 32, 32, 3), but it was re-called on a Tensor with incompatible shape (80, 32, 32, 3).\n",
            "Loss: 0.00598317664116621 Accuracy: 0.005946496967226267\n",
            "Loss: 0.005847197026014328 Accuracy: 0.005941316485404968\n",
            "Loss: 0.006173395086079836 Accuracy: 0.006040343549102545\n",
            "WARNING:tensorflow:Model was constructed with shape Tensor(\"input_1:0\", shape=(128, 32, 32, 3), dtype=float32) for input (128, 32, 32, 3), but it was re-called on a Tensor with incompatible shape (80, 32, 32, 3).\n",
            "Loss: 0.005729750730097294 Accuracy: 0.0059821512550115585\n",
            "Loss: 0.005673657171428204 Accuracy: 0.005951679311692715\n",
            "Loss: 0.006238871719688177 Accuracy: 0.005989363882690668\n",
            "Loss: 0.006234390661120415 Accuracy: 0.006009815260767937\n",
            "WARNING:tensorflow:Model was constructed with shape Tensor(\"input_1:0\", shape=(128, 32, 32, 3), dtype=float32) for input (128, 32, 32, 3), but it was re-called on a Tensor with incompatible shape (80, 32, 32, 3).\n",
            "Loss: 0.0058875856921076775 Accuracy: 0.005958859808743\n",
            "Loss: 0.006076538469642401 Accuracy: 0.005979873705655336\n",
            "Loss: 0.006446224171668291 Accuracy: 0.005962237250059843\n",
            "Loss: 0.006287364289164543 Accuracy: 0.005958516616374254\n",
            "WARNING:tensorflow:Model was constructed with shape Tensor(\"input_1:0\", shape=(128, 32, 32, 3), dtype=float32) for input (128, 32, 32, 3), but it was re-called on a Tensor with incompatible shape (80, 32, 32, 3).\n",
            "Loss: 0.006051322445273399 Accuracy: 0.005924181547015905\n",
            "Loss: 0.006367892492562532 Accuracy: 0.005999783053994179\n",
            "Loss: 0.006028559058904648 Accuracy: 0.005934817250818014\n",
            "Loss: 0.005557606928050518 Accuracy: 0.005944541189819574\n",
            "WARNING:tensorflow:Model was constructed with shape Tensor(\"input_1:0\", shape=(128, 32, 32, 3), dtype=float32) for input (128, 32, 32, 3), but it was re-called on a Tensor with incompatible shape (80, 32, 32, 3).\n",
            "Loss: 0.005588516127318144 Accuracy: 0.00596975814551115\n",
            "Loss: 0.006269335746765137 Accuracy: 0.0060018813237547874\n",
            "Loss: 0.005774849094450474 Accuracy: 0.005908587947487831\n",
            "Loss: 0.00613899203017354 Accuracy: 0.005981734953820705\n",
            "WARNING:tensorflow:Model was constructed with shape Tensor(\"input_1:0\", shape=(128, 32, 32, 3), dtype=float32) for input (128, 32, 32, 3), but it was re-called on a Tensor with incompatible shape (80, 32, 32, 3).\n",
            "Loss: 0.006072718650102615 Accuracy: 0.005955714266747236\n",
            "Loss: 0.006549119483679533 Accuracy: 0.00593741936609149\n",
            "Loss: 0.006407300941646099 Accuracy: 0.005991688463836908\n",
            "Loss: 0.005693767685443163 Accuracy: 0.005960238166153431\n",
            "WARNING:tensorflow:Model was constructed with shape Tensor(\"input_1:0\", shape=(128, 32, 32, 3), dtype=float32) for input (128, 32, 32, 3), but it was re-called on a Tensor with incompatible shape (80, 32, 32, 3).\n",
            "Loss: 0.005604773294180632 Accuracy: 0.005961616989225149\n",
            "Loss: 0.006053511518985033 Accuracy: 0.005935888737440109\n",
            "Loss: 0.005870063789188862 Accuracy: 0.005971499718725681\n",
            "Loss: 0.005891669541597366 Accuracy: 0.005954274442046881\n",
            "WARNING:tensorflow:Model was constructed with shape Tensor(\"input_1:0\", shape=(128, 32, 32, 3), dtype=float32) for input (128, 32, 32, 3), but it was re-called on a Tensor with incompatible shape (80, 32, 32, 3).\n",
            "Loss: 0.006170585285872221 Accuracy: 0.005894992966204882\n",
            "Loss: 0.006646697409451008 Accuracy: 0.005973790306597948\n",
            "Loss: 0.005688995122909546 Accuracy: 0.006022351793944836\n",
            "Loss: 0.005595690570771694 Accuracy: 0.005939528811722994\n",
            "WARNING:tensorflow:Model was constructed with shape Tensor(\"input_1:0\", shape=(128, 32, 32, 3), dtype=float32) for input (128, 32, 32, 3), but it was re-called on a Tensor with incompatible shape (80, 32, 32, 3).\n",
            "Loss: 0.0057266149669885635 Accuracy: 0.005964266136288643\n",
            "Loss: 0.006134163122624159 Accuracy: 0.00597063172608614\n",
            "Loss: 0.00592052610591054 Accuracy: 0.005978381261229515\n",
            "Loss: 0.006396607495844364 Accuracy: 0.00591712910681963\n",
            "WARNING:tensorflow:Model was constructed with shape Tensor(\"input_1:0\", shape=(128, 32, 32, 3), dtype=float32) for input (128, 32, 32, 3), but it was re-called on a Tensor with incompatible shape (80, 32, 32, 3).\n",
            "Loss: 0.005866079591214657 Accuracy: 0.005950517952442169\n",
            "Loss: 0.006381790619343519 Accuracy: 0.005959012545645237\n",
            "Loss: 0.005757712759077549 Accuracy: 0.0059044319204986095\n",
            "Loss: 0.006014133803546429 Accuracy: 0.005981180816888809\n",
            "WARNING:tensorflow:Model was constructed with shape Tensor(\"input_1:0\", shape=(128, 32, 32, 3), dtype=float32) for input (128, 32, 32, 3), but it was re-called on a Tensor with incompatible shape (80, 32, 32, 3).\n",
            "Loss: 0.006097777280956507 Accuracy: 0.005954339634627104\n",
            "Loss: 0.006441688630729914 Accuracy: 0.006049185525625944\n",
            "Loss: 0.005730663426220417 Accuracy: 0.005916974041610956\n",
            "Loss: 0.006093726493418217 Accuracy: 0.005906180944293737\n",
            "WARNING:tensorflow:Model was constructed with shape Tensor(\"input_1:0\", shape=(128, 32, 32, 3), dtype=float32) for input (128, 32, 32, 3), but it was re-called on a Tensor with incompatible shape (80, 32, 32, 3).\n",
            "Loss: 0.006246751174330711 Accuracy: 0.005942084360867739\n",
            "Loss: 0.005774303805083036 Accuracy: 0.0059692757204174995\n",
            "Loss: 0.005632466170936823 Accuracy: 0.005896898452192545\n",
            "WARNING:tensorflow:Model was constructed with shape Tensor(\"input_1:0\", shape=(128, 32, 32, 3), dtype=float32) for input (128, 32, 32, 3), but it was re-called on a Tensor with incompatible shape (80, 32, 32, 3).\n",
            "Loss: 0.005682202987372875 Accuracy: 0.005915037356317043\n",
            "Loss: 0.005840910132974386 Accuracy: 0.005956646054983139\n",
            "Loss: 0.006018566899001598 Accuracy: 0.005951942875981331\n",
            "Loss: 0.006463448517024517 Accuracy: 0.005876622628420591\n",
            "WARNING:tensorflow:Model was constructed with shape Tensor(\"input_1:0\", shape=(128, 32, 32, 3), dtype=float32) for input (128, 32, 32, 3), but it was re-called on a Tensor with incompatible shape (80, 32, 32, 3).\n",
            "Loss: 0.005925499834120274 Accuracy: 0.005978277884423733\n",
            "Loss: 0.005814585834741592 Accuracy: 0.0059224204160273075\n",
            "Loss: 0.0062110242433846 Accuracy: 0.005932316649705172\n",
            "Loss: 0.005782112944871187 Accuracy: 0.005931822583079338\n",
            "WARNING:tensorflow:Model was constructed with shape Tensor(\"input_1:0\", shape=(128, 32, 32, 3), dtype=float32) for input (128, 32, 32, 3), but it was re-called on a Tensor with incompatible shape (80, 32, 32, 3).\n",
            "Loss: 0.005649078171700239 Accuracy: 0.00588271114975214\n",
            "Loss: 0.005791910458356142 Accuracy: 0.0059110005386173725\n",
            "Loss: 0.00592340063303709 Accuracy: 0.005956624634563923\n",
            "Loss: 0.006447069346904755 Accuracy: 0.005900263786315918\n",
            "WARNING:tensorflow:Model was constructed with shape Tensor(\"input_1:0\", shape=(128, 32, 32, 3), dtype=float32) for input (128, 32, 32, 3), but it was re-called on a Tensor with incompatible shape (80, 32, 32, 3).\n",
            "Loss: 0.006019328720867634 Accuracy: 0.005906231235712767\n",
            "Loss: 0.007171762175858021 Accuracy: 0.005973285995423794\n",
            "Loss: 0.005536829121410847 Accuracy: 0.005951808765530586\n",
            "Loss: 0.005794075317680836 Accuracy: 0.005891258828341961\n",
            "WARNING:tensorflow:Model was constructed with shape Tensor(\"input_1:0\", shape=(128, 32, 32, 3), dtype=float32) for input (128, 32, 32, 3), but it was re-called on a Tensor with incompatible shape (80, 32, 32, 3).\n",
            "Loss: 0.005522111430764198 Accuracy: 0.005872906651347876\n",
            "Loss: 0.005952678620815277 Accuracy: 0.006035299971699715\n",
            "Loss: 0.005653208587318659 Accuracy: 0.005912923254072666\n",
            "Loss: 0.0060228039510548115 Accuracy: 0.005909950006753206\n",
            "WARNING:tensorflow:Model was constructed with shape Tensor(\"input_1:0\", shape=(128, 32, 32, 3), dtype=float32) for input (128, 32, 32, 3), but it was re-called on a Tensor with incompatible shape (80, 32, 32, 3).\n",
            "Loss: 0.006234842352569103 Accuracy: 0.005911069456487894\n",
            "Loss: 0.0062721362337470055 Accuracy: 0.005938849877566099\n",
            "Loss: 0.006123826839029789 Accuracy: 0.005910905543714762\n",
            "Loss: 0.005693027749657631 Accuracy: 0.005908067803829908\n",
            "WARNING:tensorflow:Model was constructed with shape Tensor(\"input_1:0\", shape=(128, 32, 32, 3), dtype=float32) for input (128, 32, 32, 3), but it was re-called on a Tensor with incompatible shape (80, 32, 32, 3).\n",
            "Loss: 0.005835036747157574 Accuracy: 0.005892589688301086\n",
            "Loss: 0.006162634585052729 Accuracy: 0.005938276182860136\n",
            "Loss: 0.006022593472152948 Accuracy: 0.005879526026546955\n",
            "Loss: 0.006236671470105648 Accuracy: 0.00589884864166379\n",
            "WARNING:tensorflow:Model was constructed with shape Tensor(\"input_1:0\", shape=(128, 32, 32, 3), dtype=float32) for input (128, 32, 32, 3), but it was re-called on a Tensor with incompatible shape (80, 32, 32, 3).\n",
            "Loss: 0.0055896202102303505 Accuracy: 0.005893226712942123\n",
            "Loss: 0.006445446517318487 Accuracy: 0.0060194311663508415\n",
            "Loss: 0.0061017656698822975 Accuracy: 0.00593630550429225\n",
            "Loss: 0.006006007082760334 Accuracy: 0.00587853416800499\n",
            "WARNING:tensorflow:Model was constructed with shape Tensor(\"input_1:0\", shape=(128, 32, 32, 3), dtype=float32) for input (128, 32, 32, 3), but it was re-called on a Tensor with incompatible shape (80, 32, 32, 3).\n",
            "Loss: 0.006215897388756275 Accuracy: 0.00587738212198019\n",
            "Loss: 0.0057730907574296 Accuracy: 0.0058621373027563095\n",
            "Loss: 0.005577471107244492 Accuracy: 0.005926342681050301\n",
            "Loss: 0.006488720420747995 Accuracy: 0.00594896636903286\n",
            "WARNING:tensorflow:Model was constructed with shape Tensor(\"input_1:0\", shape=(128, 32, 32, 3), dtype=float32) for input (128, 32, 32, 3), but it was re-called on a Tensor with incompatible shape (80, 32, 32, 3).\n",
            "Loss: 0.00555087486281991 Accuracy: 0.005870086140930653\n",
            "Loss: 0.005601571872830391 Accuracy: 0.0059184120036661625\n",
            "Loss: 0.0055896867997944355 Accuracy: 0.005881939548999071\n",
            "Loss: 0.005684454459697008 Accuracy: 0.00587782496586442\n",
            "WARNING:tensorflow:Model was constructed with shape Tensor(\"input_1:0\", shape=(128, 32, 32, 3), dtype=float32) for input (128, 32, 32, 3), but it was re-called on a Tensor with incompatible shape (80, 32, 32, 3).\n",
            "Loss: 0.005657820962369442 Accuracy: 0.00588424364104867\n",
            "Loss: 0.005781220272183418 Accuracy: 0.005934359040111303\n",
            "Loss: 0.005419193767011166 Accuracy: 0.005902630742639303\n",
            "WARNING:tensorflow:Model was constructed with shape Tensor(\"input_1:0\", shape=(128, 32, 32, 3), dtype=float32) for input (128, 32, 32, 3), but it was re-called on a Tensor with incompatible shape (80, 32, 32, 3).\n",
            "Loss: 0.0060008978471159935 Accuracy: 0.005902185570448637\n",
            "Loss: 0.006376140750944614 Accuracy: 0.005917681381106377\n",
            "Loss: 0.005778717342764139 Accuracy: 0.005895630922168493\n",
            "Loss: 0.006411856040358543 Accuracy: 0.005876920651644468\n",
            "WARNING:tensorflow:Model was constructed with shape Tensor(\"input_1:0\", shape=(128, 32, 32, 3), dtype=float32) for input (128, 32, 32, 3), but it was re-called on a Tensor with incompatible shape (80, 32, 32, 3).\n",
            "Loss: 0.006075144279748201 Accuracy: 0.005890226457268\n",
            "Loss: 0.006033067125827074 Accuracy: 0.005919539835304022\n",
            "Loss: 0.0056945946998894215 Accuracy: 0.005857876967638731\n",
            "Loss: 0.005838582292199135 Accuracy: 0.005931294057518244\n",
            "WARNING:tensorflow:Model was constructed with shape Tensor(\"input_1:0\", shape=(128, 32, 32, 3), dtype=float32) for input (128, 32, 32, 3), but it was re-called on a Tensor with incompatible shape (80, 32, 32, 3).\n",
            "Loss: 0.006261721253395081 Accuracy: 0.005856976844370365\n",
            "Loss: 0.006003556773066521 Accuracy: 0.005945935845375061\n",
            "Loss: 0.006135245785117149 Accuracy: 0.005872585345059633\n",
            "Loss: 0.00595215056091547 Accuracy: 0.005883018486201763\n",
            "WARNING:tensorflow:Model was constructed with shape Tensor(\"input_1:0\", shape=(128, 32, 32, 3), dtype=float32) for input (128, 32, 32, 3), but it was re-called on a Tensor with incompatible shape (80, 32, 32, 3).\n",
            "Loss: 0.00552964536473155 Accuracy: 0.00587496580556035\n",
            "Loss: 0.0059270067140460014 Accuracy: 0.00587591715157032\n",
            "Loss: 0.005811942741274834 Accuracy: 0.005913421977311373\n",
            "Loss: 0.005617410410195589 Accuracy: 0.005888559389859438\n",
            "WARNING:tensorflow:Model was constructed with shape Tensor(\"input_1:0\", shape=(128, 32, 32, 3), dtype=float32) for input (128, 32, 32, 3), but it was re-called on a Tensor with incompatible shape (80, 32, 32, 3).\n",
            "Loss: 0.00600189296528697 Accuracy: 0.0058809504844248295\n",
            "Loss: 0.0059982780367136 Accuracy: 0.0058937352150678635\n",
            "Loss: 0.00539509067311883 Accuracy: 0.005876101087778807\n",
            "Loss: 0.005530442576855421 Accuracy: 0.005887181963771582\n",
            "WARNING:tensorflow:Model was constructed with shape Tensor(\"input_1:0\", shape=(128, 32, 32, 3), dtype=float32) for input (128, 32, 32, 3), but it was re-called on a Tensor with incompatible shape (80, 32, 32, 3).\n",
            "Loss: 0.005614663474261761 Accuracy: 0.005891063250601292\n",
            "Loss: 0.0059860507026314735 Accuracy: 0.005928974598646164\n",
            "Loss: 0.005901014432311058 Accuracy: 0.00588937709107995\n",
            "Loss: 0.005725637543946505 Accuracy: 0.005888161715120077\n",
            "WARNING:tensorflow:Model was constructed with shape Tensor(\"input_1:0\", shape=(128, 32, 32, 3), dtype=float32) for input (128, 32, 32, 3), but it was re-called on a Tensor with incompatible shape (80, 32, 32, 3).\n",
            "Loss: 0.005687881261110306 Accuracy: 0.005855980329215527\n",
            "Loss: 0.005572820082306862 Accuracy: 0.005905738100409508\n",
            "Loss: 0.00581856444478035 Accuracy: 0.005852299742400646\n",
            "Loss: 0.005906637758016586 Accuracy: 0.005930199753493071\n",
            "WARNING:tensorflow:Model was constructed with shape Tensor(\"input_1:0\", shape=(128, 32, 32, 3), dtype=float32) for input (128, 32, 32, 3), but it was re-called on a Tensor with incompatible shape (80, 32, 32, 3).\n",
            "Loss: 0.005963156931102276 Accuracy: 0.005819701123982668\n",
            "Loss: 0.005899147130548954 Accuracy: 0.0058530718088150024\n",
            "Loss: 0.005813656374812126 Accuracy: 0.005885266698896885\n",
            "Loss: 0.006180498283356428 Accuracy: 0.005933740641921759\n",
            "WARNING:tensorflow:Model was constructed with shape Tensor(\"input_1:0\", shape=(128, 32, 32, 3), dtype=float32) for input (128, 32, 32, 3), but it was re-called on a Tensor with incompatible shape (80, 32, 32, 3).\n",
            "Loss: 0.006141745951026678 Accuracy: 0.0058756424114108086\n",
            "Loss: 0.005801737308502197 Accuracy: 0.005852948408573866\n",
            "Loss: 0.005851714871823788 Accuracy: 0.0058197337202727795\n",
            "Loss: 0.005692599341273308 Accuracy: 0.005949074402451515\n",
            "WARNING:tensorflow:Model was constructed with shape Tensor(\"input_1:0\", shape=(128, 32, 32, 3), dtype=float32) for input (128, 32, 32, 3), but it was re-called on a Tensor with incompatible shape (80, 32, 32, 3).\n",
            "Loss: 0.005931515246629715 Accuracy: 0.005795180331915617\n",
            "Loss: 0.00530973169952631 Accuracy: 0.005851967725902796\n",
            "Loss: 0.006181883160024881 Accuracy: 0.0059086354449391365\n",
            "Loss: 0.0060051204636693 Accuracy: 0.005873749032616615\n",
            "WARNING:tensorflow:Model was constructed with shape Tensor(\"input_1:0\", shape=(128, 32, 32, 3), dtype=float32) for input (128, 32, 32, 3), but it was re-called on a Tensor with incompatible shape (80, 32, 32, 3).\n",
            "Loss: 0.005676086526364088 Accuracy: 0.0058521670289337635\n",
            "Loss: 0.006175698712468147 Accuracy: 0.005903678946197033\n",
            "Loss: 0.005624187644571066 Accuracy: 0.005865131039172411\n",
            "WARNING:tensorflow:Model was constructed with shape Tensor(\"input_1:0\", shape=(128, 32, 32, 3), dtype=float32) for input (128, 32, 32, 3), but it was re-called on a Tensor with incompatible shape (80, 32, 32, 3).\n",
            "Loss: 0.005608822219073772 Accuracy: 0.005861449986696243\n",
            "Loss: 0.00590528966858983 Accuracy: 0.0058472175151109695\n",
            "Loss: 0.006100309547036886 Accuracy: 0.005808097310364246\n",
            "Loss: 0.005813198164105415 Accuracy: 0.005848778411746025\n",
            "WARNING:tensorflow:Model was constructed with shape Tensor(\"input_1:0\", shape=(128, 32, 32, 3), dtype=float32) for input (128, 32, 32, 3), but it was re-called on a Tensor with incompatible shape (80, 32, 32, 3).\n",
            "Loss: 0.005660276859998703 Accuracy: 0.005916670896112919\n",
            "Loss: 0.005647268611937761 Accuracy: 0.0058742123655974865\n",
            "Loss: 0.006131491158157587 Accuracy: 0.005867809057235718\n",
            "Loss: 0.006005792412906885 Accuracy: 0.005854155868291855\n",
            "WARNING:tensorflow:Model was constructed with shape Tensor(\"input_1:0\", shape=(128, 32, 32, 3), dtype=float32) for input (128, 32, 32, 3), but it was re-called on a Tensor with incompatible shape (80, 32, 32, 3).\n",
            "Loss: 0.0058486200869083405 Accuracy: 0.005936786998063326\n",
            "Loss: 0.005555969197303057 Accuracy: 0.005811293609440327\n",
            "Loss: 0.0056287203915417194 Accuracy: 0.0058112661354243755\n",
            "Loss: 0.0059656319208443165 Accuracy: 0.005885127931833267\n",
            "WARNING:tensorflow:Model was constructed with shape Tensor(\"input_1:0\", shape=(128, 32, 32, 3), dtype=float32) for input (128, 32, 32, 3), but it was re-called on a Tensor with incompatible shape (80, 32, 32, 3).\n",
            "Loss: 0.005695297382771969 Accuracy: 0.005864378996193409\n",
            "Loss: 0.005541362799704075 Accuracy: 0.0058375815860927105\n",
            "Loss: 0.005651951767504215 Accuracy: 0.0058808778412640095\n",
            "Loss: 0.005953053943812847 Accuracy: 0.005836446303874254\n",
            "WARNING:tensorflow:Model was constructed with shape Tensor(\"input_1:0\", shape=(128, 32, 32, 3), dtype=float32) for input (128, 32, 32, 3), but it was re-called on a Tensor with incompatible shape (80, 32, 32, 3).\n",
            "Loss: 0.005795756820589304 Accuracy: 0.005844385363161564\n",
            "Loss: 0.005987839307636023 Accuracy: 0.005911539308726788\n",
            "Loss: 0.005803280510008335 Accuracy: 0.005836591590195894\n",
            "Loss: 0.005472612101584673 Accuracy: 0.00586325628682971\n",
            "WARNING:tensorflow:Model was constructed with shape Tensor(\"input_1:0\", shape=(128, 32, 32, 3), dtype=float32) for input (128, 32, 32, 3), but it was re-called on a Tensor with incompatible shape (80, 32, 32, 3).\n",
            "Loss: 0.005919795949012041 Accuracy: 0.005829028319567442\n",
            "Loss: 0.005950131919234991 Accuracy: 0.005838689859956503\n",
            "Loss: 0.005908658262342215 Accuracy: 0.005858599673956633\n",
            "Loss: 0.005811799317598343 Accuracy: 0.0058340998366475105\n",
            "WARNING:tensorflow:Model was constructed with shape Tensor(\"input_1:0\", shape=(128, 32, 32, 3), dtype=float32) for input (128, 32, 32, 3), but it was re-called on a Tensor with incompatible shape (80, 32, 32, 3).\n",
            "Loss: 0.0057973237708210945 Accuracy: 0.005821318365633488\n",
            "Loss: 0.006103288382291794 Accuracy: 0.005877940449863672\n",
            "Loss: 0.005908605642616749 Accuracy: 0.005869955290108919\n",
            "Loss: 0.005625521298497915 Accuracy: 0.0058244033716619015\n",
            "WARNING:tensorflow:Model was constructed with shape Tensor(\"input_1:0\", shape=(128, 32, 32, 3), dtype=float32) for input (128, 32, 32, 3), but it was re-called on a Tensor with incompatible shape (80, 32, 32, 3).\n",
            "Loss: 0.005724315531551838 Accuracy: 0.005824849009513855\n",
            "Loss: 0.006121614947915077 Accuracy: 0.005821563769131899\n",
            "Loss: 0.0058218203485012054 Accuracy: 0.00589090446010232\n",
            "Loss: 0.005553634837269783 Accuracy: 0.005827793851494789\n",
            "WARNING:tensorflow:Model was constructed with shape Tensor(\"input_1:0\", shape=(128, 32, 32, 3), dtype=float32) for input (128, 32, 32, 3), but it was re-called on a Tensor with incompatible shape (80, 32, 32, 3).\n",
            "Loss: 0.006426106207072735 Accuracy: 0.005787170957773924\n",
            "Loss: 0.0056899720802903175 Accuracy: 0.005877340212464333\n",
            "Loss: 0.005484589375555515 Accuracy: 0.0058430577628314495\n",
            "Loss: 0.005900555290281773 Accuracy: 0.005835092626512051\n",
            "WARNING:tensorflow:Model was constructed with shape Tensor(\"input_1:0\", shape=(128, 32, 32, 3), dtype=float32) for input (128, 32, 32, 3), but it was re-called on a Tensor with incompatible shape (80, 32, 32, 3).\n",
            "Loss: 0.005820583552122116 Accuracy: 0.005842967890202999\n",
            "Loss: 0.005638068541884422 Accuracy: 0.005883598234504461\n",
            "Loss: 0.005553290247917175 Accuracy: 0.005828952416777611\n",
            "Loss: 0.0058765471912920475 Accuracy: 0.005797913298010826\n",
            "WARNING:tensorflow:Model was constructed with shape Tensor(\"input_1:0\", shape=(128, 32, 32, 3), dtype=float32) for input (128, 32, 32, 3), but it was re-called on a Tensor with incompatible shape (80, 32, 32, 3).\n",
            "Loss: 0.005727703683078289 Accuracy: 0.005869334563612938\n",
            "Loss: 0.005391813814640045 Accuracy: 0.005831057205796242\n",
            "Loss: 0.006231885403394699 Accuracy: 0.00580923305824399\n",
            "WARNING:tensorflow:Model was constructed with shape Tensor(\"input_1:0\", shape=(128, 32, 32, 3), dtype=float32) for input (128, 32, 32, 3), but it was re-called on a Tensor with incompatible shape (80, 32, 32, 3).\n",
            "Loss: 0.005194341763854027 Accuracy: 0.00583668053150177\n",
            "Loss: 0.006482087075710297 Accuracy: 0.0057883248664438725\n",
            "Loss: 0.005494399927556515 Accuracy: 0.005833374336361885\n",
            "Loss: 0.00527587253600359 Accuracy: 0.005810147617012262\n",
            "WARNING:tensorflow:Model was constructed with shape Tensor(\"input_1:0\", shape=(128, 32, 32, 3), dtype=float32) for input (128, 32, 32, 3), but it was re-called on a Tensor with incompatible shape (80, 32, 32, 3).\n",
            "Loss: 0.005965542048215866 Accuracy: 0.005900691729038954\n",
            "Loss: 0.005560531746596098 Accuracy: 0.005826054606586695\n",
            "Loss: 0.005573275499045849 Accuracy: 0.005800524726510048\n",
            "Loss: 0.005734196864068508 Accuracy: 0.005856503266841173\n",
            "WARNING:tensorflow:Model was constructed with shape Tensor(\"input_1:0\", shape=(128, 32, 32, 3), dtype=float32) for input (128, 32, 32, 3), but it was re-called on a Tensor with incompatible shape (80, 32, 32, 3).\n",
            "Loss: 0.006186335813254118 Accuracy: 0.005819973535835743\n",
            "Loss: 0.00580329354852438 Accuracy: 0.00585057632997632\n",
            "Loss: 0.005768423900008202 Accuracy: 0.005862959194928408\n",
            "Loss: 0.0057939160615205765 Accuracy: 0.005799157544970512\n",
            "WARNING:tensorflow:Model was constructed with shape Tensor(\"input_1:0\", shape=(128, 32, 32, 3), dtype=float32) for input (128, 32, 32, 3), but it was re-called on a Tensor with incompatible shape (80, 32, 32, 3).\n",
            "Loss: 0.005764721892774105 Accuracy: 0.00584575068205595\n",
            "Loss: 0.005594358313828707 Accuracy: 0.005776842124760151\n",
            "Loss: 0.005462970584630966 Accuracy: 0.005830556619912386\n",
            "Loss: 0.0058297645300626755 Accuracy: 0.005828778725117445\n",
            "WARNING:tensorflow:Model was constructed with shape Tensor(\"input_1:0\", shape=(128, 32, 32, 3), dtype=float32) for input (128, 32, 32, 3), but it was re-called on a Tensor with incompatible shape (80, 32, 32, 3).\n",
            "Loss: 0.006256508640944958 Accuracy: 0.005806343164294958\n",
            "Loss: 0.006136375479400158 Accuracy: 0.005826822482049465\n",
            "Loss: 0.006054986268281937 Accuracy: 0.00579953333362937\n",
            "Loss: 0.005967350676655769 Accuracy: 0.005846614949405193\n",
            "WARNING:tensorflow:Model was constructed with shape Tensor(\"input_1:0\", shape=(128, 32, 32, 3), dtype=float32) for input (128, 32, 32, 3), but it was re-called on a Tensor with incompatible shape (80, 32, 32, 3).\n",
            "Loss: 0.005934096407145262 Accuracy: 0.005838561803102493\n",
            "Loss: 0.006146414205431938 Accuracy: 0.005812312476336956\n",
            "Loss: 0.006083366461098194 Accuracy: 0.005801713559776545\n",
            "Loss: 0.005994451232254505 Accuracy: 0.005836840718984604\n",
            "WARNING:tensorflow:Model was constructed with shape Tensor(\"input_1:0\", shape=(128, 32, 32, 3), dtype=float32) for input (128, 32, 32, 3), but it was re-called on a Tensor with incompatible shape (80, 32, 32, 3).\n",
            "Loss: 0.005779317580163479 Accuracy: 0.005811543669551611\n",
            "Loss: 0.005490625277161598 Accuracy: 0.005807806272059679\n",
            "Loss: 0.005790079012513161 Accuracy: 0.0057856254279613495\n",
            "Loss: 0.005425622221082449 Accuracy: 0.005777680780738592\n",
            "WARNING:tensorflow:Model was constructed with shape Tensor(\"input_1:0\", shape=(128, 32, 32, 3), dtype=float32) for input (128, 32, 32, 3), but it was re-called on a Tensor with incompatible shape (80, 32, 32, 3).\n",
            "Loss: 0.006285124458372593 Accuracy: 0.0059306565672159195\n",
            "Loss: 0.00629563070833683 Accuracy: 0.005851739551872015\n",
            "Loss: 0.005478734150528908 Accuracy: 0.005815568380057812\n",
            "Loss: 0.005824162624776363 Accuracy: 0.005803222768008709\n",
            "WARNING:tensorflow:Model was constructed with shape Tensor(\"input_1:0\", shape=(128, 32, 32, 3), dtype=float32) for input (128, 32, 32, 3), but it was re-called on a Tensor with incompatible shape (80, 32, 32, 3).\n",
            "Loss: 0.005374332424253225 Accuracy: 0.005846358370035887\n",
            "Loss: 0.005958239547908306 Accuracy: 0.005856795236468315\n",
            "Loss: 0.006186218932271004 Accuracy: 0.005780916195362806\n",
            "Loss: 0.005516917444765568 Accuracy: 0.005836484022438526\n",
            "WARNING:tensorflow:Model was constructed with shape Tensor(\"input_1:0\", shape=(128, 32, 32, 3), dtype=float32) for input (128, 32, 32, 3), but it was re-called on a Tensor with incompatible shape (80, 32, 32, 3).\n",
            "Loss: 0.005756081081926823 Accuracy: 0.0058166878297924995\n",
            "Loss: 0.00572460750117898 Accuracy: 0.0057672238908708096\n",
            "Loss: 0.0059706466272473335 Accuracy: 0.005795061122626066\n",
            "Loss: 0.00531130563467741 Accuracy: 0.005832713097333908\n",
            "WARNING:tensorflow:Model was constructed with shape Tensor(\"input_1:0\", shape=(128, 32, 32, 3), dtype=float32) for input (128, 32, 32, 3), but it was re-called on a Tensor with incompatible shape (80, 32, 32, 3).\n",
            "Loss: 0.005527716130018234 Accuracy: 0.005837388336658478\n"
          ],
          "name": "stdout"
        },
        {
          "output_type": "error",
          "ename": "KeyboardInterrupt",
          "evalue": "ignored",
          "traceback": [
            "\u001b[0;31m---------------------------------------------------------------------------\u001b[0m",
            "\u001b[0;31mKeyboardInterrupt\u001b[0m                         Traceback (most recent call last)",
            "\u001b[0;32m<ipython-input-12-abdfad795cae>\u001b[0m in \u001b[0;36m<module>\u001b[0;34m()\u001b[0m\n\u001b[1;32m      1\u001b[0m \u001b[0mmodel\u001b[0m \u001b[0;34m=\u001b[0m \u001b[0mmodel_cnn\u001b[0m\u001b[0;34m(\u001b[0m\u001b[0;36m128\u001b[0m\u001b[0;34m)\u001b[0m\u001b[0;34m\u001b[0m\u001b[0;34m\u001b[0m\u001b[0m\n\u001b[0;32m----> 2\u001b[0;31m \u001b[0mtraining_cnn\u001b[0m\u001b[0;34m(\u001b[0m\u001b[0mloss_fn1\u001b[0m\u001b[0;34m,\u001b[0m\u001b[0mtrain_acc_metric1\u001b[0m\u001b[0;34m,\u001b[0m\u001b[0mmodel\u001b[0m\u001b[0;34m)\u001b[0m\u001b[0;34m\u001b[0m\u001b[0;34m\u001b[0m\u001b[0m\n\u001b[0m",
            "\u001b[0;32m<ipython-input-11-fdb13bc8cbf0>\u001b[0m in \u001b[0;36mtraining_cnn\u001b[0;34m(loss_fn2, train_acc_metric2, model)\u001b[0m\n\u001b[1;32m     13\u001b[0m     \u001b[0mgrads\u001b[0m \u001b[0;34m=\u001b[0m \u001b[0mtape\u001b[0m\u001b[0;34m.\u001b[0m\u001b[0mgradient\u001b[0m\u001b[0;34m(\u001b[0m\u001b[0mxent\u001b[0m\u001b[0;34m,\u001b[0m \u001b[0mvaris\u001b[0m\u001b[0;34m)\u001b[0m\u001b[0;34m\u001b[0m\u001b[0;34m\u001b[0m\u001b[0m\n\u001b[1;32m     14\u001b[0m     \u001b[0mopt\u001b[0m\u001b[0;34m.\u001b[0m\u001b[0mapply_gradients\u001b[0m\u001b[0;34m(\u001b[0m\u001b[0mzip\u001b[0m\u001b[0;34m(\u001b[0m\u001b[0mgrads\u001b[0m\u001b[0;34m,\u001b[0m \u001b[0mvaris\u001b[0m\u001b[0;34m)\u001b[0m\u001b[0;34m)\u001b[0m\u001b[0;34m\u001b[0m\u001b[0;34m\u001b[0m\u001b[0m\n\u001b[0;32m---> 15\u001b[0;31m     \u001b[0mtrain_acc_metric\u001b[0m\u001b[0;34m(\u001b[0m\u001b[0mimg_batch\u001b[0m\u001b[0;34m,\u001b[0m \u001b[0mlogits\u001b[0m\u001b[0;34m)\u001b[0m\u001b[0;34m\u001b[0m\u001b[0;34m\u001b[0m\u001b[0m\n\u001b[0m\u001b[1;32m     16\u001b[0m     \u001b[0;32mif\u001b[0m \u001b[0;32mnot\u001b[0m \u001b[0mstep\u001b[0m \u001b[0;34m%\u001b[0m \u001b[0;36m100\u001b[0m\u001b[0;34m:\u001b[0m\u001b[0;34m\u001b[0m\u001b[0;34m\u001b[0m\u001b[0m\n\u001b[1;32m     17\u001b[0m       \u001b[0mprint\u001b[0m\u001b[0;34m(\u001b[0m\u001b[0;34m\"Loss: {} Accuracy: {}\"\u001b[0m\u001b[0;34m.\u001b[0m\u001b[0mformat\u001b[0m\u001b[0;34m(\u001b[0m\u001b[0mxent\u001b[0m\u001b[0;34m,\u001b[0m \u001b[0mtrain_acc_metric\u001b[0m\u001b[0;34m.\u001b[0m\u001b[0mresult\u001b[0m\u001b[0;34m(\u001b[0m\u001b[0;34m)\u001b[0m\u001b[0;34m)\u001b[0m\u001b[0;34m)\u001b[0m\u001b[0;34m\u001b[0m\u001b[0;34m\u001b[0m\u001b[0m\n",
            "\u001b[0;32m/tensorflow-2.1.0/python3.6/tensorflow_core/python/keras/metrics.py\u001b[0m in \u001b[0;36m__call__\u001b[0;34m(self, *args, **kwargs)\u001b[0m\n\u001b[1;32m    194\u001b[0m     \u001b[0;32mfrom\u001b[0m \u001b[0mtensorflow\u001b[0m\u001b[0;34m.\u001b[0m\u001b[0mpython\u001b[0m\u001b[0;34m.\u001b[0m\u001b[0mkeras\u001b[0m\u001b[0;34m.\u001b[0m\u001b[0mdistribute\u001b[0m \u001b[0;32mimport\u001b[0m \u001b[0mdistributed_training_utils\u001b[0m  \u001b[0;31m# pylint:disable=g-import-not-at-top\u001b[0m\u001b[0;34m\u001b[0m\u001b[0;34m\u001b[0m\u001b[0m\n\u001b[1;32m    195\u001b[0m     return distributed_training_utils.call_replica_local_fn(\n\u001b[0;32m--> 196\u001b[0;31m         replica_local_fn, *args, **kwargs)\n\u001b[0m\u001b[1;32m    197\u001b[0m \u001b[0;34m\u001b[0m\u001b[0m\n\u001b[1;32m    198\u001b[0m   \u001b[0;34m@\u001b[0m\u001b[0mproperty\u001b[0m\u001b[0;34m\u001b[0m\u001b[0;34m\u001b[0m\u001b[0m\n",
            "\u001b[0;32m/tensorflow-2.1.0/python3.6/tensorflow_core/python/keras/distribute/distributed_training_utils.py\u001b[0m in \u001b[0;36mcall_replica_local_fn\u001b[0;34m(fn, *args, **kwargs)\u001b[0m\n\u001b[1;32m   1133\u001b[0m     \u001b[0;32mwith\u001b[0m \u001b[0mstrategy\u001b[0m\u001b[0;34m.\u001b[0m\u001b[0mscope\u001b[0m\u001b[0;34m(\u001b[0m\u001b[0;34m)\u001b[0m\u001b[0;34m:\u001b[0m\u001b[0;34m\u001b[0m\u001b[0;34m\u001b[0m\u001b[0m\n\u001b[1;32m   1134\u001b[0m       \u001b[0;32mreturn\u001b[0m \u001b[0mstrategy\u001b[0m\u001b[0;34m.\u001b[0m\u001b[0mextended\u001b[0m\u001b[0;34m.\u001b[0m\u001b[0mcall_for_each_replica\u001b[0m\u001b[0;34m(\u001b[0m\u001b[0mfn\u001b[0m\u001b[0;34m,\u001b[0m \u001b[0margs\u001b[0m\u001b[0;34m,\u001b[0m \u001b[0mkwargs\u001b[0m\u001b[0;34m)\u001b[0m\u001b[0;34m\u001b[0m\u001b[0;34m\u001b[0m\u001b[0m\n\u001b[0;32m-> 1135\u001b[0;31m   \u001b[0;32mreturn\u001b[0m \u001b[0mfn\u001b[0m\u001b[0;34m(\u001b[0m\u001b[0;34m*\u001b[0m\u001b[0margs\u001b[0m\u001b[0;34m,\u001b[0m \u001b[0;34m**\u001b[0m\u001b[0mkwargs\u001b[0m\u001b[0;34m)\u001b[0m\u001b[0;34m\u001b[0m\u001b[0;34m\u001b[0m\u001b[0m\n\u001b[0m\u001b[1;32m   1136\u001b[0m \u001b[0;34m\u001b[0m\u001b[0m\n\u001b[1;32m   1137\u001b[0m \u001b[0;34m\u001b[0m\u001b[0m\n",
            "\u001b[0;32m/tensorflow-2.1.0/python3.6/tensorflow_core/python/keras/metrics.py\u001b[0m in \u001b[0;36mreplica_local_fn\u001b[0;34m(*args, **kwargs)\u001b[0m\n\u001b[1;32m    177\u001b[0m     \u001b[0;32mdef\u001b[0m \u001b[0mreplica_local_fn\u001b[0m\u001b[0;34m(\u001b[0m\u001b[0;34m*\u001b[0m\u001b[0margs\u001b[0m\u001b[0;34m,\u001b[0m \u001b[0;34m**\u001b[0m\u001b[0mkwargs\u001b[0m\u001b[0;34m)\u001b[0m\u001b[0;34m:\u001b[0m\u001b[0;34m\u001b[0m\u001b[0;34m\u001b[0m\u001b[0m\n\u001b[1;32m    178\u001b[0m       \u001b[0;34m\"\"\"Updates the state of the metric in a replica-local context.\"\"\"\u001b[0m\u001b[0;34m\u001b[0m\u001b[0;34m\u001b[0m\u001b[0m\n\u001b[0;32m--> 179\u001b[0;31m       \u001b[0mupdate_op\u001b[0m \u001b[0;34m=\u001b[0m \u001b[0mself\u001b[0m\u001b[0;34m.\u001b[0m\u001b[0mupdate_state\u001b[0m\u001b[0;34m(\u001b[0m\u001b[0;34m*\u001b[0m\u001b[0margs\u001b[0m\u001b[0;34m,\u001b[0m \u001b[0;34m**\u001b[0m\u001b[0mkwargs\u001b[0m\u001b[0;34m)\u001b[0m  \u001b[0;31m# pylint: disable=not-callable\u001b[0m\u001b[0;34m\u001b[0m\u001b[0;34m\u001b[0m\u001b[0m\n\u001b[0m\u001b[1;32m    180\u001b[0m       \u001b[0;32mwith\u001b[0m \u001b[0mops\u001b[0m\u001b[0;34m.\u001b[0m\u001b[0mcontrol_dependencies\u001b[0m\u001b[0;34m(\u001b[0m\u001b[0;34m[\u001b[0m\u001b[0mupdate_op\u001b[0m\u001b[0;34m]\u001b[0m\u001b[0;34m)\u001b[0m\u001b[0;34m:\u001b[0m\u001b[0;34m\u001b[0m\u001b[0;34m\u001b[0m\u001b[0m\n\u001b[1;32m    181\u001b[0m         \u001b[0mresult_t\u001b[0m \u001b[0;34m=\u001b[0m \u001b[0mself\u001b[0m\u001b[0;34m.\u001b[0m\u001b[0mresult\u001b[0m\u001b[0;34m(\u001b[0m\u001b[0;34m)\u001b[0m  \u001b[0;31m# pylint: disable=not-callable\u001b[0m\u001b[0;34m\u001b[0m\u001b[0;34m\u001b[0m\u001b[0m\n",
            "\u001b[0;32m/tensorflow-2.1.0/python3.6/tensorflow_core/python/keras/utils/metrics_utils.py\u001b[0m in \u001b[0;36mdecorated\u001b[0;34m(metric_obj, *args, **kwargs)\u001b[0m\n\u001b[1;32m     74\u001b[0m \u001b[0;34m\u001b[0m\u001b[0m\n\u001b[1;32m     75\u001b[0m     \u001b[0;32mwith\u001b[0m \u001b[0mtf_utils\u001b[0m\u001b[0;34m.\u001b[0m\u001b[0mgraph_context_for_symbolic_tensors\u001b[0m\u001b[0;34m(\u001b[0m\u001b[0;34m*\u001b[0m\u001b[0margs\u001b[0m\u001b[0;34m,\u001b[0m \u001b[0;34m**\u001b[0m\u001b[0mkwargs\u001b[0m\u001b[0;34m)\u001b[0m\u001b[0;34m:\u001b[0m\u001b[0;34m\u001b[0m\u001b[0;34m\u001b[0m\u001b[0m\n\u001b[0;32m---> 76\u001b[0;31m       \u001b[0mupdate_op\u001b[0m \u001b[0;34m=\u001b[0m \u001b[0mupdate_state_fn\u001b[0m\u001b[0;34m(\u001b[0m\u001b[0;34m*\u001b[0m\u001b[0margs\u001b[0m\u001b[0;34m,\u001b[0m \u001b[0;34m**\u001b[0m\u001b[0mkwargs\u001b[0m\u001b[0;34m)\u001b[0m\u001b[0;34m\u001b[0m\u001b[0;34m\u001b[0m\u001b[0m\n\u001b[0m\u001b[1;32m     77\u001b[0m     \u001b[0;32mif\u001b[0m \u001b[0mupdate_op\u001b[0m \u001b[0;32mis\u001b[0m \u001b[0;32mnot\u001b[0m \u001b[0;32mNone\u001b[0m\u001b[0;34m:\u001b[0m  \u001b[0;31m# update_op will be None in eager execution.\u001b[0m\u001b[0;34m\u001b[0m\u001b[0;34m\u001b[0m\u001b[0m\n\u001b[1;32m     78\u001b[0m       \u001b[0mmetric_obj\u001b[0m\u001b[0;34m.\u001b[0m\u001b[0madd_update\u001b[0m\u001b[0;34m(\u001b[0m\u001b[0mupdate_op\u001b[0m\u001b[0;34m)\u001b[0m\u001b[0;34m\u001b[0m\u001b[0;34m\u001b[0m\u001b[0m\n",
            "\u001b[0;32m/tensorflow-2.1.0/python3.6/tensorflow_core/python/keras/metrics.py\u001b[0m in \u001b[0;36mupdate_state\u001b[0;34m(self, y_true, y_pred, sample_weight)\u001b[0m\n\u001b[1;32m    587\u001b[0m     \u001b[0mmatches\u001b[0m \u001b[0;34m=\u001b[0m \u001b[0mself\u001b[0m\u001b[0;34m.\u001b[0m\u001b[0m_fn\u001b[0m\u001b[0;34m(\u001b[0m\u001b[0my_true\u001b[0m\u001b[0;34m,\u001b[0m \u001b[0my_pred\u001b[0m\u001b[0;34m,\u001b[0m \u001b[0;34m**\u001b[0m\u001b[0mself\u001b[0m\u001b[0;34m.\u001b[0m\u001b[0m_fn_kwargs\u001b[0m\u001b[0;34m)\u001b[0m\u001b[0;34m\u001b[0m\u001b[0;34m\u001b[0m\u001b[0m\n\u001b[1;32m    588\u001b[0m     return super(MeanMetricWrapper, self).update_state(\n\u001b[0;32m--> 589\u001b[0;31m         matches, sample_weight=sample_weight)\n\u001b[0m\u001b[1;32m    590\u001b[0m \u001b[0;34m\u001b[0m\u001b[0m\n\u001b[1;32m    591\u001b[0m   \u001b[0;32mdef\u001b[0m \u001b[0mget_config\u001b[0m\u001b[0;34m(\u001b[0m\u001b[0mself\u001b[0m\u001b[0;34m)\u001b[0m\u001b[0;34m:\u001b[0m\u001b[0;34m\u001b[0m\u001b[0;34m\u001b[0m\u001b[0m\n",
            "\u001b[0;32m/tensorflow-2.1.0/python3.6/tensorflow_core/python/keras/metrics.py\u001b[0m in \u001b[0;36mupdate_state\u001b[0;34m(self, values, sample_weight)\u001b[0m\n\u001b[1;32m    339\u001b[0m       \u001b[0mvalues\u001b[0m \u001b[0;34m=\u001b[0m \u001b[0mmath_ops\u001b[0m\u001b[0;34m.\u001b[0m\u001b[0mmultiply\u001b[0m\u001b[0;34m(\u001b[0m\u001b[0mvalues\u001b[0m\u001b[0;34m,\u001b[0m \u001b[0msample_weight\u001b[0m\u001b[0;34m)\u001b[0m\u001b[0;34m\u001b[0m\u001b[0;34m\u001b[0m\u001b[0m\n\u001b[1;32m    340\u001b[0m \u001b[0;34m\u001b[0m\u001b[0m\n\u001b[0;32m--> 341\u001b[0;31m     \u001b[0mvalue_sum\u001b[0m \u001b[0;34m=\u001b[0m \u001b[0mmath_ops\u001b[0m\u001b[0;34m.\u001b[0m\u001b[0mreduce_sum\u001b[0m\u001b[0;34m(\u001b[0m\u001b[0mvalues\u001b[0m\u001b[0;34m)\u001b[0m\u001b[0;34m\u001b[0m\u001b[0;34m\u001b[0m\u001b[0m\n\u001b[0m\u001b[1;32m    342\u001b[0m     \u001b[0;32mwith\u001b[0m \u001b[0mops\u001b[0m\u001b[0;34m.\u001b[0m\u001b[0mcontrol_dependencies\u001b[0m\u001b[0;34m(\u001b[0m\u001b[0;34m[\u001b[0m\u001b[0mvalue_sum\u001b[0m\u001b[0;34m]\u001b[0m\u001b[0;34m)\u001b[0m\u001b[0;34m:\u001b[0m\u001b[0;34m\u001b[0m\u001b[0;34m\u001b[0m\u001b[0m\n\u001b[1;32m    343\u001b[0m       \u001b[0mupdate_total_op\u001b[0m \u001b[0;34m=\u001b[0m \u001b[0mself\u001b[0m\u001b[0;34m.\u001b[0m\u001b[0mtotal\u001b[0m\u001b[0;34m.\u001b[0m\u001b[0massign_add\u001b[0m\u001b[0;34m(\u001b[0m\u001b[0mvalue_sum\u001b[0m\u001b[0;34m)\u001b[0m\u001b[0;34m\u001b[0m\u001b[0;34m\u001b[0m\u001b[0m\n",
            "\u001b[0;32m/tensorflow-2.1.0/python3.6/tensorflow_core/python/util/dispatch.py\u001b[0m in \u001b[0;36mwrapper\u001b[0;34m(*args, **kwargs)\u001b[0m\n\u001b[1;32m    178\u001b[0m     \u001b[0;34m\"\"\"Call target, and fall back on dispatchers if there is a TypeError.\"\"\"\u001b[0m\u001b[0;34m\u001b[0m\u001b[0;34m\u001b[0m\u001b[0m\n\u001b[1;32m    179\u001b[0m     \u001b[0;32mtry\u001b[0m\u001b[0;34m:\u001b[0m\u001b[0;34m\u001b[0m\u001b[0;34m\u001b[0m\u001b[0m\n\u001b[0;32m--> 180\u001b[0;31m       \u001b[0;32mreturn\u001b[0m \u001b[0mtarget\u001b[0m\u001b[0;34m(\u001b[0m\u001b[0;34m*\u001b[0m\u001b[0margs\u001b[0m\u001b[0;34m,\u001b[0m \u001b[0;34m**\u001b[0m\u001b[0mkwargs\u001b[0m\u001b[0;34m)\u001b[0m\u001b[0;34m\u001b[0m\u001b[0;34m\u001b[0m\u001b[0m\n\u001b[0m\u001b[1;32m    181\u001b[0m     \u001b[0;32mexcept\u001b[0m \u001b[0;34m(\u001b[0m\u001b[0mTypeError\u001b[0m\u001b[0;34m,\u001b[0m \u001b[0mValueError\u001b[0m\u001b[0;34m)\u001b[0m\u001b[0;34m:\u001b[0m\u001b[0;34m\u001b[0m\u001b[0;34m\u001b[0m\u001b[0m\n\u001b[1;32m    182\u001b[0m       \u001b[0;31m# Note: convert_to_eager_tensor currently raises a ValueError, not a\u001b[0m\u001b[0;34m\u001b[0m\u001b[0;34m\u001b[0m\u001b[0;34m\u001b[0m\u001b[0m\n",
            "\u001b[0;32m/tensorflow-2.1.0/python3.6/tensorflow_core/python/ops/math_ops.py\u001b[0m in \u001b[0;36mreduce_sum\u001b[0;34m(input_tensor, axis, keepdims, name)\u001b[0m\n\u001b[1;32m   1593\u001b[0m \u001b[0;34m\u001b[0m\u001b[0m\n\u001b[1;32m   1594\u001b[0m   return reduce_sum_with_dims(input_tensor, axis, keepdims, name,\n\u001b[0;32m-> 1595\u001b[0;31m                               _ReductionDims(input_tensor, axis))\n\u001b[0m\u001b[1;32m   1596\u001b[0m \u001b[0;34m\u001b[0m\u001b[0m\n\u001b[1;32m   1597\u001b[0m \u001b[0;34m\u001b[0m\u001b[0m\n",
            "\u001b[0;32m/tensorflow-2.1.0/python3.6/tensorflow_core/python/ops/math_ops.py\u001b[0m in \u001b[0;36mreduce_sum_with_dims\u001b[0;34m(input_tensor, axis, keepdims, name, dims)\u001b[0m\n\u001b[1;32m   1604\u001b[0m   return _may_reduce_to_scalar(\n\u001b[1;32m   1605\u001b[0m       \u001b[0mkeepdims\u001b[0m\u001b[0;34m,\u001b[0m \u001b[0maxis\u001b[0m\u001b[0;34m,\u001b[0m\u001b[0;34m\u001b[0m\u001b[0;34m\u001b[0m\u001b[0m\n\u001b[0;32m-> 1606\u001b[0;31m       gen_math_ops._sum(input_tensor, dims, keepdims, name=name))\n\u001b[0m\u001b[1;32m   1607\u001b[0m \u001b[0;34m\u001b[0m\u001b[0m\n\u001b[1;32m   1608\u001b[0m \u001b[0;34m\u001b[0m\u001b[0m\n",
            "\u001b[0;32m/tensorflow-2.1.0/python3.6/tensorflow_core/python/ops/gen_math_ops.py\u001b[0m in \u001b[0;36m_sum\u001b[0;34m(input, axis, keep_dims, name)\u001b[0m\n\u001b[1;32m  10156\u001b[0m       _result = _pywrap_tensorflow.TFE_Py_FastPathExecute(\n\u001b[1;32m  10157\u001b[0m         \u001b[0m_ctx\u001b[0m\u001b[0;34m.\u001b[0m\u001b[0m_context_handle\u001b[0m\u001b[0;34m,\u001b[0m \u001b[0mtld\u001b[0m\u001b[0;34m.\u001b[0m\u001b[0mdevice_name\u001b[0m\u001b[0;34m,\u001b[0m \u001b[0;34m\"Sum\"\u001b[0m\u001b[0;34m,\u001b[0m \u001b[0mname\u001b[0m\u001b[0;34m,\u001b[0m \u001b[0mtld\u001b[0m\u001b[0;34m.\u001b[0m\u001b[0mop_callbacks\u001b[0m\u001b[0;34m,\u001b[0m\u001b[0;34m\u001b[0m\u001b[0;34m\u001b[0m\u001b[0m\n\u001b[0;32m> 10158\u001b[0;31m         input, axis, \"keep_dims\", keep_dims)\n\u001b[0m\u001b[1;32m  10159\u001b[0m       \u001b[0;32mreturn\u001b[0m \u001b[0m_result\u001b[0m\u001b[0;34m\u001b[0m\u001b[0;34m\u001b[0m\u001b[0m\n\u001b[1;32m  10160\u001b[0m     \u001b[0;32mexcept\u001b[0m \u001b[0m_core\u001b[0m\u001b[0;34m.\u001b[0m\u001b[0m_FallbackException\u001b[0m\u001b[0;34m:\u001b[0m\u001b[0;34m\u001b[0m\u001b[0;34m\u001b[0m\u001b[0m\n",
            "\u001b[0;31mKeyboardInterrupt\u001b[0m: "
          ]
        }
      ]
    },
    {
      "cell_type": "markdown",
      "metadata": {
        "id": "wWIhO2t7osDm",
        "colab_type": "text"
      },
      "source": [
        "**create a model to visualize the output for 1 img**"
      ]
    },
    {
      "cell_type": "code",
      "metadata": {
        "id": "DhDfH_k2qlmn",
        "colab_type": "code",
        "colab": {}
      },
      "source": [
        " model_vis = model_cnn(1)"
      ],
      "execution_count": null,
      "outputs": []
    },
    {
      "cell_type": "code",
      "metadata": {
        "id": "RTbb_qvPqpxU",
        "colab_type": "code",
        "colab": {}
      },
      "source": [
        "model_vis.set_weights(model.get_weights())"
      ],
      "execution_count": null,
      "outputs": []
    },
    {
      "cell_type": "code",
      "metadata": {
        "id": "e-dS5qWur0Yv",
        "colab_type": "code",
        "colab": {
          "base_uri": "https://localhost:8080/",
          "height": 36
        },
        "outputId": "f2d55fa3-c4ef-4c49-9983-f415003503a5"
      },
      "source": [
        "for step,(img_batch,lbl_batch) in enumerate(data):\n",
        " print(img_batch[0].shape)\n",
        " m = model_vis(tf.reshape(img_batch[0],(1,32,32,3)))\n",
        " break"
      ],
      "execution_count": null,
      "outputs": [
        {
          "output_type": "stream",
          "text": [
            "(32, 32, 3)\n"
          ],
          "name": "stdout"
        }
      ]
    },
    {
      "cell_type": "code",
      "metadata": {
        "id": "TXYMOKmItua1",
        "colab_type": "code",
        "colab": {
          "base_uri": "https://localhost:8080/",
          "height": 178
        },
        "outputId": "3fd4e70e-1042-415a-de1f-ae61621517c6"
      },
      "source": [
        "import matplotlib.pyplot as plt\n",
        "plt.figure(figsize=(2,2))\n",
        "plt.imshow(img_batch[3], cmap=\"Greys_r\")"
      ],
      "execution_count": null,
      "outputs": [
        {
          "output_type": "execute_result",
          "data": {
            "text/plain": [
              "<matplotlib.image.AxesImage at 0x7f3eba7c7eb8>"
            ]
          },
          "metadata": {
            "tags": []
          },
          "execution_count": 19
        },
        {
          "output_type": "display_data",
          "data": {
            "image/png": "[encoded data removed]",
            "text/plain": [
              "<Figure size 144x144 with 1 Axes>"
            ]
          },
          "metadata": {
            "tags": []
          }
        }
      ]
    },
    {
      "cell_type": "markdown",
      "metadata": {
        "id": "V3MXlzyVo7zu",
        "colab_type": "text"
      },
      "source": [
        "output the image from the model"
      ]
    },
    {
      "cell_type": "code",
      "metadata": {
        "id": "-ce0aspYVcut",
        "colab_type": "code",
        "colab": {
          "base_uri": "https://localhost:8080/",
          "height": 178
        },
        "outputId": "0a9bc072-bc0a-425a-dd57-cc1d9616e75f"
      },
      "source": [
        "m = model_vis.predict(tf.reshape(img_batch[3],[-1,32,32,3]))\n",
        "plt.figure(figsize=(2,2))\n",
        "plt.imshow(m[0], cmap=\"Greys_r\")"
      ],
      "execution_count": null,
      "outputs": [
        {
          "output_type": "execute_result",
          "data": {
            "text/plain": [
              "<matplotlib.image.AxesImage at 0x7f3eba7af7b8>"
            ]
          },
          "metadata": {
            "tags": []
          },
          "execution_count": 20
        },
        {
          "output_type": "display_data",
          "data": {
            "image/png": "[encoded data removed]",
            "text/plain": [
              "<Figure size 144x144 with 1 Axes>"
            ]
          },
          "metadata": {
            "tags": []
          }
        }
      ]
    },
    {
      "cell_type": "code",
      "metadata": {
        "id": "tcR51TZAV68F",
        "colab_type": "code",
        "colab": {}
      },
      "source": [
        ""
      ],
      "execution_count": null,
      "outputs": []
    },
    {
      "cell_type": "code",
      "metadata": {
        "id": "KC48SNNAW8dE",
        "colab_type": "code",
        "colab": {}
      },
      "source": [
        ""
      ],
      "execution_count": null,
      "outputs": []
    },
    {
      "cell_type": "code",
      "metadata": {
        "id": "eAYtYf5upnbT",
        "colab_type": "code",
        "colab": {
          "base_uri": "https://localhost:8080/",
          "height": 1000
        },
        "outputId": "629b4adf-3e9e-453c-98ee-48b9cd5ef6e4"
      },
      "source": [
        "from keras.models import Model\n",
        "from keras.layers import Input\n",
        "layer_dict = dict([(layer.name, layer) for layer in model_vis.layers])\n",
        "plt.rcParams[\"figure.figsize\"] = (20,20)\n",
        "\n",
        "for layer in model_vis.layers:\n",
        "\tout = layer.output\n",
        "\tmodel = tf.compat.v1.keras.Model(model_vis.input,out)\n",
        "\tm = model.predict(tf.reshape(img_batch[3],[-1,32,32,3]))\n",
        "\tsquare = 8\n",
        "\tindex = 1\n",
        "\ttry:\n",
        "\t\tif 'conv2d' in layer.name:\n",
        "\t\t\tfor _ in range(square):\n",
        "\t\t\t\tfor _ in range(square):\n",
        "\t\t\t\t\tprint('output of layer',layer.name)\n",
        "\t\t\t\t\tax = plt.subplot(square, square, index)\n",
        "\t\t\t\t\tax.set_xticks([])\n",
        "\t\t\t\t\tax.set_yticks([])\n",
        "\n",
        "\t\t\t\t\tplt.imshow(m[0, :, :, index-1], cmap='viridis')\n",
        "\t\t\t\t\tindex += 1\n",
        "\t\t\t\tplt.show()\n",
        "\texcept:\n",
        "\t\t continue"
      ],
      "execution_count": null,
      "outputs": [
        {
          "output_type": "stream",
          "text": [
            "output of layer conv2d_7\n",
            "output of layer conv2d_7\n",
            "output of layer conv2d_7\n",
            "output of layer conv2d_7\n",
            "output of layer conv2d_7\n",
            "output of layer conv2d_7\n",
            "output of layer conv2d_7\n",
            "output of layer conv2d_7\n"
          ],
          "name": "stdout"
        },
        {
          "output_type": "display_data",
          "data": {
            "image/png": "[encoded data removed]",
            "text/plain": [
              "<Figure size 1440x1440 with 8 Axes>"
            ]
          },
          "metadata": {
            "tags": []
          }
        },
        {
          "output_type": "stream",
          "text": [
            "output of layer conv2d_7\n",
            "output of layer conv2d_7\n",
            "output of layer conv2d_7\n",
            "output of layer conv2d_7\n",
            "output of layer conv2d_7\n",
            "output of layer conv2d_7\n",
            "output of layer conv2d_7\n",
            "output of layer conv2d_7\n"
          ],
          "name": "stdout"
        },
        {
          "output_type": "display_data",
          "data": {
            "image/png": "[encoded data removed]",
            "text/plain": [
              "<Figure size 1440x1440 with 8 Axes>"
            ]
          },
          "metadata": {
            "tags": []
          }
        },
        {
          "output_type": "stream",
          "text": [
            "output of layer conv2d_7\n",
            "output of layer conv2d_7\n",
            "output of layer conv2d_7\n",
            "output of layer conv2d_7\n",
            "output of layer conv2d_7\n",
            "output of layer conv2d_7\n",
            "output of layer conv2d_7\n",
            "output of layer conv2d_7\n"
          ],
          "name": "stdout"
        },
        {
          "output_type": "display_data",
          "data": {
            "image/png": "[encoded data removed]",
            "text/plain": [
              "<Figure size 1440x1440 with 8 Axes>"
            ]
          },
          "metadata": {
            "tags": []
          }
        },
        {
          "output_type": "stream",
          "text": [
            "output of layer conv2d_7\n",
            "output of layer conv2d_7\n",
            "output of layer conv2d_7\n",
            "output of layer conv2d_7\n",
            "output of layer conv2d_7\n",
            "output of layer conv2d_7\n",
            "output of layer conv2d_7\n",
            "output of layer conv2d_7\n"
          ],
          "name": "stdout"
        },
        {
          "output_type": "display_data",
          "data": {
            "image/png": "[encoded data removed]",
            "text/plain": [
              "<Figure size 1440x1440 with 8 Axes>"
            ]
          },
          "metadata": {
            "tags": []
          }
        },
        {
          "output_type": "stream",
          "text": [
            "output of layer conv2d_7\n",
            "output of layer conv2d_8\n",
            "output of layer conv2d_8\n",
            "output of layer conv2d_8\n",
            "output of layer conv2d_8\n",
            "output of layer conv2d_8\n",
            "output of layer conv2d_8\n",
            "output of layer conv2d_8\n",
            "output of layer conv2d_8\n"
          ],
          "name": "stdout"
        },
        {
          "output_type": "display_data",
          "data": {
            "image/png": "[encoded data removed]",
            "text/plain": [
              "<Figure size 1440x1440 with 9 Axes>"
            ]
          },
          "metadata": {
            "tags": []
          }
        },
        {
          "output_type": "stream",
          "text": [
            "output of layer conv2d_8\n",
            "output of layer conv2d_8\n",
            "output of layer conv2d_8\n",
            "output of layer conv2d_8\n",
            "output of layer conv2d_8\n",
            "output of layer conv2d_8\n",
            "output of layer conv2d_8\n",
            "output of layer conv2d_8\n"
          ],
          "name": "stdout"
        },
        {
          "output_type": "display_data",
          "data": {
            "image/png": "[encoded data removed]",
            "text/plain": [
              "<Figure size 1440x1440 with 8 Axes>"
            ]
          },
          "metadata": {
            "tags": []
          }
        },
        {
          "output_type": "stream",
          "text": [
            "output of layer conv2d_8\n",
            "output of layer conv2d_8\n",
            "output of layer conv2d_8\n",
            "output of layer conv2d_8\n",
            "output of layer conv2d_8\n",
            "output of layer conv2d_8\n",
            "output of layer conv2d_8\n",
            "output of layer conv2d_8\n"
          ],
          "name": "stdout"
        },
        {
          "output_type": "display_data",
          "data": {
            "image/png": "[encoded data removed]",
            "text/plain": [
              "<Figure size 1440x1440 with 8 Axes>"
            ]
          },
          "metadata": {
            "tags": []
          }
        },
        {
          "output_type": "stream",
          "text": [
            "output of layer conv2d_8\n",
            "output of layer conv2d_8\n",
            "output of layer conv2d_8\n",
            "output of layer conv2d_8\n",
            "output of layer conv2d_8\n",
            "output of layer conv2d_8\n",
            "output of layer conv2d_8\n",
            "output of layer conv2d_8\n"
          ],
          "name": "stdout"
        },
        {
          "output_type": "display_data",
          "data": {
            "image/png": "[encoded data removed]",
            "text/plain": [
              "<Figure size 1440x1440 with 8 Axes>"
            ]
          },
          "metadata": {
            "tags": []
          }
        },
        {
          "output_type": "stream",
          "text": [
            "output of layer conv2d_8\n",
            "output of layer conv2d_9\n",
            "output of layer conv2d_9\n",
            "output of layer conv2d_9\n",
            "output of layer conv2d_9\n",
            "output of layer conv2d_9\n",
            "output of layer conv2d_9\n",
            "output of layer conv2d_9\n",
            "output of layer conv2d_9\n"
          ],
          "name": "stdout"
        },
        {
          "output_type": "display_data",
          "data": {
            "image/png": "[encoded data removed]",
            "text/plain": [
              "<Figure size 1440x1440 with 9 Axes>"
            ]
          },
          "metadata": {
            "tags": []
          }
        },
        {
          "output_type": "stream",
          "text": [
            "output of layer conv2d_9\n",
            "output of layer conv2d_9\n",
            "output of layer conv2d_9\n",
            "output of layer conv2d_9\n",
            "output of layer conv2d_9\n",
            "output of layer conv2d_9\n",
            "output of layer conv2d_9\n",
            "output of layer conv2d_9\n"
          ],
          "name": "stdout"
        },
        {
          "output_type": "display_data",
          "data": {
            "image/png": "[encoded data removed]",
            "text/plain": [
              "<Figure size 1440x1440 with 8 Axes>"
            ]
          },
          "metadata": {
            "tags": []
          }
        },
        {
          "output_type": "stream",
          "text": [
            "output of layer conv2d_9\n",
            "output of layer conv2d_9\n",
            "output of layer conv2d_9\n",
            "output of layer conv2d_9\n",
            "output of layer conv2d_9\n",
            "output of layer conv2d_9\n",
            "output of layer conv2d_9\n",
            "output of layer conv2d_9\n"
          ],
          "name": "stdout"
        },
        {
          "output_type": "display_data",
          "data": {
            "image/png": "[encoded data removed]",
            "text/plain": [
              "<Figure size 1440x1440 with 8 Axes>"
            ]
          },
          "metadata": {
            "tags": []
          }
        },
        {
          "output_type": "stream",
          "text": [
            "output of layer conv2d_9\n",
            "output of layer conv2d_9\n",
            "output of layer conv2d_9\n",
            "output of layer conv2d_9\n",
            "output of layer conv2d_9\n",
            "output of layer conv2d_9\n",
            "output of layer conv2d_9\n",
            "output of layer conv2d_9\n"
          ],
          "name": "stdout"
        },
        {
          "output_type": "display_data",
          "data": {
            "image/png": "[encoded data removed]",
            "text/plain": [
              "<Figure size 1440x1440 with 8 Axes>"
            ]
          },
          "metadata": {
            "tags": []
          }
        },
        {
          "output_type": "stream",
          "text": [
            "output of layer conv2d_9\n",
            "output of layer conv2d_9\n",
            "output of layer conv2d_9\n",
            "output of layer conv2d_9\n",
            "output of layer conv2d_9\n",
            "output of layer conv2d_9\n",
            "output of layer conv2d_9\n",
            "output of layer conv2d_9\n"
          ],
          "name": "stdout"
        },
        {
          "output_type": "display_data",
          "data": {
            "image/png": "[encoded data removed]",
            "text/plain": [
              "<Figure size 1440x1440 with 8 Axes>"
            ]
          },
          "metadata": {
            "tags": []
          }
        },
        {
          "output_type": "stream",
          "text": [
            "output of layer conv2d_9\n",
            "output of layer conv2d_9\n",
            "output of layer conv2d_9\n",
            "output of layer conv2d_9\n",
            "output of layer conv2d_9\n",
            "output of layer conv2d_9\n",
            "output of layer conv2d_9\n",
            "output of layer conv2d_9\n"
          ],
          "name": "stdout"
        },
        {
          "output_type": "display_data",
          "data": {
            "image/png": "[encoded data removed]",
            "text/plain": [
              "<Figure size 1440x1440 with 8 Axes>"
            ]
          },
          "metadata": {
            "tags": []
          }
        },
        {
          "output_type": "stream",
          "text": [
            "output of layer conv2d_9\n",
            "output of layer conv2d_9\n",
            "output of layer conv2d_9\n",
            "output of layer conv2d_9\n",
            "output of layer conv2d_9\n",
            "output of layer conv2d_9\n",
            "output of layer conv2d_9\n",
            "output of layer conv2d_9\n"
          ],
          "name": "stdout"
        },
        {
          "output_type": "display_data",
          "data": {
            "image/png": "[encoded data removed]",
            "text/plain": [
              "<Figure size 1440x1440 with 8 Axes>"
            ]
          },
          "metadata": {
            "tags": []
          }
        },
        {
          "output_type": "stream",
          "text": [
            "output of layer conv2d_9\n",
            "output of layer conv2d_9\n",
            "output of layer conv2d_9\n",
            "output of layer conv2d_9\n",
            "output of layer conv2d_9\n",
            "output of layer conv2d_9\n",
            "output of layer conv2d_9\n",
            "output of layer conv2d_9\n"
          ],
          "name": "stdout"
        },
        {
          "output_type": "display_data",
          "data": {
            "image/png": "[encoded data removed]",
            "text/plain": [
              "<Figure size 1440x1440 with 8 Axes>"
            ]
          },
          "metadata": {
            "tags": []
          }
        },
        {
          "output_type": "stream",
          "text": [
            "output of layer conv2d_10\n",
            "output of layer conv2d_10\n",
            "output of layer conv2d_10\n",
            "output of layer conv2d_10\n",
            "output of layer conv2d_10\n",
            "output of layer conv2d_10\n",
            "output of layer conv2d_10\n",
            "output of layer conv2d_10\n"
          ],
          "name": "stdout"
        },
        {
          "output_type": "display_data",
          "data": {
            "image/png": "[encoded data removed]",
            "text/plain": [
              "<Figure size 1440x1440 with 8 Axes>"
            ]
          },
          "metadata": {
            "tags": []
          }
        },
        {
          "output_type": "stream",
          "text": [
            "output of layer conv2d_10\n",
            "output of layer conv2d_10\n",
            "output of layer conv2d_10\n",
            "output of layer conv2d_10\n",
            "output of layer conv2d_10\n",
            "output of layer conv2d_10\n",
            "output of layer conv2d_10\n",
            "output of layer conv2d_10\n"
          ],
          "name": "stdout"
        },
        {
          "output_type": "display_data",
          "data": {
            "image/png": "[encoded data removed]",
            "text/plain": [
              "<Figure size 1440x1440 with 8 Axes>"
            ]
          },
          "metadata": {
            "tags": []
          }
        },
        {
          "output_type": "stream",
          "text": [
            "output of layer conv2d_10\n",
            "output of layer conv2d_10\n",
            "output of layer conv2d_10\n",
            "output of layer conv2d_10\n",
            "output of layer conv2d_10\n",
            "output of layer conv2d_10\n",
            "output of layer conv2d_10\n",
            "output of layer conv2d_10\n"
          ],
          "name": "stdout"
        },
        {
          "output_type": "display_data",
          "data": {
            "image/png": "[encoded data removed]",
            "text/plain": [
              "<Figure size 1440x1440 with 8 Axes>"
            ]
          },
          "metadata": {
            "tags": []
          }
        },
        {
          "output_type": "stream",
          "text": [
            "output of layer conv2d_10\n",
            "output of layer conv2d_10\n",
            "output of layer conv2d_10\n",
            "output of layer conv2d_10\n",
            "output of layer conv2d_10\n",
            "output of layer conv2d_10\n",
            "output of layer conv2d_10\n",
            "output of layer conv2d_10\n"
          ],
          "name": "stdout"
        },
        {
          "output_type": "display_data",
          "data": {
            "image/png": "[encoded data removed]",
            "text/plain": [
              "<Figure size 1440x1440 with 8 Axes>"
            ]
          },
          "metadata": {
            "tags": []
          }
        },
        {
          "output_type": "stream",
          "text": [
            "output of layer conv2d_10\n",
            "output of layer conv2d_10\n",
            "output of layer conv2d_10\n",
            "output of layer conv2d_10\n",
            "output of layer conv2d_10\n",
            "output of layer conv2d_10\n",
            "output of layer conv2d_10\n",
            "output of layer conv2d_10\n"
          ],
          "name": "stdout"
        },
        {
          "output_type": "display_data",
          "data": {
            "image/png": "[encoded data removed]",
            "text/plain": [
              "<Figure size 1440x1440 with 8 Axes>"
            ]
          },
          "metadata": {
            "tags": []
          }
        },
        {
          "output_type": "stream",
          "text": [
            "output of layer conv2d_10\n",
            "output of layer conv2d_10\n",
            "output of layer conv2d_10\n",
            "output of layer conv2d_10\n",
            "output of layer conv2d_10\n",
            "output of layer conv2d_10\n",
            "output of layer conv2d_10\n",
            "output of layer conv2d_10\n"
          ],
          "name": "stdout"
        },
        {
          "output_type": "display_data",
          "data": {
            "image/png": "[encoded data removed]",
            "text/plain": [
              "<Figure size 1440x1440 with 8 Axes>"
            ]
          },
          "metadata": {
            "tags": []
          }
        },
        {
          "output_type": "stream",
          "text": [
            "output of layer conv2d_10\n",
            "output of layer conv2d_10\n",
            "output of layer conv2d_10\n",
            "output of layer conv2d_10\n",
            "output of layer conv2d_10\n",
            "output of layer conv2d_10\n",
            "output of layer conv2d_10\n",
            "output of layer conv2d_10\n"
          ],
          "name": "stdout"
        },
        {
          "output_type": "display_data",
          "data": {
            "image/png": "[encoded data removed]",
            "text/plain": [
              "<Figure size 1440x1440 with 8 Axes>"
            ]
          },
          "metadata": {
            "tags": []
          }
        },
        {
          "output_type": "stream",
          "text": [
            "output of layer conv2d_10\n",
            "output of layer conv2d_10\n",
            "output of layer conv2d_10\n",
            "output of layer conv2d_10\n",
            "output of layer conv2d_10\n",
            "output of layer conv2d_10\n",
            "output of layer conv2d_10\n",
            "output of layer conv2d_10\n"
          ],
          "name": "stdout"
        },
        {
          "output_type": "display_data",
          "data": {
            "image/png": "[encoded data removed]",
            "text/plain": [
              "<Figure size 1440x1440 with 8 Axes>"
            ]
          },
          "metadata": {
            "tags": []
          }
        },
        {
          "output_type": "stream",
          "text": [
            "output of layer conv2d_11\n",
            "output of layer conv2d_11\n",
            "output of layer conv2d_11\n",
            "output of layer conv2d_11\n",
            "output of layer conv2d_11\n",
            "output of layer conv2d_11\n",
            "output of layer conv2d_11\n",
            "output of layer conv2d_11\n"
          ],
          "name": "stdout"
        },
        {
          "output_type": "display_data",
          "data": {
            "image/png": "[encoded data removed]",
            "text/plain": [
              "<Figure size 1440x1440 with 8 Axes>"
            ]
          },
          "metadata": {
            "tags": []
          }
        },
        {
          "output_type": "stream",
          "text": [
            "output of layer conv2d_11\n",
            "output of layer conv2d_11\n",
            "output of layer conv2d_11\n",
            "output of layer conv2d_11\n",
            "output of layer conv2d_11\n",
            "output of layer conv2d_11\n",
            "output of layer conv2d_11\n",
            "output of layer conv2d_11\n"
          ],
          "name": "stdout"
        },
        {
          "output_type": "display_data",
          "data": {
            "image/png": "[encoded data removed]",
            "text/plain": [
              "<Figure size 1440x1440 with 8 Axes>"
            ]
          },
          "metadata": {
            "tags": []
          }
        },
        {
          "output_type": "stream",
          "text": [
            "output of layer conv2d_11\n",
            "output of layer conv2d_11\n",
            "output of layer conv2d_11\n",
            "output of layer conv2d_11\n",
            "output of layer conv2d_11\n",
            "output of layer conv2d_11\n",
            "output of layer conv2d_11\n",
            "output of layer conv2d_11\n"
          ],
          "name": "stdout"
        },
        {
          "output_type": "display_data",
          "data": {
            "image/png": "[encoded data removed]",
            "text/plain": [
              "<Figure size 1440x1440 with 8 Axes>"
            ]
          },
          "metadata": {
            "tags": []
          }
        },
        {
          "output_type": "stream",
          "text": [
            "output of layer conv2d_11\n",
            "output of layer conv2d_11\n",
            "output of layer conv2d_11\n",
            "output of layer conv2d_11\n",
            "output of layer conv2d_11\n",
            "output of layer conv2d_11\n",
            "output of layer conv2d_11\n",
            "output of layer conv2d_11\n"
          ],
          "name": "stdout"
        },
        {
          "output_type": "display_data",
          "data": {
            "image/png": "[encoded data removed]",
            "text/plain": [
              "<Figure size 1440x1440 with 8 Axes>"
            ]
          },
          "metadata": {
            "tags": []
          }
        },
        {
          "output_type": "stream",
          "text": [
            "output of layer conv2d_11\n",
            "output of layer conv2d_11\n",
            "output of layer conv2d_11\n",
            "output of layer conv2d_11\n",
            "output of layer conv2d_11\n",
            "output of layer conv2d_11\n",
            "output of layer conv2d_11\n",
            "output of layer conv2d_11\n"
          ],
          "name": "stdout"
        },
        {
          "output_type": "display_data",
          "data": {
            "image/png": "[encoded data removed]",
            "text/plain": [
              "<Figure size 1440x1440 with 8 Axes>"
            ]
          },
          "metadata": {
            "tags": []
          }
        },
        {
          "output_type": "stream",
          "text": [
            "output of layer conv2d_11\n",
            "output of layer conv2d_11\n",
            "output of layer conv2d_11\n",
            "output of layer conv2d_11\n",
            "output of layer conv2d_11\n",
            "output of layer conv2d_11\n",
            "output of layer conv2d_11\n",
            "output of layer conv2d_11\n"
          ],
          "name": "stdout"
        },
        {
          "output_type": "display_data",
          "data": {
            "image/png": "[encoded data removed]",
            "text/plain": [
              "<Figure size 1440x1440 with 8 Axes>"
            ]
          },
          "metadata": {
            "tags": []
          }
        },
        {
          "output_type": "stream",
          "text": [
            "output of layer conv2d_11\n",
            "output of layer conv2d_11\n",
            "output of layer conv2d_11\n",
            "output of layer conv2d_11\n",
            "output of layer conv2d_11\n",
            "output of layer conv2d_11\n",
            "output of layer conv2d_11\n",
            "output of layer conv2d_11\n"
          ],
          "name": "stdout"
        },
        {
          "output_type": "display_data",
          "data": {
            "image/png": "[encoded data removed]",
            "text/plain": [
              "<Figure size 1440x1440 with 8 Axes>"
            ]
          },
          "metadata": {
            "tags": []
          }
        },
        {
          "output_type": "stream",
          "text": [
            "output of layer conv2d_11\n",
            "output of layer conv2d_11\n",
            "output of layer conv2d_11\n",
            "output of layer conv2d_11\n",
            "output of layer conv2d_11\n",
            "output of layer conv2d_11\n",
            "output of layer conv2d_11\n",
            "output of layer conv2d_11\n"
          ],
          "name": "stdout"
        },
        {
          "output_type": "display_data",
          "data": {
            "image/png": "[encoded data removed]",
            "text/plain": [
              "<Figure size 1440x1440 with 8 Axes>"
            ]
          },
          "metadata": {
            "tags": []
          }
        },
        {
          "output_type": "stream",
          "text": [
            "output of layer conv2d_12\n",
            "output of layer conv2d_12\n",
            "output of layer conv2d_12\n",
            "output of layer conv2d_12\n",
            "output of layer conv2d_12\n",
            "output of layer conv2d_12\n",
            "output of layer conv2d_12\n",
            "output of layer conv2d_12\n"
          ],
          "name": "stdout"
        },
        {
          "output_type": "display_data",
          "data": {
            "image/png": "[encoded data removed]",
            "text/plain": [
              "<Figure size 1440x1440 with 8 Axes>"
            ]
          },
          "metadata": {
            "tags": []
          }
        },
        {
          "output_type": "stream",
          "text": [
            "output of layer conv2d_12\n",
            "output of layer conv2d_12\n",
            "output of layer conv2d_12\n",
            "output of layer conv2d_12\n",
            "output of layer conv2d_12\n",
            "output of layer conv2d_12\n",
            "output of layer conv2d_12\n",
            "output of layer conv2d_12\n"
          ],
          "name": "stdout"
        },
        {
          "output_type": "display_data",
          "data": {
            "image/png": "[encoded data removed]",
            "text/plain": [
              "<Figure size 1440x1440 with 8 Axes>"
            ]
          },
          "metadata": {
            "tags": []
          }
        },
        {
          "output_type": "stream",
          "text": [
            "output of layer conv2d_12\n",
            "output of layer conv2d_12\n",
            "output of layer conv2d_12\n",
            "output of layer conv2d_12\n",
            "output of layer conv2d_12\n",
            "output of layer conv2d_12\n",
            "output of layer conv2d_12\n",
            "output of layer conv2d_12\n"
          ],
          "name": "stdout"
        },
        {
          "output_type": "display_data",
          "data": {
            "image/png": "[encoded data removed]",
            "text/plain": [
              "<Figure size 1440x1440 with 8 Axes>"
            ]
          },
          "metadata": {
            "tags": []
          }
        },
        {
          "output_type": "stream",
          "text": [
            "output of layer conv2d_12\n",
            "output of layer conv2d_12\n",
            "output of layer conv2d_12\n",
            "output of layer conv2d_12\n",
            "output of layer conv2d_12\n",
            "output of layer conv2d_12\n",
            "output of layer conv2d_12\n",
            "output of layer conv2d_12\n"
          ],
          "name": "stdout"
        },
        {
          "output_type": "display_data",
          "data": {
            "image/png": "[encoded data removed]",
            "text/plain": [
              "<Figure size 1440x1440 with 8 Axes>"
            ]
          },
          "metadata": {
            "tags": []
          }
        },
        {
          "output_type": "stream",
          "text": [
            "output of layer conv2d_12\n",
            "output of layer conv2d_13\n",
            "output of layer conv2d_13\n",
            "output of layer conv2d_13\n",
            "output of layer conv2d_13\n"
          ],
          "name": "stdout"
        },
        {
          "output_type": "display_data",
          "data": {
            "image/png": "[encoded data removed]",
            "text/plain": [
              "<Figure size 1440x1440 with 5 Axes>"
            ]
          },
          "metadata": {
            "tags": []
          }
        }
      ]
    },
    {
      "cell_type": "markdown",
      "metadata": {
        "id": "xOkLOL_IpJLm",
        "colab_type": "text"
      },
      "source": [
        "Function to create model with same achitecture of encoder"
      ]
    },
    {
      "cell_type": "code",
      "metadata": {
        "id": "L0n7BjaJHf6k",
        "colab_type": "code",
        "colab": {}
      },
      "source": [
        "def model_cnn1(batch_size,trainable):\n",
        "  layers = [keras.layers.Input(shape=(32,32,3),batch_size=batch_size),\n",
        "            keras.layers.Conv2D(32,3,padding='valid',activation=\"relu\",trainable=trainable),\n",
        "            keras.layers.Conv2D(32,3,padding='same',activation=\"relu\",trainable=trainable),\n",
        "            keras.layers.MaxPooling2D(),\n",
        "            keras.layers.Conv2D(64,3,activation='relu',trainable=trainable),\n",
        "            keras.layers.MaxPooling2D(),\n",
        "            keras.layers.Dropout(.25),\n",
        "            keras.layers.Conv2D(128,3,activation='relu',trainable=trainable)\n",
        "            ]\n",
        "  return keras.Sequential(layers)\n"
      ],
      "execution_count": null,
      "outputs": []
    },
    {
      "cell_type": "code",
      "metadata": {
        "id": "b-XCUfXINKJ-",
        "colab_type": "code",
        "colab": {
          "base_uri": "https://localhost:8080/",
          "height": 724
        },
        "outputId": "2ab41f66-ddcd-4b2f-facf-44464f8f9a6c"
      },
      "source": [
        "model_auto_false= model_cnn1(128,False)\n",
        "\n",
        "model.summary()"
      ],
      "execution_count": null,
      "outputs": [
        {
          "output_type": "stream",
          "text": [
            "Model: \"model_27\"\n",
            "_________________________________________________________________\n",
            "Layer (type)                 Output Shape              Param #   \n",
            "=================================================================\n",
            "input_2 (InputLayer)         [(1, 32, 32, 3)]          0         \n",
            "_________________________________________________________________\n",
            "conv2d_7 (Conv2D)            (1, 30, 30, 32)           896       \n",
            "_________________________________________________________________\n",
            "conv2d_8 (Conv2D)            (1, 30, 30, 32)           9248      \n",
            "_________________________________________________________________\n",
            "max_pooling2d_2 (MaxPooling2 (1, 15, 15, 32)           0         \n",
            "_________________________________________________________________\n",
            "conv2d_9 (Conv2D)            (1, 13, 13, 64)           18496     \n",
            "_________________________________________________________________\n",
            "max_pooling2d_3 (MaxPooling2 (1, 6, 6, 64)             0         \n",
            "_________________________________________________________________\n",
            "dropout_2 (Dropout)          (1, 6, 6, 64)             0         \n",
            "_________________________________________________________________\n",
            "conv2d_10 (Conv2D)           (1, 4, 4, 128)            73856     \n",
            "_________________________________________________________________\n",
            "up_sampling2d_3 (UpSampling2 (1, 8, 8, 128)            0         \n",
            "_________________________________________________________________\n",
            "conv2d_11 (Conv2D)           (1, 8, 8, 64)             73792     \n",
            "_________________________________________________________________\n",
            "up_sampling2d_4 (UpSampling2 (1, 16, 16, 64)           0         \n",
            "_________________________________________________________________\n",
            "dropout_3 (Dropout)          (1, 16, 16, 64)           0         \n",
            "_________________________________________________________________\n",
            "conv2d_12 (Conv2D)           (1, 16, 16, 32)           18464     \n",
            "_________________________________________________________________\n",
            "up_sampling2d_5 (UpSampling2 (1, 32, 32, 32)           0         \n",
            "_________________________________________________________________\n",
            "conv2d_13 (Conv2D)           (1, 32, 32, 3)            867       \n",
            "=================================================================\n",
            "Total params: 195,619\n",
            "Trainable params: 195,619\n",
            "Non-trainable params: 0\n",
            "_________________________________________________________________\n"
          ],
          "name": "stdout"
        }
      ]
    },
    {
      "cell_type": "markdown",
      "metadata": {
        "id": "nvhflB8KpTMn",
        "colab_type": "text"
      },
      "source": [
        "Set the weights for the encoder part"
      ]
    },
    {
      "cell_type": "code",
      "metadata": {
        "id": "Lv8FSQi5KS7J",
        "colab_type": "code",
        "colab": {
          "base_uri": "https://localhost:8080/",
          "height": 501
        },
        "outputId": "f075f14a-bf6f-44e3-d009-4b9c88f99f0b"
      },
      "source": [
        "model_auto_false.set_weights(model.get_weights()[0:8])\n",
        "model_auto_false.add(keras.layers.Flatten())\n",
        "model_auto_false.add(keras.layers.Dense(10,activation='sigmoid'))\n",
        "model_auto_false.summary()"
      ],
      "execution_count": null,
      "outputs": [
        {
          "output_type": "stream",
          "text": [
            "Model: \"sequential_2\"\n",
            "_________________________________________________________________\n",
            "Layer (type)                 Output Shape              Param #   \n",
            "=================================================================\n",
            "conv2d_14 (Conv2D)           (128, 30, 30, 32)         896       \n",
            "_________________________________________________________________\n",
            "conv2d_15 (Conv2D)           (128, 30, 30, 32)         9248      \n",
            "_________________________________________________________________\n",
            "max_pooling2d_4 (MaxPooling2 (128, 15, 15, 32)         0         \n",
            "_________________________________________________________________\n",
            "conv2d_16 (Conv2D)           (128, 13, 13, 64)         18496     \n",
            "_________________________________________________________________\n",
            "max_pooling2d_5 (MaxPooling2 (128, 6, 6, 64)           0         \n",
            "_________________________________________________________________\n",
            "dropout_4 (Dropout)          (128, 6, 6, 64)           0         \n",
            "_________________________________________________________________\n",
            "conv2d_17 (Conv2D)           (128, 4, 4, 128)          73856     \n",
            "_________________________________________________________________\n",
            "flatten (Flatten)            (128, 2048)               0         \n",
            "_________________________________________________________________\n",
            "dense (Dense)                (128, 10)                 20490     \n",
            "=================================================================\n",
            "Total params: 122,986\n",
            "Trainable params: 20,490\n",
            "Non-trainable params: 102,496\n",
            "_________________________________________________________________\n"
          ],
          "name": "stdout"
        }
      ]
    },
    {
      "cell_type": "code",
      "metadata": {
        "id": "F1y25g3OQVal",
        "colab_type": "code",
        "colab": {
          "base_uri": "https://localhost:8080/",
          "height": 1000
        },
        "outputId": "35e49b59-9568-400b-aa67-de341e71b4e2"
      },
      "source": [
        "data1 = data2.shuffle(10000).take(128)\n",
        "for i,j in data1:\n",
        "  print(np.unique(j,axis=0,return_counts=True))\n",
        "data1 = data1.batch(128).repeat(1000)\n",
        "\n",
        "loss_fn1 =tf.losses.SparseCategoricalCrossentropy(from_logits=True)\n",
        "train_acc_metric1 = tf.keras.metrics.SparseCategoricalAccuracy()\n",
        "def training_cnn_classification(loss_fn2,train_acc_metric2,model):\n",
        "  training_steps = 10000\n",
        "  opt = tf.optimizers.Adam(learning_rate=.001)\n",
        "  print(model.summary())\n",
        "  for step,(img_batch,lbl_batch) in enumerate(data1):\n",
        "    with tf.GradientTape() as tape:\n",
        "      logits = model(img_batch)\n",
        "      xent = loss_fn2(lbl_batch,logits)\n",
        "    varis = model.trainable_variables\n",
        "    grads = tape.gradient(xent, varis)\n",
        "    opt.apply_gradients(zip(grads, varis))\n",
        "    train_acc_metric2(lbl_batch, logits)\n",
        "    if not step % 100:\n",
        "      print(\"Loss: {} Accuracy: {}\".format(xent, train_acc_metric2.result()))\n",
        "      train_acc_metric2.reset_states()\n",
        "\n",
        "  "
      ],
      "execution_count": null,
      "outputs": [
        {
          "output_type": "stream",
          "text": [
            "(array([1], dtype=uint8), array([1]))\n",
            "(array([8], dtype=uint8), array([1]))\n",
            "(array([0], dtype=uint8), array([1]))\n",
            "(array([5], dtype=uint8), array([1]))\n",
            "(array([3], dtype=uint8), array([1]))\n",
            "(array([1], dtype=uint8), array([1]))\n",
            "(array([8], dtype=uint8), array([1]))\n",
            "(array([6], dtype=uint8), array([1]))\n",
            "(array([0], dtype=uint8), array([1]))\n",
            "(array([2], dtype=uint8), array([1]))\n",
            "(array([0], dtype=uint8), array([1]))\n",
            "(array([0], dtype=uint8), array([1]))\n",
            "(array([7], dtype=uint8), array([1]))\n",
            "(array([3], dtype=uint8), array([1]))\n",
            "(array([5], dtype=uint8), array([1]))\n",
            "(array([9], dtype=uint8), array([1]))\n",
            "(array([8], dtype=uint8), array([1]))\n",
            "(array([1], dtype=uint8), array([1]))\n",
            "(array([3], dtype=uint8), array([1]))\n",
            "(array([6], dtype=uint8), array([1]))\n",
            "(array([7], dtype=uint8), array([1]))\n",
            "(array([7], dtype=uint8), array([1]))\n",
            "(array([0], dtype=uint8), array([1]))\n",
            "(array([2], dtype=uint8), array([1]))\n",
            "(array([7], dtype=uint8), array([1]))\n",
            "(array([3], dtype=uint8), array([1]))\n",
            "(array([0], dtype=uint8), array([1]))\n",
            "(array([4], dtype=uint8), array([1]))\n",
            "(array([3], dtype=uint8), array([1]))\n",
            "(array([4], dtype=uint8), array([1]))\n",
            "(array([8], dtype=uint8), array([1]))\n",
            "(array([7], dtype=uint8), array([1]))\n",
            "(array([0], dtype=uint8), array([1]))\n",
            "(array([3], dtype=uint8), array([1]))\n",
            "(array([3], dtype=uint8), array([1]))\n",
            "(array([6], dtype=uint8), array([1]))\n",
            "(array([1], dtype=uint8), array([1]))\n",
            "(array([3], dtype=uint8), array([1]))\n",
            "(array([0], dtype=uint8), array([1]))\n",
            "(array([6], dtype=uint8), array([1]))\n",
            "(array([3], dtype=uint8), array([1]))\n",
            "(array([5], dtype=uint8), array([1]))\n",
            "(array([5], dtype=uint8), array([1]))\n",
            "(array([6], dtype=uint8), array([1]))\n",
            "(array([4], dtype=uint8), array([1]))\n",
            "(array([2], dtype=uint8), array([1]))\n",
            "(array([7], dtype=uint8), array([1]))\n",
            "(array([8], dtype=uint8), array([1]))\n",
            "(array([6], dtype=uint8), array([1]))\n",
            "(array([8], dtype=uint8), array([1]))\n",
            "(array([8], dtype=uint8), array([1]))\n",
            "(array([6], dtype=uint8), array([1]))\n",
            "(array([2], dtype=uint8), array([1]))\n",
            "(array([5], dtype=uint8), array([1]))\n",
            "(array([4], dtype=uint8), array([1]))\n",
            "(array([3], dtype=uint8), array([1]))\n",
            "(array([6], dtype=uint8), array([1]))\n",
            "(array([0], dtype=uint8), array([1]))\n",
            "(array([7], dtype=uint8), array([1]))\n",
            "(array([1], dtype=uint8), array([1]))\n",
            "(array([3], dtype=uint8), array([1]))\n",
            "(array([4], dtype=uint8), array([1]))\n",
            "(array([8], dtype=uint8), array([1]))\n",
            "(array([0], dtype=uint8), array([1]))\n",
            "(array([1], dtype=uint8), array([1]))\n",
            "(array([2], dtype=uint8), array([1]))\n",
            "(array([7], dtype=uint8), array([1]))\n",
            "(array([6], dtype=uint8), array([1]))\n",
            "(array([4], dtype=uint8), array([1]))\n",
            "(array([0], dtype=uint8), array([1]))\n",
            "(array([4], dtype=uint8), array([1]))\n",
            "(array([4], dtype=uint8), array([1]))\n",
            "(array([8], dtype=uint8), array([1]))\n",
            "(array([6], dtype=uint8), array([1]))\n",
            "(array([6], dtype=uint8), array([1]))\n",
            "(array([8], dtype=uint8), array([1]))\n",
            "(array([4], dtype=uint8), array([1]))\n",
            "(array([4], dtype=uint8), array([1]))\n",
            "(array([3], dtype=uint8), array([1]))\n",
            "(array([2], dtype=uint8), array([1]))\n",
            "(array([7], dtype=uint8), array([1]))\n",
            "(array([8], dtype=uint8), array([1]))\n",
            "(array([1], dtype=uint8), array([1]))\n",
            "(array([7], dtype=uint8), array([1]))\n",
            "(array([3], dtype=uint8), array([1]))\n",
            "(array([2], dtype=uint8), array([1]))\n",
            "(array([8], dtype=uint8), array([1]))\n",
            "(array([6], dtype=uint8), array([1]))\n",
            "(array([7], dtype=uint8), array([1]))\n",
            "(array([0], dtype=uint8), array([1]))\n",
            "(array([8], dtype=uint8), array([1]))\n",
            "(array([0], dtype=uint8), array([1]))\n",
            "(array([8], dtype=uint8), array([1]))\n",
            "(array([1], dtype=uint8), array([1]))\n",
            "(array([4], dtype=uint8), array([1]))\n",
            "(array([9], dtype=uint8), array([1]))\n",
            "(array([8], dtype=uint8), array([1]))\n",
            "(array([4], dtype=uint8), array([1]))\n",
            "(array([6], dtype=uint8), array([1]))\n",
            "(array([2], dtype=uint8), array([1]))\n",
            "(array([5], dtype=uint8), array([1]))\n",
            "(array([7], dtype=uint8), array([1]))\n",
            "(array([8], dtype=uint8), array([1]))\n",
            "(array([6], dtype=uint8), array([1]))\n",
            "(array([9], dtype=uint8), array([1]))\n",
            "(array([2], dtype=uint8), array([1]))\n",
            "(array([4], dtype=uint8), array([1]))\n",
            "(array([4], dtype=uint8), array([1]))\n",
            "(array([0], dtype=uint8), array([1]))\n",
            "(array([8], dtype=uint8), array([1]))\n",
            "(array([8], dtype=uint8), array([1]))\n",
            "(array([3], dtype=uint8), array([1]))\n",
            "(array([5], dtype=uint8), array([1]))\n",
            "(array([7], dtype=uint8), array([1]))\n",
            "(array([7], dtype=uint8), array([1]))\n",
            "(array([7], dtype=uint8), array([1]))\n",
            "(array([8], dtype=uint8), array([1]))\n",
            "(array([2], dtype=uint8), array([1]))\n",
            "(array([2], dtype=uint8), array([1]))\n",
            "(array([7], dtype=uint8), array([1]))\n",
            "(array([9], dtype=uint8), array([1]))\n",
            "(array([3], dtype=uint8), array([1]))\n",
            "(array([7], dtype=uint8), array([1]))\n",
            "(array([2], dtype=uint8), array([1]))\n",
            "(array([4], dtype=uint8), array([1]))\n",
            "(array([2], dtype=uint8), array([1]))\n",
            "(array([1], dtype=uint8), array([1]))\n",
            "(array([0], dtype=uint8), array([1]))\n"
          ],
          "name": "stdout"
        }
      ]
    },
    {
      "cell_type": "markdown",
      "metadata": {
        "id": "cDNgxsjGpeMh",
        "colab_type": "text"
      },
      "source": [
        "Freezing the encoder"
      ]
    },
    {
      "cell_type": "code",
      "metadata": {
        "id": "zHN6FzlmLLY3",
        "colab_type": "code",
        "colab": {
          "base_uri": "https://localhost:8080/",
          "height": 706
        },
        "outputId": "ad233b0d-e554-4dd2-f636-37364aa18f5b"
      },
      "source": [
        "training_cnn_classification(loss_fn1,train_acc_metric1,model_auto_false)\n"
      ],
      "execution_count": null,
      "outputs": [
        {
          "output_type": "stream",
          "text": [
            "Model: \"sequential_2\"\n",
            "_________________________________________________________________\n",
            "Layer (type)                 Output Shape              Param #   \n",
            "=================================================================\n",
            "conv2d_14 (Conv2D)           (128, 30, 30, 32)         896       \n",
            "_________________________________________________________________\n",
            "conv2d_15 (Conv2D)           (128, 30, 30, 32)         9248      \n",
            "_________________________________________________________________\n",
            "max_pooling2d_4 (MaxPooling2 (128, 15, 15, 32)         0         \n",
            "_________________________________________________________________\n",
            "conv2d_16 (Conv2D)           (128, 13, 13, 64)         18496     \n",
            "_________________________________________________________________\n",
            "max_pooling2d_5 (MaxPooling2 (128, 6, 6, 64)           0         \n",
            "_________________________________________________________________\n",
            "dropout_4 (Dropout)          (128, 6, 6, 64)           0         \n",
            "_________________________________________________________________\n",
            "conv2d_17 (Conv2D)           (128, 4, 4, 128)          73856     \n",
            "_________________________________________________________________\n",
            "flatten (Flatten)            (128, 2048)               0         \n",
            "_________________________________________________________________\n",
            "dense (Dense)                (128, 10)                 20490     \n",
            "=================================================================\n",
            "Total params: 122,986\n",
            "Trainable params: 20,490\n",
            "Non-trainable params: 102,496\n",
            "_________________________________________________________________\n",
            "None\n",
            "Loss: 1.9260001182556152 Accuracy: 0.5\n",
            "Loss: 1.9244505167007446 Accuracy: 0.4242187440395355\n",
            "Loss: 1.9353548288345337 Accuracy: 0.43281251192092896\n",
            "Loss: 1.9173974990844727 Accuracy: 0.42210936546325684\n",
            "Loss: 1.915100336074829 Accuracy: 0.42601561546325684\n",
            "Loss: 1.9598586559295654 Accuracy: 0.4339062571525574\n",
            "Loss: 1.9760825634002686 Accuracy: 0.42796874046325684\n",
            "Loss: 1.8507544994354248 Accuracy: 0.43687498569488525\n",
            "Loss: 1.8815172910690308 Accuracy: 0.4350000023841858\n",
            "Loss: 1.9512370824813843 Accuracy: 0.4353906214237213\n"
          ],
          "name": "stdout"
        }
      ]
    },
    {
      "cell_type": "code",
      "metadata": {
        "id": "DYWGIth6HWJo",
        "colab_type": "code",
        "colab": {}
      },
      "source": [
        "def accuracy(model):\n",
        "  true_pred = 0\n",
        "  acc=0\n",
        "  count5,count1,count9 = 0,0,0\n",
        "  predict = model.predict(test_data)\n",
        "  predict = np.argmax(predict,axis=-1)\n",
        "  for i in range(len(test_lbl)):\n",
        "    if(test_lbl[i]==predict[i]):\n",
        "      true_pred+=1\n",
        "      if(test_lbl[i]==5):\n",
        "        count5=count5+1\n",
        "      if(test_lbl[i]==1):\n",
        "        count1=count1+1\n",
        "      if(test_lbl[i]==9):\n",
        "        count9=count9+1\n",
        "  acc = true_pred/len(test_lbl)\n",
        "  print(acc)\n",
        "  print(count1,count5,count9)\n"
      ],
      "execution_count": null,
      "outputs": []
    },
    {
      "cell_type": "code",
      "metadata": {
        "id": "uWQCqlAgI8CD",
        "colab_type": "code",
        "colab": {
          "base_uri": "https://localhost:8080/",
          "height": 54
        },
        "outputId": "0dff6933-3835-41f6-d10e-dfcfa0b15aeb"
      },
      "source": [
        "accuracy(model_auto_false)"
      ],
      "execution_count": null,
      "outputs": [
        {
          "output_type": "stream",
          "text": [
            "0.3963\n",
            "486 304 446\n"
          ],
          "name": "stdout"
        }
      ]
    },
    {
      "cell_type": "code",
      "metadata": {
        "id": "ViNjTSqGTIbt",
        "colab_type": "code",
        "colab": {
          "base_uri": "https://localhost:8080/",
          "height": 501
        },
        "outputId": "88a73403-fdec-4cbc-9e44-195779ff6752"
      },
      "source": [
        "model_auto_True= model_cnn1(128,True)\n",
        "model_auto_True.set_weights(model.get_weights()[0:8])\n",
        "model_auto_True.add(keras.layers.Flatten())\n",
        "model_auto_True.add(keras.layers.Dense(10,activation='sigmoid'))\n",
        "model_auto_True.summary()"
      ],
      "execution_count": null,
      "outputs": [
        {
          "output_type": "stream",
          "text": [
            "Model: \"sequential_15\"\n",
            "_________________________________________________________________\n",
            "Layer (type)                 Output Shape              Param #   \n",
            "=================================================================\n",
            "conv2d_66 (Conv2D)           (128, 30, 30, 32)         896       \n",
            "_________________________________________________________________\n",
            "conv2d_67 (Conv2D)           (128, 30, 30, 32)         9248      \n",
            "_________________________________________________________________\n",
            "max_pooling2d_30 (MaxPooling (128, 15, 15, 32)         0         \n",
            "_________________________________________________________________\n",
            "conv2d_68 (Conv2D)           (128, 13, 13, 64)         18496     \n",
            "_________________________________________________________________\n",
            "max_pooling2d_31 (MaxPooling (128, 6, 6, 64)           0         \n",
            "_________________________________________________________________\n",
            "dropout_17 (Dropout)         (128, 6, 6, 64)           0         \n",
            "_________________________________________________________________\n",
            "conv2d_69 (Conv2D)           (128, 4, 4, 128)          73856     \n",
            "_________________________________________________________________\n",
            "flatten_13 (Flatten)         (128, 2048)               0         \n",
            "_________________________________________________________________\n",
            "dense_13 (Dense)             (128, 10)                 20490     \n",
            "=================================================================\n",
            "Total params: 122,986\n",
            "Trainable params: 122,986\n",
            "Non-trainable params: 0\n",
            "_________________________________________________________________\n"
          ],
          "name": "stdout"
        }
      ]
    },
    {
      "cell_type": "markdown",
      "metadata": {
        "id": "HzeLBDzSpifg",
        "colab_type": "text"
      },
      "source": [
        "Non Freezed encoder"
      ]
    },
    {
      "cell_type": "code",
      "metadata": {
        "id": "n1TMrJIsGvhP",
        "colab_type": "code",
        "colab": {
          "base_uri": "https://localhost:8080/",
          "height": 743
        },
        "outputId": "dabf4265-8cd7-4bd1-f413-0e4c71dda5c1"
      },
      "source": [
        "training_cnn_classification(loss_fn1,train_acc_metric1,model_auto_True)\n",
        "accuracy(model_auto_True)"
      ],
      "execution_count": null,
      "outputs": [
        {
          "output_type": "stream",
          "text": [
            "Model: \"sequential_15\"\n",
            "_________________________________________________________________\n",
            "Layer (type)                 Output Shape              Param #   \n",
            "=================================================================\n",
            "conv2d_66 (Conv2D)           (128, 30, 30, 32)         896       \n",
            "_________________________________________________________________\n",
            "conv2d_67 (Conv2D)           (128, 30, 30, 32)         9248      \n",
            "_________________________________________________________________\n",
            "max_pooling2d_30 (MaxPooling (128, 15, 15, 32)         0         \n",
            "_________________________________________________________________\n",
            "conv2d_68 (Conv2D)           (128, 13, 13, 64)         18496     \n",
            "_________________________________________________________________\n",
            "max_pooling2d_31 (MaxPooling (128, 6, 6, 64)           0         \n",
            "_________________________________________________________________\n",
            "dropout_17 (Dropout)         (128, 6, 6, 64)           0         \n",
            "_________________________________________________________________\n",
            "conv2d_69 (Conv2D)           (128, 4, 4, 128)          73856     \n",
            "_________________________________________________________________\n",
            "flatten_13 (Flatten)         (128, 2048)               0         \n",
            "_________________________________________________________________\n",
            "dense_13 (Dense)             (128, 10)                 20490     \n",
            "=================================================================\n",
            "Total params: 122,986\n",
            "Trainable params: 122,986\n",
            "Non-trainable params: 0\n",
            "_________________________________________________________________\n",
            "None\n",
            "Loss: 1.6908197402954102 Accuracy: 0.5411718487739563\n",
            "Loss: 1.7011196613311768 Accuracy: 0.64453125\n",
            "Loss: 1.7359237670898438 Accuracy: 0.6762499809265137\n",
            "Loss: 1.7272133827209473 Accuracy: 0.6849218606948853\n",
            "Loss: 1.6828477382659912 Accuracy: 0.6953125\n",
            "Loss: 1.629606008529663 Accuracy: 0.7132812738418579\n",
            "Loss: 1.6684648990631104 Accuracy: 0.7216406464576721\n",
            "Loss: 1.6506315469741821 Accuracy: 0.7281249761581421\n",
            "Loss: 1.6450982093811035 Accuracy: 0.7452343702316284\n",
            "Loss: 1.5986692905426025 Accuracy: 0.7630468606948853\n",
            "0.5727\n",
            "639 495 677\n"
          ],
          "name": "stdout"
        }
      ]
    },
    {
      "cell_type": "code",
      "metadata": {
        "id": "P0RyzahuNAW5",
        "colab_type": "code",
        "colab": {
          "base_uri": "https://localhost:8080/",
          "height": 54
        },
        "outputId": "4635f54d-e198-42e0-905c-2fa82b876c86"
      },
      "source": [
        "accuracy(model_auto_True)"
      ],
      "execution_count": null,
      "outputs": [
        {
          "output_type": "stream",
          "text": [
            "0.539\n",
            "333\n"
          ],
          "name": "stdout"
        }
      ]
    },
    {
      "cell_type": "code",
      "metadata": {
        "id": "FRhC3exGhFOT",
        "colab_type": "code",
        "colab": {
          "base_uri": "https://localhost:8080/",
          "height": 724
        },
        "outputId": "105d3e7f-3671-4277-db47-f26b79105f6b"
      },
      "source": [
        "model_auto_True_scratch= model_cnn1(128,True)\n",
        "model_auto_True_scratch.add(keras.layers.Flatten())\n",
        "model_auto_True_scratch.add(keras.layers.Dense(10,activation='sigmoid'))\n",
        "\n",
        "training_cnn_classification(loss_fn1,train_acc_metric1,model_auto_True_scratch)\n",
        "accuracy(model_auto_True_scratch)"
      ],
      "execution_count": null,
      "outputs": [
        {
          "output_type": "stream",
          "text": [
            "Model: \"sequential_16\"\n",
            "_________________________________________________________________\n",
            "Layer (type)                 Output Shape              Param #   \n",
            "=================================================================\n",
            "conv2d_70 (Conv2D)           (128, 30, 30, 32)         896       \n",
            "_________________________________________________________________\n",
            "conv2d_71 (Conv2D)           (128, 30, 30, 32)         9248      \n",
            "_________________________________________________________________\n",
            "max_pooling2d_32 (MaxPooling (128, 15, 15, 32)         0         \n",
            "_________________________________________________________________\n",
            "conv2d_72 (Conv2D)           (128, 13, 13, 64)         18496     \n",
            "_________________________________________________________________\n",
            "max_pooling2d_33 (MaxPooling (128, 6, 6, 64)           0         \n",
            "_________________________________________________________________\n",
            "dropout_18 (Dropout)         (128, 6, 6, 64)           0         \n",
            "_________________________________________________________________\n",
            "conv2d_73 (Conv2D)           (128, 4, 4, 128)          73856     \n",
            "_________________________________________________________________\n",
            "flatten_14 (Flatten)         (128, 2048)               0         \n",
            "_________________________________________________________________\n",
            "dense_14 (Dense)             (128, 10)                 20490     \n",
            "=================================================================\n",
            "Total params: 122,986\n",
            "Trainable params: 122,986\n",
            "Non-trainable params: 0\n",
            "_________________________________________________________________\n",
            "None\n",
            "Loss: 2.300612449645996 Accuracy: 0.6378124952316284\n",
            "Loss: 2.0548267364501953 Accuracy: 0.2375781238079071\n",
            "Loss: 1.925220012664795 Accuracy: 0.3547656238079071\n",
            "Loss: 1.9242503643035889 Accuracy: 0.4044531285762787\n",
            "Loss: 1.8378069400787354 Accuracy: 0.439453125\n",
            "Loss: 1.9131520986557007 Accuracy: 0.47078123688697815\n",
            "Loss: 1.8550033569335938 Accuracy: 0.4790624976158142\n",
            "Loss: 1.8842772245407104 Accuracy: 0.5057031512260437\n",
            "Loss: 1.8075164556503296 Accuracy: 0.5185937285423279\n",
            "Loss: 1.8490382432937622 Accuracy: 0.5386718511581421\n",
            "0.5019\n"
          ],
          "name": "stdout"
        }
      ]
    },
    {
      "cell_type": "code",
      "metadata": {
        "id": "AZw5IBJaNDv0",
        "colab_type": "code",
        "colab": {
          "base_uri": "https://localhost:8080/",
          "height": 54
        },
        "outputId": "afb0d7ff-dd9e-46cd-9fd8-48dc6dce70e9"
      },
      "source": [
        "accuracy(model_auto_True_scratch)"
      ],
      "execution_count": null,
      "outputs": [
        {
          "output_type": "stream",
          "text": [
            "0.5019\n",
            "729 207 555\n"
          ],
          "name": "stdout"
        }
      ]
    },
    {
      "cell_type": "markdown",
      "metadata": {
        "id": "v-sy6RZtFvEA",
        "colab_type": "text"
      },
      "source": [
        "\n",
        "\n",
        "*   freezed : 0.3033,0.2961,.3164(256 samples),.31 , .387(shuffle=10000),.3963(shuffle = 10000,128 samples)\n",
        "\n",
        "*   unfreezed : 0.3161,0.3098,.3559(256 samples),.34,.57(shuffle=10000),.539(shuffle = 10000,128 samples)\n",
        "\n",
        "*   Scratch : 0.3031,0.3169,.3411(256 samples),,337,.56(shuffle=10000),.501(shuffle = 10000,128 samples)\n",
        "\n",
        "0:15\n",
        "1:9\n",
        "2:13\n",
        "3:15\n",
        "4:15\n",
        "5:7\n",
        "6:14\n",
        "7:17\n",
        "8:19\n",
        "9:4\n",
        "\n",
        "\n",
        "5 predicted:  for minority class=(1,5,9)\n",
        "model1: 486 304 446\n",
        "model2: 639 495 677\n",
        "model3: 729 207 555\n",
        "\n",
        "\n"
      ]
    }
  ]
}